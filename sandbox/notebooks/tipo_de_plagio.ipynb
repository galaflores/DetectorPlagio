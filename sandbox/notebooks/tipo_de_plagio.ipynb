{
 "cells": [
  {
   "cell_type": "code",
   "id": "a160284983477fa",
   "metadata": {
    "ExecuteTime": {
     "end_time": "2024-05-02T09:38:46.764646Z",
     "start_time": "2024-05-02T09:38:46.761657Z"
    }
   },
   "source": [
    "import numpy as np\n",
    "import nltk\n",
    "import os\n",
    "import difflib\n",
    "from gensim.models import Word2Vec\n",
    "from nltk.stem import LancasterStemmer\n",
    "from nltk.stem import WordNetLemmatizer\n",
    "nltk.download('wordnet')\n",
    "from nltk.util import ngrams\n",
    "import gensim.downloader as api\n",
    "import re\n",
    "from gensim.models.doc2vec import Doc2Vec, TaggedDocument\n",
    "nltk.download('punkt')\n",
    "\n",
    "lemmatizer = WordNetLemmatizer() #lemmatizer algorithm\n",
    "lancStemmer = LancasterStemmer()  # stemming algorithm Lancaster"
   ],
   "outputs": [
    {
     "name": "stderr",
     "output_type": "stream",
     "text": [
      "[nltk_data] Downloading package wordnet to\n",
      "[nltk_data]     /Users/sergiogonzalez/nltk_data...\n",
      "[nltk_data]   Package wordnet is already up-to-date!\n",
      "[nltk_data] Downloading package punkt to\n",
      "[nltk_data]     /Users/sergiogonzalez/nltk_data...\n",
      "[nltk_data]   Package punkt is already up-to-date!\n"
     ]
    }
   ],
   "execution_count": 28
  },
  {
   "cell_type": "markdown",
   "id": "9d86e79d49756202",
   "metadata": {},
   "source": [
    "# Preprocesamiento de texto"
   ]
  },
  {
   "cell_type": "code",
   "id": "cabc55928702054c",
   "metadata": {
    "ExecuteTime": {
     "end_time": "2024-05-02T09:38:46.833078Z",
     "start_time": "2024-05-02T09:38:46.830968Z"
    }
   },
   "source": [
    "def remove_stopwords(text):\n",
    "    stopwords = set(nltk.corpus.stopwords.words('english'))\n",
    "    palabras = [palabra.lower() for palabra in re.findall(r'\\w+', text.lower())]\n",
    "    text_lista = []\n",
    "    for palabra in palabras:\n",
    "        if palabra not in stopwords:\n",
    "            text_lista.append(palabra)\n",
    "    nuevo_texto = ' '.join(text_lista)\n",
    "    return nuevo_texto\n"
   ],
   "outputs": [],
   "execution_count": 29
  },
  {
   "cell_type": "code",
   "id": "42d531059485839a",
   "metadata": {
    "ExecuteTime": {
     "end_time": "2024-05-02T09:38:46.844845Z",
     "start_time": "2024-05-02T09:38:46.842760Z"
    }
   },
   "source": [
    "def get_lemmatizer(text):\n",
    "    palabras = remove_stopwords(text)\n",
    "    palabras = palabras.split()\n",
    "    text_lista = []\n",
    "    for palabra in palabras:\n",
    "        nueva = lemmatizer.lemmatize(palabra)\n",
    "        text_lista.append(nueva)\n",
    "    nuevo_texto = ' '.join(text_lista)\n",
    "    return nuevo_texto"
   ],
   "outputs": [],
   "execution_count": 30
  },
  {
   "cell_type": "code",
   "id": "e3366f7a6073761d",
   "metadata": {
    "ExecuteTime": {
     "end_time": "2024-05-02T09:38:46.855758Z",
     "start_time": "2024-05-02T09:38:46.853898Z"
    }
   },
   "source": [
    "def get_stemmer(text):\n",
    "    palabras = remove_stopwords(text)\n",
    "    palabras = palabras.split()\n",
    "    text_lista = []\n",
    "    for palabra in palabras:\n",
    "        nueva = lancStemmer.stem(palabra)\n",
    "        text_lista.append(nueva)\n",
    "    nuevo_texto = ' '.join(text_lista)\n",
    "    return nuevo_texto"
   ],
   "outputs": [],
   "execution_count": 31
  },
  {
   "cell_type": "code",
   "id": "fe7413594574936f",
   "metadata": {
    "ExecuteTime": {
     "end_time": "2024-05-02T09:38:46.859658Z",
     "start_time": "2024-05-02T09:38:46.857214Z"
    }
   },
   "source": [
    "def get_grams(text, ngram, method):\n",
    "    result = []\n",
    "\n",
    "    if method == 'lemmatize':\n",
    "        text = get_lemmatizer(text)\n",
    "        if ngram == 0:  # Si ngram es 0, se retorna el texto completo sin ngramas\n",
    "            text = nltk.sent_tokenize(text)\n",
    "            text = ' '.join(text)\n",
    "            return text\n",
    "\n",
    "        else:\n",
    "            text = text.split()\n",
    "            grams = ngrams(text, ngram)\n",
    "            for ng in grams:\n",
    "                result.append(' '.join(ng))\n",
    "    elif method == 'stemmer':\n",
    "        text = get_stemmer(text)\n",
    "        if ngram == 0:  # Si ngram es 0, se retorna el texto completo sin ngramas\n",
    "            text = nltk.sent_tokenize(text)\n",
    "            text = ' '.join(text)\n",
    "            return text\n",
    "\n",
    "        else:\n",
    "            text = text.split()\n",
    "            grams = ngrams(text, ngram)\n",
    "            for ng in grams:\n",
    "                result.append(' '.join(ng))\n",
    "    else:\n",
    "        raise ValueError('Method not found')\n",
    "\n",
    "    return result"
   ],
   "outputs": [],
   "execution_count": 32
  },
  {
   "cell_type": "code",
   "id": "3e783c5598be2bd",
   "metadata": {
    "ExecuteTime": {
     "end_time": "2024-05-02T09:38:46.888488Z",
     "start_time": "2024-05-02T09:38:46.886665Z"
    }
   },
   "source": [
    "def token_sentence(text):\n",
    "    sentences = nltk.sent_tokenize(text)\n",
    "    filtered_sentences = []\n",
    "    for sentence in sentences:\n",
    "        filtered_words = get_lemmatizer(sentence)\n",
    "        filtered_sentences.append(filtered_words)\n",
    "\n",
    "    return filtered_sentences"
   ],
   "outputs": [],
   "execution_count": 33
  },
  {
   "cell_type": "markdown",
   "id": "d538115095025094",
   "metadata": {},
   "source": [
    "# Deteccion de plagio"
   ]
  },
  {
   "cell_type": "code",
   "id": "aac47f6a85ab8cbd",
   "metadata": {
    "ExecuteTime": {
     "end_time": "2024-05-02T09:38:46.892159Z",
     "start_time": "2024-05-02T09:38:46.889935Z"
    }
   },
   "source": [
    "def preprocess_docs(folder_path, ngram, method):\n",
    "    tagged_documents = []\n",
    "    for fileid in os.listdir(folder_path):\n",
    "        if fileid.endswith(\".txt\"):\n",
    "            filepath = os.path.join(folder_path, fileid)\n",
    "            \n",
    "            with open(filepath, 'r', encoding='latin1', errors='ignore') as file:\n",
    "                text = file.read()\n",
    "                grams = get_grams(text, ngram, method)\n",
    "                # Ensure words are split into a list of strings and then converted to tuple\n",
    "                words = tuple(word.split() for word in grams)\n",
    "                # Flatten the list of lists into a single list of strings\n",
    "                words = [word for sublist in words for word in sublist]\n",
    "                tagged_documents.append(TaggedDocument(words=words, tags=[fileid]))\n",
    "\n",
    "    return tagged_documents"
   ],
   "outputs": [],
   "execution_count": 34
  },
  {
   "cell_type": "code",
   "id": "f6c0ca04",
   "metadata": {
    "ExecuteTime": {
     "end_time": "2024-05-02T09:38:46.902013Z",
     "start_time": "2024-05-02T09:38:46.899726Z"
    }
   },
   "source": [
    "def preprocess_docs_with_sentence(folder_path, ngram, method):\n",
    "    tagged_documents = []\n",
    "    for fileid in os.listdir(folder_path):\n",
    "        if fileid.endswith(\".txt\"):\n",
    "            filepath = os.path.join(folder_path, fileid)\n",
    "            \n",
    "            with open(filepath, 'r', encoding='latin1', errors='ignore') as file:\n",
    "                text = file.read()\n",
    "                sentences = nltk.sent_tokenize(text)  # Tokenizar el texto en oraciones\n",
    "                document_sentences = []  # Lista para almacenar las oraciones del documento\n",
    "\n",
    "                for sentence in sentences:\n",
    "                    grams = get_grams(sentence, ngram, method)\n",
    "                    # Separar las palabras y agregarlas a la lista de oraciones del documento\n",
    "                    words = [word for gram in grams for word in gram.split()]\n",
    "                    document_sentences.append(words)\n",
    "                \n",
    "                tagged_documents.append(TaggedDocument(words=document_sentences, tags=[fileid]))\n",
    "\n",
    "    return tagged_documents"
   ],
   "outputs": [],
   "execution_count": 35
  },
  {
   "cell_type": "markdown",
   "id": "f9b65cf6965f9b04",
   "metadata": {},
   "source": [
    "# Deteccion de Tipo de plagio"
   ]
  },
  {
   "cell_type": "code",
   "id": "8e0d2eeb",
   "metadata": {
    "ExecuteTime": {
     "end_time": "2024-05-02T09:38:46.912115Z",
     "start_time": "2024-05-02T09:38:46.910395Z"
    }
   },
   "source": [
    "def detect_sentence_disorder(original_sentences, plagio_sentences):\n",
    "    #cantidad de oraciones es diferente, hay desorden\n",
    "    if len(original_sentences) != len(plagio_sentences):\n",
    "        return True\n",
    "    \n",
    "    #verifica si el orden de las oraciones es diferente\n",
    "    for original, plagio in zip(original_sentences, plagio_sentences):\n",
    "        if original != plagio:\n",
    "            return True\n",
    "        \n",
    "    return False"
   ],
   "outputs": [],
   "execution_count": 36
  },
  {
   "cell_type": "code",
   "id": "9938dba7",
   "metadata": {
    "ExecuteTime": {
     "end_time": "2024-05-02T09:38:46.935434Z",
     "start_time": "2024-05-02T09:38:46.933231Z"
    }
   },
   "source": [
    "from nltk import pos_tag\n",
    "def detect_time_change(og_text, plagio_text):\n",
    "    original_verbs = [word for word, pos in nltk.pos_tag(nltk.word_tokenize(og_text)) if pos.startswith('VB')]\n",
    "    suspicious_verbs = [word for word, pos in nltk.pos_tag(nltk.word_tokenize(plagio_text)) if pos.startswith('VB')]\n",
    "\n",
    "    # Si la lista de verbos es diferente, hay un cambio de tiempo\n",
    "    if set(original_verbs) != set(suspicious_verbs):\n",
    "        return True\n",
    "            \n",
    "    return False"
   ],
   "outputs": [],
   "execution_count": 37
  },
  {
   "cell_type": "code",
   "id": "48c4394f",
   "metadata": {
    "ExecuteTime": {
     "end_time": "2024-05-02T09:38:46.938269Z",
     "start_time": "2024-05-02T09:38:46.936221Z"
    }
   },
   "source": [
    "def detect_inserted_sentences(og_text, plagio_text):\n",
    "    og_sentences = token_sentence(og_text)\n",
    "    plagio_sentences = token_sentence(plagio_text)\n",
    "    \n",
    "    #si el plagio tiene mas oraciones que el original, hay oraciones insertadas\n",
    "    if len(plagio_sentences) > len(og_sentences):\n",
    "        return True\n",
    "    \n",
    "    #si el plagio tiene menos oraciones que el original, hay oraciones eliminadas\n",
    "    if len(plagio_sentences) < len(og_sentences):\n",
    "        return True\n",
    "    \n",
    "    #verifica si el orden de las oraciones es diferente\n",
    "    if detect_sentence_disorder(og_sentences, plagio_sentences):\n",
    "        return True\n",
    "    \n",
    "    return False"
   ],
   "outputs": [],
   "execution_count": 38
  },
  {
   "cell_type": "code",
   "id": "34eabd47",
   "metadata": {
    "ExecuteTime": {
     "end_time": "2024-05-02T09:38:46.948111Z",
     "start_time": "2024-05-02T09:38:46.946148Z"
    }
   },
   "source": [
    "def detect_voice_change(og_text, plagio_text):\n",
    "    original_verbs = [word for word, pos in nltk.pos_tag(nltk.word_tokenize(og_text)) if pos.startswith('VB')]\n",
    "    suspicious_verbs = [word for word, pos in nltk.pos_tag(nltk.word_tokenize(plagio_text)) if pos.startswith('VB')]\n",
    "\n",
    "    # Si la lista de verbos es diferente, hay un cambio de voz\n",
    "    if set(original_verbs) != set(suspicious_verbs):\n",
    "        return True\n",
    "            \n",
    "    return False"
   ],
   "outputs": [],
   "execution_count": 39
  },
  {
   "cell_type": "code",
   "id": "e083d009",
   "metadata": {
    "ExecuteTime": {
     "end_time": "2024-05-02T09:38:46.950608Z",
     "start_time": "2024-05-02T09:38:46.948949Z"
    }
   },
   "source": [
    "def detect_paraphrasing(og_text, plagio_text, model):\n",
    "    similarity_threshold = 0.95  # Umbral de similitud para considerar el parafraseo\n",
    "\n",
    "    similarity = calculate_similarity_doc2vec(og_text, plagio_text, model)\n",
    "    if similarity >= similarity_threshold:\n",
    "        return True\n",
    "    else:\n",
    "        return False"
   ],
   "outputs": [],
   "execution_count": 40
  },
  {
   "cell_type": "markdown",
   "id": "2f5e8b1c2894b197",
   "metadata": {},
   "source": [
    "# Generacion de modelo, entrenamiento y calculo de similitud"
   ]
  },
  {
   "cell_type": "code",
   "id": "5fa60796b8922db4",
   "metadata": {
    "ExecuteTime": {
     "end_time": "2024-05-02T09:38:46.958413Z",
     "start_time": "2024-05-02T09:38:46.956841Z"
    }
   },
   "source": [
    "def train_doc2vec(tagged_documents):\n",
    "    model = Doc2Vec(vector_size=100, window=5, min_count=1, epochs=200,\n",
    "                    dm=0)  # dm=0 for distributed bag of words (DBOW) mode\n",
    "    model.build_vocab(tagged_documents)\n",
    "    model.train(tagged_documents, total_examples=model.corpus_count, epochs=model.epochs)\n",
    "    return model"
   ],
   "outputs": [],
   "execution_count": 41
  },
  {
   "cell_type": "code",
   "id": "701a181f33632fd9",
   "metadata": {
    "ExecuteTime": {
     "end_time": "2024-05-02T09:38:46.961219Z",
     "start_time": "2024-05-02T09:38:46.959532Z"
    }
   },
   "source": [
    "def calculate_similarity_doc2vec(doc1, doc2, model):\n",
    "    vec1 = model.infer_vector(doc1.words)\n",
    "    vec2 = model.infer_vector(doc2.words)\n",
    "    similarity = model.dv.similarity(doc1.tags[0], doc2.tags[0])\n",
    "    return similarity"
   ],
   "outputs": [],
   "execution_count": 42
  },
  {
   "cell_type": "markdown",
   "id": "fd33183036c31d5d",
   "metadata": {},
   "source": [
    "# APLICACION DE MODELO"
   ]
  },
  {
   "cell_type": "markdown",
   "id": "f9d549ac2476a9a2",
   "metadata": {},
   "source": [
    "Preprocesamiento de documentos originales y plagiados"
   ]
  },
  {
   "cell_type": "code",
   "id": "ea3ff018",
   "metadata": {
    "ExecuteTime": {
     "end_time": "2024-05-02T09:38:47.102168Z",
     "start_time": "2024-05-02T09:38:46.969797Z"
    }
   },
   "source": [
    "# Obtener n-gramas preprocesados\n",
    "folder_path = \"../../textos_plagiados\"  # Ruta de la carpeta con los textos plagiados)\n",
    "folder_path_og = \"../../docs_originales\"  # Ruta de la carpeta con los textos originales\n",
    "\n",
    "\n",
    "# Preprocessing original and plagiarized documents\n",
    "tagged_originals = preprocess_docs(folder_path_og, 1, 'lemmatize')\n",
    "tagged_plagiarized = preprocess_docs(folder_path, 1, 'lemmatize')\n",
    "\n",
    "# Preprocessing original and plagiarized documents with sentences\n",
    "tagged_originals_with_sentence = preprocess_docs_with_sentence(folder_path_og, 1, 'lemmatize')\n",
    "tagged_plagiarized_with_sentence = preprocess_docs_with_sentence(folder_path, 1, 'lemmatize')"
   ],
   "outputs": [],
   "execution_count": 43
  },
  {
   "cell_type": "markdown",
   "id": "b8345b1f2624df1f",
   "metadata": {},
   "source": [
    "###  Entrenamiento del modelo Doc2Vec "
   ]
  },
  {
   "cell_type": "code",
   "id": "4ed9d5f29397de45",
   "metadata": {
    "ExecuteTime": {
     "end_time": "2024-05-02T09:38:48.365324Z",
     "start_time": "2024-05-02T09:38:47.103014Z"
    }
   },
   "source": [
    "# sin sentence\n",
    "model = train_doc2vec(tagged_originals + tagged_plagiarized)"
   ],
   "outputs": [],
   "execution_count": 44
  },
  {
   "cell_type": "code",
   "id": "70848c546b0d322e",
   "metadata": {
    "ExecuteTime": {
     "end_time": "2024-05-02T09:39:15.358109Z",
     "start_time": "2024-05-02T09:38:48.365895Z"
    }
   },
   "source": [
    "# List to store similarity results\n",
    "similarity_results = []\n",
    "#plagiarism_type = '' \n",
    "\n",
    "# Iterating over each plagiarized text\n",
    "for plagio_doc in tagged_plagiarized:\n",
    "    max_similarity = 0\n",
    "    most_similar = ''\n",
    "    most_similar_doc = ''\n",
    "\n",
    "    # Comparing with each original document\n",
    "    for original_doc in tagged_originals:\n",
    "        similarity = calculate_similarity_doc2vec(plagio_doc, original_doc, model)\n",
    "        if similarity > max_similarity:\n",
    "            max_similarity = similarity\n",
    "            most_similar = original_doc.tags[0]\n",
    "            most_similar_doc = original_doc.words\n",
    "\n",
    "    similarity_results.append([plagio_doc.tags[0], most_similar, max_similarity, most_similar_doc])\n",
    "\n",
    "        \n",
    "\n",
    "# Sorting results by similarity in descending order\n",
    "similarity_results.sort(key=lambda x: x[2], reverse=True)\n",
    "\n",
    "# Printing results\n",
    "for result in similarity_results:\n",
    "    plagio_title, original_title, similarity_score, original_doc = result\n",
    "    print(f\"Similarity between '{plagio_title}' and '{original_title}': {similarity_score * 100:.2f}%\")\n"
   ],
   "outputs": [
    {
     "name": "stdout",
     "output_type": "stream",
     "text": [
      "Similarity between 'FID-04.txt' and 'org-045.txt': 99.62%\n",
      "Similarity between 'FID-03.txt' and 'org-016.txt': 99.52%\n",
      "Similarity between 'FID-05.txt' and 'org-085.txt': 96.22%\n",
      "Similarity between 'FID-09.txt' and 'org-109.txt': 93.65%\n",
      "Similarity between 'FID-08.txt' and 'org-079.txt': 92.48%\n",
      "Similarity between 'FID-06.txt' and 'org-043.txt': 91.86%\n",
      "Similarity between 'FID-07.txt' and 'org-041.txt': 88.51%\n",
      "Similarity between 'FID-02.txt' and 'org-104.txt': 88.25%\n",
      "Similarity between 'FID-10.txt' and 'org-007.txt': 86.68%\n",
      "Similarity between 'FID-01.txt' and 'org-076.txt': 78.19%\n"
     ]
    }
   ],
   "execution_count": 45
  },
  {
   "cell_type": "markdown",
   "id": "f074da7bcc563b49",
   "metadata": {},
   "source": [
    "### Entrenamiento del modelo Doc2Vec con oraciones"
   ]
  },
  {
   "cell_type": "code",
   "id": "c582b2cc1a9a2d35",
   "metadata": {
    "ExecuteTime": {
     "end_time": "2024-05-02T09:39:15.361008Z",
     "start_time": "2024-05-02T09:39:15.359409Z"
    }
   },
   "source": [
    "# con sentence\n",
    "# model_with_sentence = train_doc2vec(tagged_originals_with_sentence + tagged_plagiarized_with_sentence)"
   ],
   "outputs": [],
   "execution_count": 46
  },
  {
   "cell_type": "code",
   "id": "58c2ebd9",
   "metadata": {
    "ExecuteTime": {
     "end_time": "2024-05-02T09:39:15.363767Z",
     "start_time": "2024-05-02T09:39:15.361596Z"
    }
   },
   "source": [
    "def get_plagiarism_type(doc1, doc2, model):\n",
    "    vec1 = model.infer_vector(doc1.words)\n",
    "    vec2 = model.infer_vector(doc2.words)\n",
    "\n",
    "    plagiarism_type = []\n",
    "    for plagio_doc in tagged_plagiarized:\n",
    "        max_similarity = 0\n",
    "        most_similar = ''\n",
    "        most_similar_doc = ''\n",
    "\n",
    "        # Comparing with each original document\n",
    "        for original_doc in tagged_originals:\n",
    "            similarity = calculate_similarity_doc2vec(plagio_doc, original_doc, model)\n",
    "            if similarity > max_similarity:\n",
    "                max_similarity = similarity\n",
    "                most_similar = original_doc.tags[0]\n",
    "                most_similar_doc = original_doc.words\n",
    "\n",
    "    plagiarism_type.append([plagio_doc.tags[0], most_similar, max_similarity, most_similar_doc])"
   ],
   "outputs": [],
   "execution_count": 47
  },
  {
   "cell_type": "markdown",
   "id": "91e85e2b770988ba",
   "metadata": {},
   "source": [
    "### TESTING OTROS"
   ]
  },
  {
   "cell_type": "code",
   "id": "dde913aa4a7e9855",
   "metadata": {
    "ExecuteTime": {
     "end_time": "2024-05-02T09:39:15.365668Z",
     "start_time": "2024-05-02T09:39:15.364393Z"
    }
   },
   "source": [
    "original_folder = \"../../docs_originales\"\n",
    "plagiarized_folder = \"../../textos_plagiados\""
   ],
   "outputs": [],
   "execution_count": 48
  },
  {
   "metadata": {},
   "cell_type": "markdown",
   "source": "# Clasificar tipo de plagio GALA",
   "id": "95b91945c1ac076f"
  },
  {
   "cell_type": "code",
   "id": "1752fc490b2491dc",
   "metadata": {
    "ExecuteTime": {
     "end_time": "2024-05-02T09:39:15.367702Z",
     "start_time": "2024-05-02T09:39:15.366108Z"
    }
   },
   "source": [
    "# # Classify plagiarism type \n",
    "# def classify_plagiarism_type(original_doc, plagiarized_doc):\n",
    "#     # Preprocesa los documentos\n",
    "#     original_processed = preprocess(original_doc)\n",
    "#     plagiarized_processed = preprocess(plagiarized_doc)\n",
    "# \n",
    "#     # Tokeniza los documentos en frases\n",
    "#     original_sentences = nltk.sent_tokenize(original_processed)\n",
    "#     plagiarized_sentences = nltk.sent_tokenize(plagiarized_processed)\n",
    "# \n",
    "#     # Comprueba si el plagio involucra insertar o reemplazar frases\n",
    "#     if len(original_sentences) < len(plagiarized_sentences):\n",
    "#         return \"Insertar o reemplazar frases\"\n",
    "# \n",
    "#     # Comprueba si el plagio involucra desordenar las frases\n",
    "#     if set(original_sentences) != set(plagiarized_sentences):\n",
    "#         return \"Desordenar las frases\"\n",
    "# \n",
    "#     # Comprueba si el plagio involucra cambio de tiempo\n",
    "#     # Implementa tu lógica aquí...\n",
    "# \n",
    "#     # Comprueba si el plagio involucra cambio de voz\n",
    "#     # Implementa tu lógica aquí...\n",
    "# \n",
    "#     # Comprueba si el plagio involucra parafraseo\n",
    "#     if original_processed != plagiarized_processed:\n",
    "#         return \"Parafraseo\"\n",
    "# \n",
    "#     # Si no se identifica ningún tipo específico de plagio, se devuelve un mensaje genérico\n",
    "#     return \"Tipo de plagio no identificado\"\n",
    "# \n",
    "# # Ejemplo de uso:\n",
    "# original_doc = \"El cambio climático es un problema global.\"\n",
    "# plagiarized_doc = \"El cambio climático se convierte en una preocupación a nivel mundial.\"\n",
    "# \n",
    "# plagiarism_type = classify_plagiarism_type(original_doc, plagiarized_doc)\n",
    "# print(\"Tipo de plagio:\", plagiarism_type)\n"
   ],
   "outputs": [],
   "execution_count": 49
  },
  {
   "metadata": {},
   "cell_type": "markdown",
   "source": "# Clasificar tipo de plagio SERGIO",
   "id": "91aa6c1bebb2ac8f"
  },
  {
   "cell_type": "code",
   "id": "825f68e7f113f2bc",
   "metadata": {
    "ExecuteTime": {
     "end_time": "2024-05-02T09:39:15.378361Z",
     "start_time": "2024-05-02T09:39:15.368193Z"
    }
   },
   "source": [
    "import nltk\n",
    "from difflib import SequenceMatcher\n",
    "\n",
    "nltk.download('punkt')\n",
    "\n",
    "def detectar_tipo_plagio(original, plagio):\n",
    "    tokens_original = nltk.word_tokenize(original)\n",
    "    tokens_plagio = nltk.word_tokenize(plagio)\n",
    "    similitud = SequenceMatcher(None, tokens_original, tokens_plagio).ratio()\n",
    "    if similitud == 1.0:\n",
    "        return \"Parafraseo\"\n",
    "    elif similitud >= 0.8:\n",
    "        return \"Insertar o reemplazar frases\"\n",
    "    elif similitud >= 0.6:\n",
    "        return \"Cambio de tiempo\"\n",
    "    elif similitud >= 0.4:\n",
    "        return \"Desordenar las frases\"\n",
    "    else:\n",
    "        return \"Cambio de voz\"\n",
    "\n",
    "# Recorrer cada par de documentos en similarity_results\n",
    "for result in similarity_results:\n",
    "    plagio_title, original_title, similarity_score, original_doc = result\n",
    "    original_doc_text = ' '.join([word for word in original_doc])\n",
    "    plagiarized_doc_text = [doc.words for doc in tagged_plagiarized if doc.tags[0] == plagio_title][0]\n",
    "    plagiarized_doc_text = ' '.join([word for word in plagiarized_doc_text])\n",
    "\n",
    "    # print(f\"Titulo: {plagio_title}\")\n",
    "    print(f\"Similitud entre '{plagio_title}' y '{original_title}': {similarity_score * 100:.2f}%\")\n",
    "    tipo_plagio = detectar_tipo_plagio(original_doc_text, plagiarized_doc_text)\n",
    "    print(\"Tipo de plagio:\", tipo_plagio)\n",
    "    # print(\"Coincidencias para el plagio:\")\n",
    "    print(\"----------------------------\")\n",
    "    # print(f\"Cadena original: (Longitud: {len(original_doc_text)})\")\n",
    "    # print(f\"Cadena plagiada:  (Longitud: {len(plagiarized_doc_text)})\")\n",
    "    # print()\n"
   ],
   "outputs": [
    {
     "name": "stdout",
     "output_type": "stream",
     "text": [
      "Similitud entre 'FID-04.txt' y 'org-045.txt': 99.62%\n",
      "Tipo de plagio: Desordenar las frases\n",
      "----------------------------\n",
      "Similitud entre 'FID-03.txt' y 'org-016.txt': 99.52%\n",
      "Tipo de plagio: Cambio de tiempo\n",
      "----------------------------\n",
      "Similitud entre 'FID-05.txt' y 'org-085.txt': 96.22%\n",
      "Tipo de plagio: Insertar o reemplazar frases\n",
      "----------------------------\n",
      "Similitud entre 'FID-09.txt' y 'org-109.txt': 93.65%\n",
      "Tipo de plagio: Cambio de tiempo\n",
      "----------------------------\n",
      "Similitud entre 'FID-08.txt' y 'org-079.txt': 92.48%\n",
      "Tipo de plagio: Cambio de tiempo\n",
      "----------------------------\n",
      "Similitud entre 'FID-06.txt' y 'org-043.txt': 91.86%\n",
      "Tipo de plagio: Insertar o reemplazar frases\n",
      "----------------------------\n",
      "Similitud entre 'FID-07.txt' y 'org-041.txt': 88.51%\n",
      "Tipo de plagio: Cambio de tiempo\n",
      "----------------------------\n",
      "Similitud entre 'FID-02.txt' y 'org-104.txt': 88.25%\n",
      "Tipo de plagio: Cambio de tiempo\n",
      "----------------------------\n",
      "Similitud entre 'FID-10.txt' y 'org-007.txt': 86.68%\n",
      "Tipo de plagio: Cambio de tiempo\n",
      "----------------------------\n",
      "Similitud entre 'FID-01.txt' y 'org-076.txt': 78.19%\n",
      "Tipo de plagio: Cambio de tiempo\n",
      "----------------------------\n"
     ]
    },
    {
     "name": "stderr",
     "output_type": "stream",
     "text": [
      "[nltk_data] Downloading package punkt to\n",
      "[nltk_data]     /Users/sergiogonzalez/nltk_data...\n",
      "[nltk_data]   Package punkt is already up-to-date!\n"
     ]
    }
   ],
   "execution_count": 50
  },
  {
   "metadata": {},
   "cell_type": "markdown",
   "source": "# INTENTO DE MEJORA",
   "id": "4b6feea8815c6b74"
  },
  {
   "cell_type": "code",
   "id": "eaf3c8531a7108d6",
   "metadata": {
    "ExecuteTime": {
     "end_time": "2024-05-02T09:39:15.391672Z",
     "start_time": "2024-05-02T09:39:15.379125Z"
    }
   },
   "source": [
    "import nltk\n",
    "from difflib import SequenceMatcher\n",
    "\n",
    "nltk.download('punkt')\n",
    "\n",
    "def detectar_tipo_plagio(original, plagio):\n",
    "    tokens_original = nltk.word_tokenize(original)\n",
    "    tokens_plagio = nltk.word_tokenize(plagio)\n",
    "    similitud = SequenceMatcher(None, tokens_original, tokens_plagio).ratio()\n",
    "    \n",
    "    # Obtener tokens de n-gramas\n",
    "    ngrams_original = set(nltk.ngrams(tokens_original, 2))\n",
    "    ngrams_plagio = set(nltk.ngrams(tokens_plagio, 2))\n",
    "    \n",
    "    print(\"ngrams originales: \", ngrams_original)\n",
    "    print(\"ngrams plagio: \", ngrams_plagio)\n",
    "    # Verificar la cantidad de n-gramas compartidos\n",
    "    shared_ngrams = len(ngrams_original.intersection(ngrams_plagio))\n",
    "    total_ngrams = len(ngrams_original.union(ngrams_plagio))\n",
    "    ratio_ngrams = shared_ngrams / total_ngrams\n",
    "    \n",
    "    # Mejorar la detección de tipo de plagio utilizando más criterios\n",
    "    if similitud == 1.0:\n",
    "        return \"Parafraseo\"\n",
    "    elif ratio_ngrams > 0.8:\n",
    "        return \"Parafraseo o reordenamiento de frases\"\n",
    "    elif ratio_ngrams > 0.5:\n",
    "        return \"Reordenamiento de frases\"\n",
    "    elif similitud > 0.8:\n",
    "        return \"Parafraseo o inserción de frases\"\n",
    "    elif similitud > 0.6:\n",
    "        return \"Inserción de frases\"\n",
    "    elif similitud > 0.4:\n",
    "        return \"Cambio de tiempo o desorden de frases\"\n",
    "    else:\n",
    "        return \"Cambio de voz\"\n",
    "\n",
    "# Recorrer cada par de documentos en similarity_results\n",
    "for result in similarity_results:\n",
    "    plagio_title, original_title, similarity_score, original_doc = result\n",
    "    original_doc_text = ' '.join([word for word in original_doc])\n",
    "    plagiarized_doc_text = [doc.words for doc in tagged_plagiarized if doc.tags[0] == plagio_title][0]\n",
    "    plagiarized_doc_text = ' '.join([word for word in plagiarized_doc_text])\n",
    "\n",
    "    print(f\"Titulo: {plagio_title}\")\n",
    "    print(f\"Similitud entre '{plagio_title}' y '{original_title}': {similarity_score * 100:.2f}%\")\n",
    "    tipo_plagio = detectar_tipo_plagio(original_doc_text, plagiarized_doc_text)\n",
    "    print(\"Tipo de plagio:\", tipo_plagio)\n",
    "    print(\"Coincidencias para el plagio:\")\n",
    "    print(\"----------------------------\")\n",
    "    print(f\"Cadena original: (Longitud: {len(original_doc_text)})\")\n",
    "    print(f\"Cadena plagiada:  (Longitud: {len(plagiarized_doc_text)})\")\n",
    "    print()\n"
   ],
   "outputs": [
    {
     "name": "stdout",
     "output_type": "stream",
     "text": [
      "Titulo: FID-04.txt\n",
      "Similitud entre 'FID-04.txt' y 'org-045.txt': 99.62%\n",
      "ngrams originales:  {('order', 'understand'), ('empathic', 'performance'), ('owl', 'may'), ('performance', 'intelligent'), ('intervention', 'increased'), ('language', 'owl'), ('engage', 'user'), ('user', 'interpersonal'), ('formal', 'definition'), ('wysa', 'finding'), ('variety', 'definition'), ('definition', 'capture'), ('behavior', 'change'), ('capture', 'necessary'), ('implemented', 'web'), ('interactive', 'software'), ('agent', 'chatbots'), ('interpersonal', 'conversation'), ('need', 'understanding'), ('user', 'study'), ('necessary', 'condition'), ('well', 'chatbots'), ('changing', 'perception'), ('empathy', 'two'), ('ontologyâ', 'empathy'), ('well', 'formal'), ('notion', 'empathy'), ('uncover', 'explain'), ('progressively', 'used'), ('software', 'agent'), ('precise', 'notion'), ('may', 'serve'), ('enabling', 'system'), ('definition', 'controlled'), ('agent', 'engage'), ('evaluating', 'empathic'), ('interactive', 'agent'), ('study', 'applying'), ('comfort', 'behavior'), ('health', 'well'), ('serve', 'automated'), ('application', 'agent'), ('current', 'state'), ('agent', 'uncover'), ('potential', 'formal'), ('recent', 'approach'), ('empathy', 'interactive'), ('present', 'potential'), ('capability', 'interlocutor'), ('empathy', 'literature'), ('agent', 'evaluating'), ('controlled', 'user'), ('interactionsâ', 'interactive'), ('conversation', 'e'), ('understanding', 'agentsâ'), ('capability', 'current'), ('empathy', 'developed'), ('assessing', 'empathic'), ('empathy', 'interactionsâ'), ('definition', 'based'), ('change', 'intervention'), ('art', 'tool'), ('empathic', 'capability'), ('definition', 'implemented'), ('definition', 'empathy'), ('agent', 'health'), ('area', 'health'), ('understand', 'empathic'), ('qualitative', 'analysis'), ('formal', 'definitionâ'), ('explain', 'trend'), ('empathy', 'consensus'), ('system', 'assessing'), ('tool', 'assessing'), ('assessing', 'empathy'), ('based', 'systematic'), ('state', 'art'), ('automated', 'tool'), ('system', 'recognize'), ('literature', 'discus'), ('chatbots', 'replika'), ('time', 'definition'), ('developed', 'present'), ('intelligent', 'system'), ('finding', 'suggest'), ('applying', 'tool'), ('definitionâ', 'ontologyâ'), ('literature', 'review'), ('art', 'health'), ('chatbots', 'progressively'), ('suggest', 'definition'), ('coaching', 'comfort'), ('recognize', 'empathy'), ('replika', 'wysa'), ('trend', 'changing'), ('review', 'qualitative'), ('systematic', 'literature'), ('need', 'precise'), ('e', 'g'), ('capability', 'interactive'), ('tool', 'enabling'), ('consensus', 'formal'), ('two', 'state'), ('tool', 'order'), ('increased', 'need'), ('condition', 'assessing'), ('discus', 'variety'), ('agentsâ', 'empathic'), ('analysis', 'recent'), ('agent', 'need'), ('ontology', 'language'), ('used', 'area'), ('perception', 'empathy'), ('web', 'ontology'), ('empathy', 'time'), ('g', 'coaching'), ('well', 'application'), ('approach', 'empathy')}\n",
      "ngrams plagio:  {('order', 'understand'), ('empathic', 'performance'), ('owl', 'may'), ('performance', 'intelligent'), ('intervention', 'increased'), ('language', 'owl'), ('engage', 'user'), ('user', 'interpersonal'), ('formal', 'definition'), ('wysa', 'finding'), ('interlocutor', 'current'), ('implemented', 'web'), ('definition', 'capture'), ('variety', 'definition'), ('capture', 'necessary'), ('behavior', 'change'), ('well', 'definition'), ('interactive', 'software'), ('agent', 'chatbots'), ('interpersonal', 'conversation'), ('need', 'understanding'), ('user', 'study'), ('necessary', 'condition'), ('well', 'chatbots'), ('changing', 'perception'), ('empathy', 'two'), ('definition', 'application'), ('ontologyâ', 'empathy'), ('well', 'formal'), ('notion', 'empathy'), ('uncover', 'explain'), ('progressively', 'used'), ('software', 'agent'), ('precise', 'notion'), ('may', 'serve'), ('enabling', 'system'), ('definition', 'controlled'), ('agent', 'engage'), ('evaluating', 'empathic'), ('interactive', 'agent'), ('study', 'applying'), ('comfort', 'behavior'), ('health', 'well'), ('serve', 'automated'), ('application', 'agent'), ('current', 'state'), ('agent', 'uncover'), ('potential', 'formal'), ('recent', 'approach'), ('empathy', 'interactive'), ('present', 'potential'), ('capability', 'interlocutor'), ('empathy', 'literature'), ('agent', 'evaluating'), ('controlled', 'user'), ('interactionsâ', 'interactive'), ('conversation', 'e'), ('empathy', 'developed'), ('understanding', 'agentsâ'), ('assessing', 'empathic'), ('empathy', 'interactionsâ'), ('art', 'tool'), ('change', 'intervention'), ('empathic', 'capability'), ('definition', 'implemented'), ('definition', 'empathy'), ('agent', 'health'), ('area', 'health'), ('qualitative', 'analysis'), ('formal', 'definitionâ'), ('understand', 'empathic'), ('explain', 'trend'), ('empathy', 'consensus'), ('system', 'assessing'), ('tool', 'assessing'), ('assessing', 'empathy'), ('based', 'systematic'), ('automated', 'tool'), ('state', 'art'), ('system', 'recognize'), ('literature', 'discus'), ('chatbots', 'replika'), ('intelligent', 'system'), ('finding', 'suggest'), ('tool', 'present'), ('applying', 'tool'), ('definitionâ', 'ontologyâ'), ('art', 'health'), ('literature', 'review'), ('chatbots', 'progressively'), ('suggest', 'definition'), ('coaching', 'comfort'), ('recognize', 'empathy'), ('replika', 'wysa'), ('trend', 'changing'), ('review', 'qualitative'), ('systematic', 'literature'), ('developed', 'order'), ('time', 'based'), ('need', 'precise'), ('e', 'g'), ('capability', 'interactive'), ('tool', 'enabling'), ('two', 'state'), ('consensus', 'formal'), ('increased', 'need'), ('condition', 'assessing'), ('discus', 'variety'), ('agentsâ', 'empathic'), ('analysis', 'recent'), ('agent', 'need'), ('ontology', 'language'), ('used', 'area'), ('perception', 'empathy'), ('web', 'ontology'), ('empathy', 'time'), ('g', 'coaching'), ('approach', 'empathy')}\n",
      "Tipo de plagio: Parafraseo o reordenamiento de frases\n",
      "Coincidencias para el plagio:\n",
      "----------------------------\n",
      "Cadena original: (Longitud: 1098)\n",
      "Cadena plagiada:  (Longitud: 1098)\n",
      "\n",
      "Titulo: FID-03.txt\n",
      "Similitud entre 'FID-03.txt' y 'org-016.txt': 99.52%\n",
      "ngrams originales:  {('technology', 'ep'), ('technology', 'certain'), ('present', 'visual'), ('algorithm', 'realize'), ('83', '5'), ('embedded', 'hardware'), ('positive', 'evaluation'), ('student', 'expert'), ('analysis', 'human'), ('x', 'much'), ('problem', 'low'), ('unstable', 'system'), ('human', 'computer'), ('however', 'ai'), ('requirement', 'improve'), ('16', '5'), ('evaluation', 'accounted'), ('field', 'received'), ('relationship', 'ai'), ('security', 'data'), ('showed', 'condition'), ('evaluation', 'system'), ('based', 'ai'), ('intelligence', 'ai'), ('practical', 'application'), ('also', 'face'), ('application', 'artificial'), ('however', 'positive'), ('certain', 'extent'), ('designed', 'ep'), ('system', 'indicated'), ('system', 'accounted'), ('realize', 'intelligent'), ('visual', 'platform'), ('good', 'response'), ('computer', 'performance'), ('accounted', '19'), ('system', 'achieved'), ('smart', 'home'), ('x', '16'), ('respectively', 'however'), ('v', 'based'), ('accounted', '81'), ('positive', 'relationship'), ('development', 'seriously'), ('indicated', 'system'), ('hardware', 'design'), ('negative', 'evaluation'), ('ep', 'v'), ('performance', 'paper'), ('interaction', 'etc'), ('design', 'support'), ('problem', 'network'), ('overall', 'development'), ('19', '4'), ('home', 'field'), ('efficiency', 'certain'), ('showed', 'positive'), ('face', 'problem'), ('network', 'security'), ('interaction', 'target'), ('technology', 'platform'), ('intelligent', 'robot'), ('recognition', 'efficiency'), ('90', 'positive'), ('96', 'proportion'), ('control', 'smart'), ('achieved', 'remarkable'), ('x', 'meet'), ('target', 'detection'), ('development', 'efficiency'), ('seriously', 'hampered'), ('ai', 'technology'), ('received', 'good'), ('computer', 'interaction'), ('system', 'performance'), ('5', '10'), ('machine', 'svm'), ('condition', 'student'), ('10', 'negative'), ('4', 'negative'), ('expert', '83'), ('extent', 'showed'), ('present', 'application'), ('result', 'showed'), ('proportion', 'positive'), ('etc', 'present'), ('81', '96'), ('5', '90'), ('performance', 'also'), ('platform', 'embedded'), ('meet', 'actual'), ('test', 'result'), ('evaluation', 'respectively'), ('actual', 'application'), ('artificial', 'intelligence'), ('detection', 'function'), ('combined', 'embedded'), ('low', 'overall'), ('system', 'recognition'), ('function', 'test'), ('data', 'analysis'), ('application', 'development'), ('remarkable', 'result'), ('ep', 'vision'), ('application', 'requirement'), ('ai', 'industrial'), ('vector', 'machine'), ('svm', 'algorithm'), ('platform', 'combined'), ('support', 'vector'), ('response', 'however'), ('hampered', 'problem'), ('certain', 'requirement'), ('requirement', 'computer'), ('paper', 'designed'), ('efficiency', 'unstable'), ('system', 'v'), ('higher', 'system'), ('industrial', 'control'), ('robot', 'interaction'), ('system', 'x'), ('embedded', 'system'), ('result', 'practical'), ('much', 'higher'), ('improve', 'system'), ('vision', 'system')}\n",
      "ngrams plagio:  {('technology', 'ep'), ('technology', 'certain'), ('present', 'visual'), ('algorithm', 'realize'), ('83', '5'), ('embedded', 'hardware'), ('positive', 'evaluation'), ('student', 'expert'), ('analysis', 'human'), ('x', 'much'), ('problem', 'low'), ('unstable', 'system'), ('human', 'computer'), ('however', 'ai'), ('requirement', 'improve'), ('16', '5'), ('evaluation', 'accounted'), ('field', 'received'), ('relationship', 'ai'), ('security', 'data'), ('showed', 'condition'), ('evaluation', 'system'), ('based', 'ai'), ('intelligence', 'ai'), ('practical', 'application'), ('also', 'face'), ('application', 'artificial'), ('certain', 'extent'), ('however', 'positive'), ('designed', 'ep'), ('system', 'indicated'), ('system', 'accounted'), ('realize', 'intelligent'), ('visual', 'platform'), ('good', 'response'), ('computer', 'performance'), ('accounted', '19'), ('system', 'achieved'), ('smart', 'home'), ('x', '16'), ('v', 'based'), ('positive', 'relationship'), ('accounted', '81'), ('development', 'seriously'), ('indicated', 'system'), ('hardware', 'design'), ('negative', 'evaluation'), ('ep', 'v'), ('interaction', 'etc'), ('96', 'however'), ('design', 'support'), ('problem', 'network'), ('overall', 'development'), ('showed', 'positive'), ('home', 'field'), ('efficiency', 'certain'), ('19', '4'), ('face', 'problem'), ('network', 'security'), ('interaction', 'target'), ('technology', 'platform'), ('intelligent', 'robot'), ('recognition', 'efficiency'), ('90', 'positive'), ('control', 'smart'), ('achieved', 'remarkable'), ('x', 'meet'), ('target', 'detection'), ('development', 'efficiency'), ('seriously', 'hampered'), ('ai', 'technology'), ('received', 'good'), ('computer', 'interaction'), ('system', 'performance'), ('5', '10'), ('machine', 'svm'), ('condition', 'student'), ('10', 'negative'), ('4', 'negative'), ('expert', '83'), ('present', 'application'), ('result', 'showed'), ('proportion', 'positive'), ('etc', 'present'), ('81', '96'), ('performance', 'test'), ('5', '90'), ('performance', 'also'), ('extent', 'however'), ('platform', 'embedded'), ('meet', 'actual'), ('test', 'result'), ('evaluation', 'respectively'), ('actual', 'application'), ('artificial', 'intelligence'), ('detection', 'function'), ('combined', 'embedded'), ('low', 'overall'), ('system', 'recognition'), ('data', 'analysis'), ('application', 'development'), ('remarkable', 'result'), ('ep', 'vision'), ('application', 'requirement'), ('ai', 'industrial'), ('respectively', 'paper'), ('vector', 'machine'), ('svm', 'algorithm'), ('platform', 'combined'), ('support', 'vector'), ('v', 'proportion'), ('response', 'however'), ('hampered', 'problem'), ('certain', 'requirement'), ('requirement', 'computer'), ('paper', 'designed'), ('efficiency', 'unstable'), ('system', 'v'), ('higher', 'system'), ('industrial', 'control'), ('system', 'x'), ('robot', 'interaction'), ('function', 'showed'), ('embedded', 'system'), ('result', 'practical'), ('much', 'higher'), ('improve', 'system'), ('vision', 'system')}\n",
      "Tipo de plagio: Parafraseo o reordenamiento de frases\n",
      "Coincidencias para el plagio:\n",
      "----------------------------\n",
      "Cadena original: (Longitud: 1060)\n",
      "Cadena plagiada:  (Longitud: 1146)\n",
      "\n",
      "Titulo: FID-05.txt\n",
      "Similitud entre 'FID-05.txt' y 'org-085.txt': 96.22%\n",
      "ngrams originales:  {('four', 'bio'), ('address', 'issue'), ('classified', 'data'), ('remote', 'healthcare'), ('cardiovascular', 'disease'), ('physiological', 'data'), ('simulator', 'cloudsim'), ('however', 'predicting'), ('method', 'achieves'), ('disease', 'initially'), ('controller', 'receives'), ('91', '88'), ('collected', 'data'), ('iot', 'sensor'), ('recommendation', 'cardiac'), ('hcbda', 'mlbpm'), ('unit', 'attention'), ('attention', 'model'), ('diagnosis', 'result'), ('thing', 'iot'), ('classify', 'five'), ('class', 'recommendation'), ('receives', 'collected'), ('bigru', 'bidirectional'), ('using', 'real'), ('provides', 'physical'), ('application', 'performance'), ('disease', 'cardiovascular'), ('application', 'provide'), ('overall', 'accuracy'), ('model', 'implemented'), ('cardio', 'proposed'), ('collected', 'patientâ'), ('pulse', 'sensor'), ('proposed', 'providing'), ('initially', 'physiological'), ('statlog', 'heart'), ('accuracy', '99'), ('using', 'iot'), ('disease', 'complex'), ('rarely', 'accurate'), ('svm', 'hcbda'), ('complex', 'task'), ('performance', 'deep'), ('achieves', 'overall'), ('sensor', 'arduino'), ('predict', 'diagnose'), ('system', 'cardiovascular'), ('medical', 'service'), ('model', 'diagnose'), ('86', '91'), ('novel', 'recommendation'), ('cardiac', 'disease'), ('sensor', 'ecg'), ('cardio', 'validated'), ('63', 'respectively'), ('88', '65'), ('iot', 'based'), ('implemented', 'using'), ('mabc', 'svm'), ('arduino', 'controller'), ('pressure', 'sensor'), ('ecg', 'sensor'), ('patient', 'based'), ('accurate', 'address'), ('issue', 'novel'), ('prior', 'diagnosis'), ('65', '93'), ('mlbpm', 'method'), ('data', 'via'), ('iot', 'network'), ('based', 'classified'), ('patientâ', 'remotely'), ('90', 'whereas'), ('bio', 'sensor'), ('remotely', 'using'), ('disease', 'dataset'), ('cardio', 'method'), ('via', 'user'), ('real', 'time'), ('time', 'framinghamâ'), ('providing', 'prior'), ('available', 'cardiovascular'), ('prediction', 'using'), ('predicting', 'heart'), ('proposed', 'deep'), ('patient', 'risk'), ('cardiac', 'patient'), ('recurrent', 'unit'), ('sensor', 'glucose'), ('cardiovascular', 'class'), ('five', 'available'), ('glucose', 'sensor'), ('heart', 'disease'), ('validated', 'cloud'), ('prediction', 'model'), ('data', 'iot'), ('cloudsim', 'using'), ('service', 'patient'), ('diagnose', 'cardiovascular'), ('sensor', 'predict'), ('disease', 'prediction'), ('task', 'diagnosis'), ('93', '63'), ('sensor', 'pulse'), ('bidirectional', 'gated'), ('physical', 'dietary'), ('network', 'deep'), ('framinghamâ', 'statlog'), ('deep', 'cardio'), ('internet', 'thing'), ('user', 'mobile'), ('cloud', 'simulator'), ('achieves', '86'), ('risk', 'however'), ('preventative', 'medical'), ('using', 'bigru'), ('diagnosis', 'treatment'), ('system', 'provides'), ('dietary', 'recommendation'), ('disease', 'classify'), ('fast', 'preventative'), ('gated', 'recurrent'), ('whereas', 'mabc'), ('result', 'rarely'), ('diagnose', 'disease'), ('dataset', 'proposed'), ('provide', 'fast'), ('based', 'remote'), ('99', '90'), ('treatment', 'dietary'), ('using', 'four'), ('mobile', 'application'), ('data', 'collected'), ('sensor', 'pressure'), ('healthcare', 'application'), ('recommendation', 'system')}\n",
      "ngrams plagio:  {('four', 'bio'), ('address', 'issue'), ('classified', 'data'), ('remote', 'healthcare'), ('cardiovascular', 'disease'), ('physiological', 'data'), ('simulator', 'cloudsim'), ('however', 'predicting'), ('disease', 'initially'), ('91', '88'), ('received', 'collected'), ('collected', 'data'), ('iot', 'sensor'), ('recommendation', 'cardiac'), ('hcbda', 'mlbpm'), ('unit', 'attention'), ('attention', 'model'), ('diagnosis', 'result'), ('thing', 'iot'), ('system', 'provided'), ('class', 'recommendation'), ('bigru', 'bidirectional'), ('using', 'real'), ('achieved', 'overall'), ('application', 'performance'), ('disease', 'cardiovascular'), ('overall', 'accuracy'), ('model', 'implemented'), ('cardio', 'proposed'), ('collected', 'patientâ'), ('pulse', 'sensor'), ('proposed', 'providing'), ('initially', 'physiological'), ('statlog', 'heart'), ('accuracy', '99'), ('using', 'iot'), ('disease', 'complex'), ('rarely', 'accurate'), ('svm', 'hcbda'), ('complex', 'task'), ('performance', 'deep'), ('sensor', 'arduino'), ('predict', 'diagnose'), ('system', 'cardiovascular'), ('medical', 'service'), ('86', '91'), ('novel', 'recommendation'), ('cardiac', 'disease'), ('sensor', 'ecg'), ('cardio', 'validated'), ('63', 'respectively'), ('88', '65'), ('iot', 'based'), ('implemented', 'using'), ('mabc', 'svm'), ('arduino', 'controller'), ('pressure', 'sensor'), ('ecg', 'sensor'), ('patient', 'based'), ('method', 'achieved'), ('accurate', 'address'), ('issue', 'novel'), ('prior', 'diagnosis'), ('65', '93'), ('provided', 'physical'), ('mlbpm', 'method'), ('data', 'via'), ('iot', 'network'), ('based', 'classified'), ('patientâ', 'remotely'), ('90', 'whereas'), ('bio', 'sensor'), ('remotely', 'using'), ('disease', 'dataset'), ('cardio', 'method'), ('via', 'user'), ('real', 'time'), ('time', 'framinghamâ'), ('diagnosed', 'cardiovascular'), ('providing', 'prior'), ('available', 'cardiovascular'), ('prediction', 'using'), ('predicting', 'heart'), ('proposed', 'deep'), ('patient', 'risk'), ('cardiac', 'patient'), ('recurrent', 'unit'), ('sensor', 'glucose'), ('cardiovascular', 'class'), ('five', 'available'), ('achieved', '86'), ('glucose', 'sensor'), ('heart', 'disease'), ('validated', 'cloud'), ('prediction', 'model'), ('data', 'iot'), ('cloudsim', 'using'), ('service', 'patient'), ('sensor', 'predict'), ('model', 'diagnosed'), ('disease', 'prediction'), ('application', 'provided'), ('classified', 'five'), ('task', 'diagnosis'), ('93', '63'), ('sensor', 'pulse'), ('bidirectional', 'gated'), ('physical', 'dietary'), ('network', 'deep'), ('framinghamâ', 'statlog'), ('deep', 'cardio'), ('disease', 'classified'), ('internet', 'thing'), ('user', 'mobile'), ('cloud', 'simulator'), ('risk', 'however'), ('preventative', 'medical'), ('using', 'bigru'), ('diagnosis', 'treatment'), ('provided', 'fast'), ('dietary', 'recommendation'), ('fast', 'preventative'), ('gated', 'recurrent'), ('whereas', 'mabc'), ('result', 'rarely'), ('diagnose', 'disease'), ('dataset', 'proposed'), ('based', 'remote'), ('99', '90'), ('controller', 'received'), ('treatment', 'dietary'), ('using', 'four'), ('mobile', 'application'), ('data', 'collected'), ('sensor', 'pressure'), ('healthcare', 'application'), ('recommendation', 'system')}\n",
      "Tipo de plagio: Parafraseo o reordenamiento de frases\n",
      "Coincidencias para el plagio:\n",
      "----------------------------\n",
      "Cadena original: (Longitud: 1165)\n",
      "Cadena plagiada:  (Longitud: 1169)\n",
      "\n",
      "Titulo: FID-09.txt\n",
      "Similitud entre 'FID-09.txt' y 'org-109.txt': 93.65%\n",
      "ngrams originales:  {('complex', 'big'), ('microarray', 'data'), ('area', 'machine'), ('technique', 'provided'), ('opportunity', 'rational'), ('impact', 'drug'), ('excellent', 'opportunity'), ('provided', 'critical'), ('neural', 'network'), ('low', 'efficacy'), ('drug', 'repositioning'), ('chemical', 'scientist'), ('process', 'peptide'), ('machine', 'learning'), ('intelligence', 'deep'), ('monitoring', 'release'), ('structureâ', 'activity'), ('artificial', 'neural'), ('repositioning', 'polypharmacology'), ('area', 'research'), ('activity', 'evidence'), ('clinical', 'trial'), ('several', 'drug'), ('discovery', 'pipeline'), ('rational', 'drug'), ('impact', 'mankind'), ('synthesis', 'structure'), ('time', 'consumption'), ('efficacy', 'target'), ('pharmaceutical', 'company'), ('physiochemical', 'activity'), ('support', 'recently'), ('hurdle', 'challenge'), ('summary', 'artificial'), ('high', 'cost'), ('relationship', 'drug'), ('strengthens', 'implementation'), ('discovery', 'process'), ('provide', 'excellent'), ('critical', 'support'), ('intelligence', 'machine'), ('discovery', 'development'), ('challenge', 'impact'), ('drug', 'monitoring'), ('moreover', 'novel'), ('modernized', 'area'), ('deep', 'learning'), ('obstacle', 'drug'), ('polypharmacology', 'physiochemical'), ('company', 'chemical'), ('ligand', 'based'), ('research', 'pharmaceutical'), ('cost', 'impose'), ('screening', 'ligand'), ('technology', 'play'), ('data', 'clinical'), ('scientist', 'however'), ('design', 'discovery'), ('however', 'low'), ('eventually', 'impact'), ('designing', 'development'), ('word', 'artificial'), ('recently', 'developed'), ('drug', 'discovery'), ('virtual', 'screening'), ('learning', 'technology'), ('learning', 'deep'), ('learning', 'field'), ('novel', 'data'), ('pipeline', 'artificial'), ('management', 'technique'), ('toxicity', 'prediction'), ('learning', 'advancement'), ('play', 'crucial'), ('activity', 'relationship'), ('field', 'moreover'), ('algorithm', 'modernized'), ('release', 'pharmacophore'), ('impose', 'hurdle'), ('drug', 'designing'), ('evidence', 'past'), ('important', 'area'), ('implementation', 'artificial'), ('based', 'virtual'), ('advancement', 'provide'), ('impose', 'obstacle'), ('artificial', 'intelligence'), ('genomics', 'proteomics'), ('algorithm', 'implemented'), ('modeling', 'quantitative'), ('quantitative', 'structureâ'), ('process', 'eventually'), ('network', 'deep'), ('learning', 'algorithm'), ('curation', 'management'), ('implemented', 'several'), ('mining', 'curation'), ('trial', 'also'), ('screening', 'toxicity'), ('discovery', 'complex'), ('proteomics', 'microarray'), ('target', 'delivery'), ('big', 'data'), ('drug', 'design'), ('data', 'genomics'), ('delivery', 'time'), ('pharmacophore', 'modeling'), ('consumption', 'high'), ('role', 'drug'), ('developed', 'modeling'), ('modeling', 'algorithm'), ('prediction', 'drug'), ('peptide', 'synthesis'), ('past', 'strengthens'), ('crucial', 'role'), ('development', 'word'), ('data', 'mining'), ('structure', 'based'), ('also', 'impose'), ('algorithm', 'summary'), ('development', 'important')}\n",
      "ngrams plagio:  {('microarray', 'data'), ('complex', 'big'), ('area', 'machine'), ('technique', 'provided'), ('opportunity', 'rational'), ('technology', 'modernized'), ('impact', 'drug'), ('provided', 'critical'), ('pose', 'significant'), ('neural', 'network'), ('low', 'efficacy'), ('drug', 'repositioning'), ('excellent', 'opportunity'), ('chemical', 'scientist'), ('process', 'drug'), ('ultimately', 'benefiting'), ('machine', 'learning'), ('process', 'peptide'), ('intelligence', 'deep'), ('monitoring', 'release'), ('structureâ', 'activity'), ('artificial', 'neural'), ('repositioning', 'polypharmacology'), ('newly', 'developed'), ('area', 'research'), ('offer', 'significant'), ('activity', 'evidence'), ('hinder', 'progress'), ('clinical', 'trial'), ('several', 'drug'), ('discovery', 'pipeline'), ('evidence', 'support'), ('rational', 'drug'), ('impact', 'mankind'), ('synthesis', 'structure'), ('time', 'consumption'), ('efficacy', 'target'), ('pharmaceutical', 'company'), ('physiochemical', 'activity'), ('intelligence', 'ai'), ('support', 'recently'), ('furthermore', 'novel'), ('significant', 'opportunity'), ('hurdle', 'challenge'), ('summary', 'artificial'), ('high', 'cost'), ('relationship', 'drug'), ('strengthens', 'implementation'), ('ml', 'technology'), ('discovery', 'process'), ('benefiting', 'mankind'), ('provide', 'excellent'), ('support', 'implementation'), ('discovery', 'furthermore'), ('critical', 'support'), ('intelligence', 'machine'), ('revolutionized', 'drug'), ('discovery', 'development'), ('drug', 'monitoring'), ('challenge', 'impact'), ('moreover', 'novel'), ('summary', 'advancement'), ('modernized', 'area'), ('learning', 'ml'), ('obstacle', 'drug'), ('deep', 'learning'), ('polypharmacology', 'physiochemical'), ('company', 'chemical'), ('ligand', 'based'), ('research', 'pharmaceutical'), ('significant', 'obstacle'), ('screening', 'ligand'), ('cost', 'impose'), ('activity', 'historical'), ('technology', 'play'), ('challenge', 'low'), ('trial', 'pose'), ('data', 'clinical'), ('scientist', 'however'), ('design', 'discovery'), ('algorithm', 'technology'), ('particularly', 'use'), ('however', 'low'), ('designing', 'development'), ('word', 'artificial'), ('eventually', 'impact'), ('recently', 'developed'), ('drug', 'discovery'), ('technology', 'revolutionized'), ('crucial', 'area'), ('virtual', 'screening'), ('modernized', 'various'), ('learning', 'technology'), ('ai', 'deep'), ('learning', 'deep'), ('novel', 'data'), ('learning', 'field'), ('pipeline', 'artificial'), ('management', 'technique'), ('toxicity', 'prediction'), ('learning', 'advancement'), ('play', 'crucial'), ('activity', 'relationship'), ('field', 'moreover'), ('cost', 'hinder'), ('algorithm', 'modernized'), ('release', 'pharmacophore'), ('discovery', 'additionally'), ('impose', 'hurdle'), ('discovery', 'including'), ('drug', 'designing'), ('including', 'peptide'), ('various', 'process'), ('learning', 'offer'), ('development', 'represent'), ('historical', 'evidence'), ('evidence', 'past'), ('important', 'area'), ('support', 'newly'), ('implementation', 'artificial'), ('based', 'virtual'), ('development', 'particularly'), ('advancement', 'provide'), ('impose', 'obstacle'), ('artificial', 'intelligence'), ('genomics', 'proteomics'), ('progress', 'drug'), ('modeling', 'quantitative'), ('quantitative', 'structureâ'), ('algorithm', 'implemented'), ('process', 'eventually'), ('learning', 'drug'), ('mankind', 'drug'), ('network', 'deep'), ('learning', 'algorithm'), ('curation', 'management'), ('implemented', 'several'), ('ai', 'machine'), ('represent', 'crucial'), ('mining', 'curation'), ('trial', 'also'), ('additionally', 'complexity'), ('screening', 'toxicity'), ('discovery', 'complex'), ('proteomics', 'microarray'), ('target', 'delivery'), ('big', 'data'), ('discovery', 'ultimately'), ('drug', 'design'), ('data', 'genomics'), ('delivery', 'time'), ('complexity', 'volume'), ('volume', 'data'), ('pharmacophore', 'modeling'), ('use', 'artificial'), ('consumption', 'high'), ('role', 'drug'), ('developed', 'modeling'), ('however', 'challenge'), ('modeling', 'algorithm'), ('prediction', 'drug'), ('implementation', 'ai'), ('peptide', 'synthesis'), ('past', 'strengthens'), ('crucial', 'role'), ('data', 'mining'), ('development', 'word'), ('structure', 'based'), ('also', 'impose'), ('algorithm', 'summary'), ('advancement', 'ai'), ('development', 'important')}\n",
      "Tipo de plagio: Reordenamiento de frases\n",
      "Coincidencias para el plagio:\n",
      "----------------------------\n",
      "Cadena original: (Longitud: 1189)\n",
      "Cadena plagiada:  (Longitud: 2349)\n",
      "\n",
      "Titulo: FID-08.txt\n",
      "Similitud entre 'FID-08.txt' y 'org-079.txt': 92.48%\n",
      "ngrams originales:  {('functional', 'â'), ('fuzzy', 'set'), ('equipment', 'manufacturer'), ('theory', 'fuzzy'), ('classic', 'provision'), ('ï', 'main'), ('assessing', 'level'), ('h', 'q'), ('constructed', 'system'), ('logic', 'allows'), ('recommendation', 'solution'), ('enterprise', 'statement'), ('g', 'v4'), ('given', 'variable'), ('basis', 'group'), ('decision', 'making'), ('substantiation', 'set'), ('motivational', 'system'), ('appropriate', 'recommendation'), ('analysis', 'scientific'), ('work', 'foreign'), ('function', 'r'), ('namely', 'four'), ('f2', 'f3'), ('result', 'research'), ('methodological', 'approach'), ('h', 'v8'), ('systemcomplex', 'approach'), ('risk', 'enterprise'), ('set', 'proposed'), ('current', 'work'), ('management', 'provide'), ('â', 'f2'), ('risk', 'level'), ('f', 'unknown'), ('turnover', 'â'), ('component', 'built'), ('assessing', 'personnel'), ('staff', 'turnover'), ('expert', 'evaluation'), ('hierarchical', 'fuzzy'), ('efficiency', 'use'), ('generalization', 'scientific'), ('element', 'computational'), ('increase', 'efficiency'), ('risk', 'quantitative'), ('â', 'integrated'), ('level', 'personnel'), ('scientific', 'abstraction'), ('built', 'designing'), ('f3', 'motivational'), ('v1', 'v2'), ('basis', 'fst'), ('state', 'qualification'), ('enterprise', 'made'), ('change', 'input'), ('foreign', 'domestic'), ('cost', 'event'), ('based', 'apparatus'), ('risk', 'personnel'), ('f1', 'state'), ('based', 'application'), ('qualification', 'intellectual'), ('f4', 'q'), ('level', 'turn'), ('paper', 'substantiation'), ('q', 'f'), ('estimate', 'level'), ('element', 'membership'), ('substantiation', 'methodological'), ('modern', 'theoretical'), ('fuzzy', 'logical'), ('input', 'output'), ('output', 'variable'), ('mathematical', 'model'), ('make', 'possible'), ('v2', 'v3'), ('work', 'considers'), ('potential', 'â'), ('following', 'structural'), ('model', 'method'), ('event', 'adverse'), ('possible', 'estimate'), ('assessment', 'personnel'), ('unknown', 'function'), ('use', 'constructed'), ('quantitative', 'indicator'), ('provide', 'appropriate'), ('12', 'indicator'), ('theory', 'comparative'), ('enables', 'substantiation'), ('construction', 'equipment'), ('integrated', 'indicator'), ('manufacturer', 'analysis'), ('indicator', 'significantly'), ('theoretical', 'research'), ('indicator', 'int'), ('personnel', 'movement'), ('r', 'g'), ('variable', 'functional'), ('condition', 'uncertainty'), ('apparatus', 'order'), ('enterprise', 'enables'), ('different', 'number'), ('v11', 'v12'), ('v12', 'output'), ('uncertainty', 'reduce'), ('main', 'idea'), ('study', 'classic'), ('measure', 'increase'), ('number', 'fuzzy'), ('intellectual', 'potential'), ('managing', 'personnel'), ('experiment', 'conducted'), ('f4', 'personnel'), ('used', 'study'), ('also', 'fuzzy'), ('variable', 'expert'), ('help', 'requires'), ('consideration', 'qualitative'), ('one', 'integrate'), ('output', 'mechanism'), ('indicator', 'function'), ('variable', 'written'), ('q', 'v11'), ('allows', 'contrast'), ('quantitative', 'composition'), ('approach', 'assessment'), ('high', 'e'), ('made', 'possible'), ('apparatus', 'fuzzy'), ('v4', 'v5'), ('three', 'term'), ('risk', 'management'), ('int', 'f'), ('conducted', 'basis'), ('intelligent', 'us'), ('intelligence', 'particular'), ('enterprise', 'based'), ('reduce', 'cost'), ('personnel', 'risk'), ('data', 'namely'), ('â', 'vi'), ('us', 'element'), ('enterprise', 'numerical'), ('indicator', 'different'), ('scientist', 'statistical'), ('qualitative', 'quantitative'), ('proposed', 'methodological'), ('approach', 'assessing'), ('fuzzy', 'coefficient'), ('f2', 'g'), ('g', 'h'), ('mathematical', 'problem'), ('research', 'problem'), ('vary', 'within'), ('using', 'fuzzy'), ('f4', 'indicator'), ('designing', 'fuzzy'), ('built', 'mathematical'), ('application', 'fuzzy'), ('coefficient', 'twelve'), ('requires', 'system'), ('comparative', 'analysis'), ('evaluation', 'change'), ('fuzzy', 'logic'), ('composition', 'â'), ('statistical', 'data'), ('function', 'fuzzy'), ('v7', 'f3'), ('fuzzy', 'system'), ('integrate', 'consideration'), ('making', 'condition'), ('v9', 'v10'), ('rule', 'base'), ('indicator', 'using'), ('result', 'assessing'), ('base', 'output'), ('significantly', 'increase'), ('f2', 'staff'), ('value', 'function'), ('particular', 'theory'), ('problem', 'assessing'), ('data', 'result'), ('membership', 'function'), ('adverse', 'situation'), ('system', 'following'), ('low', 'medium'), ('statement', 'mathematical'), ('enterprise', 'method'), ('fuzzy', 'data'), ('abstraction', 'generalization'), ('formalized', 'information'), ('contrast', 'existing'), ('research', 'systemcomplex'), ('numerical', 'experiment'), ('method', 'formalization'), ('rule', 'vary'), ('study', 'proposed'), ('term', 'low'), ('performing', 'calculation'), ('system', 'â'), ('logic', 'apparatus'), ('set', 'measure'), ('set', 'theory'), ('inference', 'considered'), ('medium', 'g'), ('order', 'identify'), ('work', 'â'), ('element', 'component'), ('â', 'f3'), ('twelve', 'current'), ('f1', 'r'), ('function', 'input'), ('variable', 'rule'), ('v10', 'f4'), ('v5', 'v6'), ('solution', 'methodological'), ('group', 'construction'), ('fundamental', 'work'), ('problem', 'work'), ('f3', 'h'), ('v8', 'v9'), ('input', 'data'), ('information', 'variable'), ('system', 'fuzzy'), ('basis', 'study'), ('possible', 'identify'), ('computational', 'intelligence'), ('existing', 'one'), ('movement', 'indicator'), ('f1', 'f2'), ('problem', 'managing'), ('method', 'fuzzy'), ('mechanism', 'structural'), ('system', 'performing'), ('idea', 'paper'), ('coefficient', 'f1'), ('indicator', 'assessing'), ('v6', 'v7'), ('domestic', 'scientist'), ('analysis', 'result'), ('r', 'v1'), ('f3', 'f4'), ('efficiency', 'decision'), ('e', 'formalized'), ('provision', 'fundamental'), ('identify', 'problem'), ('fuzzy', 'value'), ('problem', 'personnel'), ('f', 'f1'), ('system', 'built'), ('â', 'f1'), ('g', 'high'), ('written', 'group'), ('experience', 'modern'), ('logical', 'inference'), ('turn', 'also'), ('within', 'three'), ('considered', 'intelligent'), ('group', 'indicator'), ('calculation', 'help'), ('considers', 'hierarchical'), ('vi', '1ã'), ('v3', 'f2'), ('scientific', 'experience'), ('â', 'f4'), ('structural', 'element'), ('data', 'rule'), ('methodological', 'basis'), ('four', 'group'), ('approach', 'used'), ('formalization', 'basis'), ('fst', 'make'), ('function', 'given'), ('1ã', '12')}\n",
      "ngrams plagio:  {('uncertainty', 'reducing'), ('classic', 'provision'), ('medium', 'high'), ('assessing', 'level'), ('given', 'variable'), ('decision', 'making'), ('potential', 'f2'), ('utilizes', 'fuzzy'), ('f', 'function'), ('work', 'foreign'), ('namely', 'four'), ('h', 'v8'), ('set', 'proposed'), ('assessing', 'personnel'), ('hierarchical', 'fuzzy'), ('composition', 'f1'), ('goal', 'identify'), ('â', 'integrated'), ('level', 'personnel'), ('scientific', 'abstraction'), ('level', 'paper'), ('change', 'input'), ('estimate', 'level'), ('element', 'membership'), ('substantiation', 'methodological'), ('work', 'considers'), ('potential', 'â'), ('following', 'structural'), ('model', 'method'), ('use', 'constructed'), ('provide', 'appropriate'), ('12', 'indicator'), ('theory', 'comparative'), ('manufacturer', 'analysis'), ('condition', 'uncertainty'), ('logic', 'goal'), ('measure', 'increase'), ('identify', 'provide'), ('data', 'comprising'), ('intellectual', 'potential'), ('f4', 'personnel'), ('variable', 'expert'), ('quantitative', 'composition'), ('risk', 'management'), ('int', 'f'), ('intelligent', 'us'), ('intelligence', 'particular'), ('foundation', 'includes'), ('data', 'namely'), ('us', 'element'), ('qualitative', 'quantitative'), ('vary', 'within'), ('using', 'fuzzy'), ('requires', 'system'), ('efficiency', 'fuzzy'), ('approach', 'integrates'), ('fuzzy', 'logic'), ('v7', 'f3'), ('v9', 'v10'), ('study', 'utilizes'), ('recommendation', 'managing'), ('system', 'allows'), ('theory', 'methodological'), ('enterprise', 'method'), ('fuzzy', 'data'), ('formalized', 'information'), ('indicator', 'enhancing'), ('numerical', 'experiment'), ('set', 'measure'), ('inference', 'considered'), ('12', 'output'), ('twelve', 'current'), ('group', 'construction'), ('movement', 'indicator'), ('problem', 'managing'), ('method', 'fuzzy'), ('analysis', 'result'), ('provision', 'fundamental'), ('fuzzy', 'value'), ('g', 'high'), ('logical', 'inference'), ('considered', 'intelligent'), ('coefficient', 'reflecting'), ('considers', 'hierarchical'), ('v3', 'f2'), ('methodological', 'basis'), ('four', 'group'), ('system', 'fuzzy'), ('justifying', 'measure'), ('method', 'formalization'), ('function', 'given'), ('reducing', 'cost'), ('theory', 'fuzzy'), ('indicator', 'fuzzy'), ('intelligence', 'element'), ('h', 'q'), ('logic', 'allows'), ('g', 'v4'), ('element', 'including'), ('motivational', 'system'), ('analysis', 'scientific'), ('enhancing', 'decision'), ('f2', 'f3'), ('systemcomplex', 'approach'), ('current', 'work'), ('component', 'built'), ('staff', 'turnover'), ('expert', 'evaluation'), ('cost', 'adverse'), ('element', 'computational'), ('v1', 'v2'), ('basis', 'fst'), ('enterprise', 'made'), ('based', 'apparatus'), ('qualification', 'intellectual'), ('q', 'f'), ('modern', 'theoretical'), ('fuzzy', 'logical'), ('output', 'variable'), ('construction', 'equipment'), ('approach', 'employed'), ('study', 'classic'), ('number', 'fuzzy'), ('managing', 'personnel'), ('used', 'study'), ('also', 'fuzzy'), ('help', 'requires'), ('coefficient', 'vi'), ('indicator', 'function'), ('paper', 'substantiates'), ('high', 'e'), ('made', 'possible'), ('provision', 'foreign'), ('estimating', 'personnel'), ('â', 'vi'), ('data', 'team'), ('built', 'mathematical'), ('designing', 'fuzzy'), ('employ', 'computational'), ('application', 'fuzzy'), ('evaluation', 'change'), ('function', 'fuzzy'), ('statistical', 'data'), ('includes', 'classic'), ('making', 'condition'), ('rule', 'base'), ('base', 'output'), ('significantly', 'increase'), ('value', 'function'), ('membership', 'function'), ('adverse', 'situation'), ('comprising', 'four'), ('system', 'following'), ('low', 'medium'), ('contrast', 'existing'), ('paper', 'introduces'), ('rule', 'vary'), ('study', 'proposed'), ('mechanism', 'system'), ('logic', 'apparatus'), ('intelligent', 'employ'), ('set', 'theory'), ('introduces', 'unknown'), ('element', 'component'), ('â', 'f3'), ('v8', 'v9'), ('fundamental', 'work'), ('input', 'data'), ('study', 'proposes'), ('idea', 'paper'), ('domestic', 'scientist'), ('f3', 'f4'), ('e', 'formalized'), ('reflecting', 'expert'), ('f', 'f1'), ('system', 'built'), ('turn', 'also'), ('group', 'indicator'), ('research', 'method'), ('enterprise', 'using'), ('vi', '1ã'), ('structural', 'element'), ('formalization', 'basis'), ('variable', 'functional'), ('evaluation', 'input'), ('functional', 'â'), ('fuzzy', 'set'), ('equipment', 'manufacturer'), ('constructed', 'system'), ('recommendation', 'solution'), ('basis', 'group'), ('appropriate', 'recommendation'), ('methodological', 'approach'), ('risk', 'enterprise'), ('f', 'unknown'), ('turnover', 'â'), ('efficiency', 'use'), ('system', 'structural'), ('built', 'designing'), ('f3', 'motivational'), ('state', 'qualification'), ('cost', 'event'), ('f1', 'state'), ('based', 'application'), ('level', 'turn'), ('employed', 'study'), ('input', 'output'), ('mathematical', 'model'), ('event', 'adverse'), ('possible', 'estimate'), ('assessment', 'personnel'), ('enables', 'substantiation'), ('indicator', 'significantly'), ('proposes', 'methodological'), ('including', 'membership'), ('personnel', 'movement'), ('risk', 'problem'), ('v11', 'v12'), ('v12', 'output'), ('system', 'considered'), ('experiment', 'conducted'), ('q', 'v11'), ('approach', 'assessment'), ('v4', 'v5'), ('three', 'term'), ('conducted', 'basis'), ('reduce', 'cost'), ('scientist', 'statistical'), ('level', 'justifying'), ('f2', 'g'), ('research', 'problem'), ('f4', 'indicator'), ('comparative', 'analysis'), ('generalization', 'modern'), ('situation', 'paper'), ('indicator', 'using'), ('result', 'assessing'), ('particular', 'theory'), ('problem', 'assessing'), ('efficiency', 'uncertainty'), ('term', 'low'), ('system', 'â'), ('medium', 'g'), ('indicator', 'quantitative'), ('team', 'research'), ('variable', 'rule'), ('solution', 'methodological'), ('problem', 'work'), ('information', 'variable'), ('possible', 'identify'), ('mechanism', 'structural'), ('system', 'performing'), ('efficiency', 'decision'), ('problem', 'personnel'), ('research', 'system'), ('experience', 'modern'), ('particularly', 'fuzzy'), ('within', 'three'), ('int', 'representing'), ('element', 'particularly'), ('ï', 'main'), ('complex', 'approach'), ('study', 'foundation'), ('enterprise', 'statement'), ('substantiation', 'set'), ('function', 'r'), ('integrates', 'qualitative'), ('result', 'research'), ('management', 'provide'), ('â', 'f2'), ('risk', 'level'), ('making', 'efficiency'), ('generalization', 'scientific'), ('increase', 'efficiency'), ('risk', 'quantitative'), ('manufacturer', 'considers'), ('foreign', 'domestic'), ('measure', 'enhance'), ('risk', 'personnel'), ('enhance', 'efficiency'), ('f4', 'q'), ('paper', 'substantiation'), ('turnover', 'f3'), ('make', 'possible'), ('v2', 'v3'), ('change', 'low'), ('unknown', 'function'), ('quantitative', 'indicator'), ('system', 'f4'), ('level', 'exemplified'), ('integrated', 'indicator'), ('inference', 'system'), ('theoretical', 'research'), ('indicator', 'int'), ('system', 'complex'), ('r', 'g'), ('situation', 'distinguishing'), ('apparatus', 'order'), ('enterprise', 'enables'), ('different', 'number'), ('variable', 'integrated'), ('uncertainty', 'reduce'), ('main', 'idea'), ('consideration', 'qualitative'), ('provide', 'recommendation'), ('one', 'integrate'), ('output', 'mechanism'), ('variable', 'written'), ('allows', 'contrast'), ('apparatus', 'fuzzy'), ('function', 'rule'), ('high', 'study'), ('enterprise', 'based'), ('personnel', 'risk'), ('enterprise', 'numerical'), ('indicator', 'different'), ('proposed', 'methodological'), ('approach', 'assessing'), ('fuzzy', 'coefficient'), ('g', 'h'), ('mathematical', 'problem'), ('coefficient', 'twelve'), ('composition', 'â'), ('substantiates', 'methodological'), ('fuzzy', 'system'), ('integrate', 'consideration'), ('f2', 'staff'), ('problem', 'study'), ('data', 'result'), ('statement', 'mathematical'), ('abstraction', 'generalization'), ('research', 'systemcomplex'), ('distinguishing', 'existing'), ('performing', 'calculation'), ('representing', 'personnel'), ('order', 'identify'), ('work', 'â'), ('exemplified', 'group'), ('f1', 'r'), ('function', 'input'), ('v10', 'f4'), ('v5', 'v6'), ('f3', 'h'), ('basis', 'study'), ('existing', 'one'), ('f1', 'f2'), ('data', 'change'), ('coefficient', 'f1'), ('indicator', 'assessing'), ('v6', 'v7'), ('r', 'v1'), ('identify', 'problem'), ('â', 'f1'), ('written', 'group'), ('existing', 'method'), ('calculation', 'help'), ('computational', 'intelligence'), ('scientific', 'experience'), ('â', 'f4'), ('fst', 'make'), ('data', 'rule'), ('allows', 'estimating'), ('approach', 'used'), ('1ã', '12')}\n",
      "Tipo de plagio: Reordenamiento de frases\n",
      "Coincidencias para el plagio:\n",
      "----------------------------\n",
      "Cadena original: (Longitud: 2443)\n",
      "Cadena plagiada:  (Longitud: 3903)\n",
      "\n",
      "Titulo: FID-06.txt\n",
      "Similitud entre 'FID-06.txt' y 'org-043.txt': 91.86%\n",
      "ngrams originales:  {('existence', 'verbalabuse'), ('interview', 'methodology'), ('anthropomorphic', 'chatbots'), ('however', 'thelevel'), ('gender', 'dynamic'), ('collection', 'collected'), ('student', 'conductedfor'), ('dynamic', 'semi'), ('collected', 'data'), ('found', 'empathy'), ('uppsala', 'university'), ('thelevel', 'empathy'), ('another', 'time'), ('machine', 'human'), ('expressing', 'frustration'), ('help', 'politeness'), ('student', 'uppsala'), ('frustration', 'usuallyforget'), ('thematic', 'analysis'), ('human', 'machine'), ('qualitative', 'data'), ('howparticipants', 'perceive'), ('chatbots', 'likely'), ('likely', 'female'), ('theresponse', 'chatbots'), ('might', 'expect'), ('verbalabuse', 'human'), ('also', 'showsthat'), ('data', 'collection'), ('participant', 'perceive'), ('question', 'another'), ('amongcomputer', 'science'), ('methodology', 'five'), ('interaction', 'amongcomputer'), ('expectation', 'chatbot'), ('expect', 'help'), ('dissatisfied', 'theresponse'), ('politeness', 'chatbots'), ('five', 'student'), ('study', 'also'), ('exit', 'chatbots'), ('come', 'question'), ('ofwhether', 'participant'), ('chatbots', 'without'), ('time', 'study'), ('study', 'conducted'), ('data', 'manually'), ('generally', 'low'), ('done', 'exploring'), ('dependingon', 'gender'), ('conductedfor', 'qualitative'), ('human', 'chatbot'), ('participant', 'frustrate'), ('frustration', 'come'), ('result', 'study'), ('exploring', 'howparticipants'), ('using', 'thematic'), ('chatbot', 'interaction'), ('empathy', 'human'), ('interaction', 'expectation'), ('frustrate', 'dissatisfied'), ('structured', 'interview'), ('usuallyforget', 'frustration'), ('investigate', 'empathy'), ('empathy', 'generally'), ('chatbots', 'human'), ('science', 'student'), ('helpfulness', 'dependingon'), ('semi', 'structured'), ('interaction', 'regardless'), ('study', 'found'), ('analyzed', 'using'), ('showsthat', 'participant'), ('conducted', 'investigate'), ('human', 'existence'), ('analysis', 'result'), ('perceive', 'anthropomorphic'), ('chatbots', 'exit'), ('chatbots', 'machine'), ('low', 'participant'), ('regardless', 'ofwhether'), ('chatbot', 'helpfulness'), ('without', 'expressing'), ('sweden', 'done'), ('participant', 'might'), ('machine', 'however'), ('manually', 'analyzed'), ('university', 'sweden')}\n",
      "ngrams plagio:  {('among', 'computer'), ('interview', 'methodology'), ('anthropomorphic', 'chatbots'), ('gender', 'dynamic'), ('collection', 'collected'), ('regardless', 'whether'), ('dynamic', 'semi'), ('also', 'showed'), ('collected', 'data'), ('uppsala', 'university'), ('dissatisfied', 'response'), ('another', 'time'), ('machine', 'human'), ('expressing', 'frustration'), ('conducted', 'qualitative'), ('help', 'politeness'), ('student', 'uppsala'), ('study', 'find'), ('thematic', 'analysis'), ('interaction', 'among'), ('human', 'machine'), ('however', 'level'), ('qualitative', 'data'), ('chatbots', 'likely'), ('whether', 'participant'), ('likely', 'female'), ('existence', 'verbal'), ('data', 'collection'), ('participant', 'perceive'), ('question', 'another'), ('participant', 'perceived'), ('methodology', 'five'), ('expectation', 'chatbot'), ('level', 'empathy'), ('expect', 'help'), ('politeness', 'chatbots'), ('five', 'student'), ('study', 'also'), ('exit', 'chatbots'), ('usually', 'forgot'), ('participant', 'become'), ('chatbots', 'without'), ('time', 'study'), ('study', 'conducted'), ('response', 'chatbots'), ('may', 'expect'), ('verbal', 'abuse'), ('data', 'manually'), ('generally', 'low'), ('done', 'exploring'), ('computer', 'science'), ('helpfulness', 'depending'), ('participant', 'may'), ('showed', 'participant'), ('human', 'chatbot'), ('become', 'frustrated'), ('came', 'question'), ('result', 'study'), ('find', 'empathy'), ('using', 'thematic'), ('chatbot', 'interaction'), ('empathy', 'human'), ('interaction', 'expectation'), ('frustration', 'came'), ('structured', 'interview'), ('investigate', 'empathy'), ('empathy', 'generally'), ('chatbots', 'human'), ('science', 'student'), ('semi', 'structured'), ('interaction', 'regardless'), ('frustrated', 'dissatisfied'), ('perceived', 'anthropomorphic'), ('analyzed', 'using'), ('depending', 'gender'), ('exploring', 'participant'), ('conducted', 'investigate'), ('human', 'existence'), ('analysis', 'result'), ('perceive', 'anthropomorphic'), ('chatbots', 'exit'), ('chatbots', 'machine'), ('low', 'participant'), ('student', 'conducted'), ('frustration', 'usually'), ('chatbot', 'helpfulness'), ('without', 'expressing'), ('sweden', 'done'), ('forgot', 'frustration'), ('machine', 'however'), ('manually', 'analyzed'), ('abuse', 'human'), ('university', 'sweden')}\n",
      "Tipo de plagio: Parafraseo o inserción de frases\n",
      "Coincidencias para el plagio:\n",
      "----------------------------\n",
      "Cadena original: (Longitud: 864)\n",
      "Cadena plagiada:  (Longitud: 853)\n",
      "\n",
      "Titulo: FID-07.txt\n",
      "Similitud entre 'FID-07.txt' y 'org-041.txt': 88.51%\n",
      "ngrams originales:  {('use', 'technology'), ('interaction', 'great'), ('improving', 'customer'), ('ai', 'respond'), ('sentiment', 'analysis'), ('customer', 'experience'), ('study', 'related'), ('affective', 'social'), ('improving', 'affective'), ('human', 'ai'), ('strategy', 'human'), ('research', 'topic'), ('various', 'study'), ('explore', 'optimization'), ('particular', 'interest'), ('sensitively', 'user'), ('natural', 'language'), ('experience', 'use'), ('research', 'result'), ('due', 'potential'), ('application', 'artificial'), ('development', 'responsive'), ('used', 'journal'), ('processing', 'emotion'), ('journal', 'article'), ('strategy', 'improving'), ('socially', 'research'), ('topic', 'research'), ('empathy', 'strategy'), ('used', 'qualitative'), ('potential', 'improve'), ('enable', 'ai'), ('need', 'emotion'), ('experience', 'affectively'), ('user', 'need'), ('article', 'book'), ('optimization', 'human'), ('precisely', 'sensitively'), ('interaction', 'become'), ('great', 'potential'), ('found', 'implementation'), ('emotion', 'recognition'), ('strategy', 'particular'), ('technology', 'context'), ('potential', 'improving'), ('interest', 'due'), ('improve', 'quality'), ('interaction', 'application'), ('literature', 'data'), ('result', 'found'), ('responsive', 'humane'), ('ai', 'interaction'), ('research', 'aim'), ('technology', 'natural'), ('analysis', 'enable'), ('reviewing', 'various'), ('implementation', 'artificial'), ('respond', 'precisely'), ('source', 'used'), ('related', 'literature'), ('data', 'source'), ('quality', 'interaction'), ('research', 'approach'), ('important', 'focus'), ('language', 'processing'), ('affectively', 'socially'), ('focus', 'development'), ('use', 'artificial'), ('relevant', 'research'), ('interaction', 'customer'), ('experience', 'research'), ('qualitative', 'reviewing'), ('humane', 'technology'), ('recognition', 'sentiment'), ('aim', 'explore'), ('context', 'use'), ('artificial', 'empathy'), ('approach', 'used'), ('become', 'important'), ('social', 'customer'), ('book', 'relevant')}\n",
      "ngrams plagio:  {('significantly', 'improve'), ('ai', 'respond'), ('sentiment', 'analysis'), ('customer', 'experience'), ('study', 'related'), ('socially', 'aim'), ('involving', 'review'), ('affective', 'social'), ('result', 'indicate'), ('enhance', 'affective'), ('human', 'ai'), ('strategy', 'human'), ('research', 'topic'), ('technology', 'responsive'), ('various', 'study'), ('sensitively', 'user'), ('natural', 'language'), ('optimize', 'human'), ('implementing', 'artificial'), ('research', 'result'), ('processing', 'emotion'), ('journal', 'article'), ('aim', 'research'), ('topic', 'research'), ('interaction', 'potential'), ('empathy', 'strategy'), ('potential', 'improve'), ('include', 'journal'), ('enable', 'ai'), ('qualitative', 'involving'), ('need', 'emotion'), ('source', 'include'), ('experience', 'affectively'), ('user', 'need'), ('approach', 'qualitative'), ('article', 'book'), ('interesting', 'potential'), ('precisely', 'sensitively'), ('interaction', 'become'), ('emotion', 'recognition'), ('research', 'explore'), ('improve', 'quality'), ('humane', 'context'), ('review', 'various'), ('literature', 'data'), ('experience', 'technology'), ('responsive', 'humane'), ('developing', 'technology'), ('ai', 'interaction'), ('improve', 'customer'), ('technology', 'natural'), ('analysis', 'enable'), ('respond', 'precisely'), ('strategy', 'particularly'), ('explore', 'artificial'), ('strategy', 'optimize'), ('related', 'literature'), ('data', 'source'), ('quality', 'interaction'), ('research', 'approach'), ('important', 'focus'), ('language', 'processing'), ('particularly', 'interesting'), ('affectively', 'socially'), ('interaction', 'enhance'), ('focus', 'developing'), ('use', 'artificial'), ('relevant', 'research'), ('indicate', 'implementing'), ('potential', 'significantly'), ('interaction', 'customer'), ('experience', 'research'), ('recognition', 'sentiment'), ('context', 'use'), ('artificial', 'empathy'), ('become', 'important'), ('social', 'customer'), ('book', 'relevant')}\n",
      "Tipo de plagio: Inserción de frases\n",
      "Coincidencias para el plagio:\n",
      "----------------------------\n",
      "Cadena original: (Longitud: 781)\n",
      "Cadena plagiada:  (Longitud: 771)\n",
      "\n",
      "Titulo: FID-02.txt\n",
      "Similitud entre 'FID-02.txt' y 'org-104.txt': 88.25%\n",
      "ngrams originales:  {('translation', 'chatbots'), ('complex', 'board'), ('medicine', 'particular'), ('go', 'review'), ('transform', 'twenty'), ('include', 'driving'), ('field', 'dermatology'), ('across', 'range'), ('fundamental', 'algorithm'), ('game', 'go'), ('progress', 'underlying'), ('machine', 'learning'), ('chatbots', 'beyond'), ('beyond', 'human'), ('pathology', 'general'), ('datasets', 'led'), ('human', 'performance'), ('competence', 'across'), ('algorithm', 'growth'), ('century', 'rapid'), ('growth', 'size'), ('field', 'include'), ('highlight', 'specific'), ('behind', 'machine'), ('first', 'century'), ('intelligence', 'placed'), ('algorithm', 'behind'), ('review', 'fundamental'), ('ml', 'medicine'), ('showcase', 'recent'), ('form', 'artificial'), ('learning', 'ml'), ('radiology', 'pathology'), ('optimisation', 'summarise'), ('diagnostic', 'performance'), ('architecture', 'algorithm'), ('specific', 'approach'), ('summarise', 'application'), ('recent', 'diagnostic'), ('performance', 'caveat'), ('ml', 'form'), ('increasing', 'computer'), ('vehicle', 'language'), ('application', 'ml'), ('rapid', 'recent'), ('driving', 'vehicle'), ('placed', 'transform'), ('range', 'field'), ('language', 'translation'), ('caveat', 'field'), ('general', 'microscopy'), ('artificial', 'intelligence'), ('performance', 'complex'), ('led', 'increasing'), ('board', 'game'), ('learning', 'highlight'), ('twenty', 'first'), ('underlying', 'architecture'), ('size', 'datasets'), ('computer', 'competence'), ('approach', 'learning'), ('recent', 'progress'), ('particular', 'showcase'), ('learning', 'optimisation'), ('dermatology', 'radiology')}\n",
      "ngrams plagio:  {('transform', 'twenty'), ('fundamental', 'algorithm'), ('dimension', 'dataset'), ('machine', 'learning'), ('datasets', 'led'), ('century', 'rapid'), ('important', 'role'), ('selection', 'f'), ('algorithm', 'behind'), ('intelligence', 'placed'), ('review', 'fundamental'), ('fitness', 'function'), ('field', 'algorithm'), ('rapid', 'recent'), ('range', 'field'), ('feature', 'selection'), ('board', 'game'), ('algorithm', 'obtain'), ('twenty', 'first'), ('size', 'datasets'), ('computer', 'competence'), ('strategy', 'algorithm'), ('medicine', 'fitness'), ('translation', 'chatbots'), ('complex', 'board'), ('go', 'review'), ('obtain', 'best'), ('include', 'driving'), ('elimination', 'redundant'), ('beyond', 'human'), ('searching', 'strategy'), ('growth', 'size'), ('classification', 'selection'), ('highlight', 'specific'), ('role', 'include'), ('behind', 'machine'), ('first', 'century'), ('form', 'artificial'), ('learning', 'ml'), ('reduces', 'dimension'), ('specific', 'approach'), ('selection', 'optimal'), ('increasing', 'computer'), ('application', 'ml'), ('driving', 'vehicle'), ('algorithm', 'classification'), ('approach', 'learning'), ('recent', 'progress'), ('increase', 'performance'), ('performance', 'machine'), ('f', 'optimisation'), ('best', 'solution'), ('across', 'range'), ('progress', 'underlying'), ('choosing', 'proper'), ('chatbots', 'beyond'), ('competence', 'across'), ('dataset', 'increase'), ('optimisation', 'summarise'), ('architecture', 'algorithm'), ('ml', 'form'), ('play', 'important'), ('redundant', 'feature'), ('artificial', 'intelligence'), ('underlying', 'architecture'), ('learning', 'optimisation'), ('learning', 'algorithm'), ('game', 'go'), ('human', 'performance'), ('algorithm', 'growth'), ('optimal', 'subset'), ('solution', 'feature'), ('ml', 'medicine'), ('optimisation', 'problem'), ('function', 'orient'), ('orient', 'searching'), ('subset', 'feature'), ('proper', 'fitness'), ('algorithm', 'choosing'), ('function', 'play'), ('summarise', 'application'), ('vehicle', 'language'), ('language', 'translation'), ('placed', 'transform'), ('performance', 'complex'), ('problem', 'reduces'), ('feature', 'elimination'), ('led', 'increasing'), ('learning', 'highlight')}\n",
      "Tipo de plagio: Reordenamiento de frases\n",
      "Coincidencias para el plagio:\n",
      "----------------------------\n",
      "Cadena original: (Longitud: 569)\n",
      "Cadena plagiada:  (Longitud: 785)\n",
      "\n",
      "Titulo: FID-10.txt\n",
      "Similitud entre 'FID-10.txt' y 'org-007.txt': 86.68%\n",
      "ngrams originales:  {('educational', 'data'), ('aied', 'using'), ('neural', 'network'), ('using', 'topicbased'), ('detection', 'recommender'), ('conducted', 'comprehensively'), ('related', 'ai'), ('review', 'reveal'), ('analysis', 'computer'), ('collaborative', 'learning'), ('4', '519'), ('research', 'topic'), ('intelligent', 'tutoring'), ('increased', 'however'), ('increasing', 'use'), ('education', 'aied'), ('natural', 'language'), ('community', 'main'), ('various', 'aspect'), ('computer', 'supported'), ('evaluation', 'affective'), ('supported', 'collaborative'), ('learning', 'neural'), ('however', 'large'), ('intelligence', 'ai'), ('comprehensively', 'investigate'), ('include', 'intelligent'), ('education', 'number'), ('discourse', 'analysis'), ('education', 'natural'), ('main', 'research'), ('topicbased', 'bibliometrics'), ('technology', 'education'), ('519', 'publication'), ('publication', '2000'), ('topic', 'related'), ('gap', 'identify'), ('future', 'direction'), ('result', 'review'), ('ai', 'educational'), ('reveal', 'increasing'), ('personalized', 'learning'), ('identify', 'trend'), ('language', 'education'), ('scale', 'review'), ('2000', '2019'), ('increasing', 'interest'), ('using', 'ai'), ('field', 'based'), ('mining', 'performance'), ('affective', 'computing'), ('computing', 'learner'), ('large', 'scale'), ('ai', 'application'), ('learner', 'emotion'), ('ai', 'technology'), ('based', '4'), ('emotion', 'detection'), ('purpose', 'academic'), ('challenge', 'future'), ('education', 'educational'), ('field', 'increased'), ('trend', 'topic'), ('educational', 'purpose'), ('topic', 'include'), ('number', 'published'), ('also', 'discus'), ('published', 'study'), ('attempt', 'fill'), ('network', 'teaching'), ('artificial', 'intelligence'), ('performance', 'prediction'), ('teaching', 'evaluation'), ('bibliometrics', 'result'), ('study', 'field'), ('educational', 'robot'), ('2019', 'attempt'), ('special', 'education'), ('fill', 'gap'), ('system', 'special'), ('academic', 'community'), ('language', 'processing'), ('review', 'conducted'), ('prediction', 'discourse'), ('tutoring', 'system'), ('direction', 'aied'), ('discus', 'challenge'), ('use', 'artificial'), ('processing', 'language'), ('recommender', 'system'), ('aspect', 'field'), ('data', 'mining'), ('interest', 'using'), ('ai', 'education'), ('learning', 'also'), ('investigate', 'various'), ('system', 'personalized'), ('robot', 'ai'), ('application', 'education')}\n",
      "ngrams plagio:  {('analyzing', '4'), ('educational', 'data'), ('neural', 'network'), ('detection', 'recommender'), ('study', 'despite'), ('related', 'ai'), ('study', 'aim'), ('analysis', 'computer'), ('result', 'indicate'), ('gap', 'analyzing'), ('2019', 'using'), ('collaborative', 'learning'), ('4', '519'), ('within', 'academic'), ('research', 'topic'), ('using', 'topic'), ('intelligent', 'tutoring'), ('surged', 'leading'), ('education', 'aied'), ('natural', 'language'), ('computer', 'supported'), ('evaluation', 'affective'), ('supported', 'collaborative'), ('learning', 'neural'), ('intelligence', 'ai'), ('despite', 'comprehensive'), ('include', 'intelligent'), ('discourse', 'analysis'), ('topic', 'based'), ('education', 'natural'), ('aied', 'result'), ('purpose', 'within'), ('technology', 'education'), ('519', 'publication'), ('community', 'primary'), ('publication', '2000'), ('topic', 'related'), ('future', 'direction'), ('based', 'bibliometrics'), ('ai', 'educational'), ('learning', 'study'), ('study', 'also'), ('personalized', 'learning'), ('identify', 'trend'), ('language', 'education'), ('scale', 'review'), ('2000', '2019'), ('using', 'ai'), ('mining', 'performance'), ('affective', 'computing'), ('computing', 'learner'), ('large', 'scale'), ('ai', 'application'), ('lacking', 'study'), ('learner', 'emotion'), ('leading', 'rise'), ('address', 'challenge'), ('comprehensive', 'large'), ('ai', 'technology'), ('emotion', 'detection'), ('challenge', 'future'), ('primary', 'research'), ('education', 'educational'), ('trend', 'topic'), ('educational', 'purpose'), ('topic', 'include'), ('published', 'study'), ('network', 'teaching'), ('indicate', 'growing'), ('artificial', 'intelligence'), ('performance', 'prediction'), ('teaching', 'evaluation'), ('also', 'address'), ('educational', 'robot'), ('special', 'education'), ('field', 'lacking'), ('system', 'special'), ('academic', 'community'), ('language', 'processing'), ('review', 'field'), ('prediction', 'discourse'), ('bridge', 'gap'), ('tutoring', 'system'), ('direction', 'aied'), ('rise', 'published'), ('growing', 'interest'), ('processing', 'language'), ('recommender', 'system'), ('education', 'surged'), ('data', 'mining'), ('interest', 'using'), ('ai', 'education'), ('utilization', 'artificial'), ('aim', 'bridge'), ('bibliometrics', 'identify'), ('system', 'personalized'), ('robot', 'ai'), ('application', 'education')}\n",
      "Tipo de plagio: Inserción de frases\n",
      "Coincidencias para el plagio:\n",
      "----------------------------\n",
      "Cadena original: (Longitud: 843)\n",
      "Cadena plagiada:  (Longitud: 824)\n",
      "\n",
      "Titulo: FID-01.txt\n",
      "Similitud entre 'FID-01.txt' y 'org-076.txt': 78.19%\n",
      "ngrams originales:  {('reduce', 'number'), ('address', 'issue'), ('fewer', 'network'), ('characterized', 'infinite'), ('resource', 'yet'), ('tolerant', 'etft'), ('signal', 'semi'), ('tracking', 'control'), ('prescribed', 'performance'), ('practical', 'feasibility'), ('network', 'communication'), ('multirobot', 'system'), ('number', 'controller'), ('aid', 'dynamic'), ('regard', 'introduce'), ('range', 'impediment'), ('control', 'strategy'), ('communication', 'resource'), ('course', 'information'), ('adaptive', 'event'), ('global', 'uniformly'), ('effect', 'arising'), ('etft', 'formation'), ('semi', 'global'), ('avoidance', 'connectivity'), ('information', 'exploration'), ('uncertain', 'parameter'), ('etft', 'control'), ('control', 'nonholonomic'), ('tackle', 'constrained'), ('failure', 'robot'), ('propose', 'decentralized'), ('event', 'triggered'), ('delf', 'intricacy'), ('actuator', 'failure'), ('adaptive', 'method'), ('trajectory', 'generated'), ('constraint', 'address'), ('ï', 'article'), ('function', 'uncertain'), ('constrained', 'range'), ('function', 'prescribed'), ('effectively', 'furthermore'), ('maintain', 'uninterrupted'), ('system', 'characterized'), ('feasibility', 'etft'), ('methodology', 'tackle'), ('performance', 'methodology'), ('arising', 'infinite'), ('robot', 'engage'), ('collision', 'avoidance'), ('event', 'triggering'), ('actuator', 'fault'), ('employ', 'adaptive'), ('unknown', 'nonlinear'), ('uniformly', 'ultimately'), ('bounded', 'sguub'), ('dynamic', 'surface'), ('nonholonomic', 'multirobot'), ('using', 'fewer'), ('infinite', 'actuator'), ('parameter', 'present'), ('decentralized', 'adaptive'), ('leader', 'aid'), ('logic', 'system'), ('fl', 'employ'), ('desired', 'trajectory'), ('fault', 'using'), ('visual', 'field'), ('issue', 'leverage'), ('ultimately', 'demonstrate'), ('yet', 'maintain'), ('uninterrupted', 'tracking'), ('distance', 'visual'), ('fuzzy', 'event'), ('ultimately', 'bounded'), ('impediment', 'effectively'), ('sguub', 'ultimately'), ('controller', 'execution'), ('fuzzy', 'logic'), ('field', 'regard'), ('formation', 'tracking'), ('leverage', 'power'), ('approximate', 'unknown'), ('barrier', 'function'), ('ever', 'present'), ('tracking', 'desired'), ('engage', 'leader'), ('intricacy', 'adaptive'), ('article', 'delf'), ('limitation', 'distance'), ('general', 'barrier'), ('dynamic', 'course'), ('system', 'fl'), ('due', 'limitation'), ('present', 'robotic'), ('method', 'approximate'), ('moment', 'actuator'), ('triggered', 'formation'), ('range', 'constraint'), ('strategy', 'nonholonomic'), ('fault', 'tolerant'), ('triggering', 'fault'), ('compensate', 'effect'), ('furthermore', 'reduce'), ('strategy', 'guarantee'), ('maintenance', 'ever'), ('fault', 'range'), ('demonstrate', 'practical'), ('adaptive', 'fuzzy'), ('problem', 'collision'), ('connectivity', 'maintenance'), ('introduce', 'general'), ('surface', 'technology'), ('execution', 'compensate'), ('guarantee', 'signal'), ('leader', 'moment'), ('technology', 'propose'), ('nonlinear', 'function'), ('exploration', 'problem'), ('formation', 'control'), ('generated', 'leader'), ('power', 'fuzzy'), ('present', 'due'), ('robotic', 'dynamic')}\n",
      "ngrams plagio:  {('reduce', 'number'), ('address', 'issue'), ('mastery', 'index'), ('index', 'introduced'), ('fewer', 'network'), ('characterized', 'infinite'), ('resource', 'yet'), ('proposed', 'furthermore'), ('recall', 'rate'), ('signal', 'semi'), ('tracking', 'control'), ('practical', 'feasibility'), ('network', 'communication'), ('cheating', 'detection'), ('concept', 'knowledge'), ('method', 'based'), ('multirobot', 'system'), ('cheating', 'multi'), ('detect', 'covert'), ('number', 'controller'), ('plagiarism', 'coincidence'), ('disadvantage', 'difficult'), ('control', 'strategy'), ('communication', 'resource'), ('course', 'information'), ('global', 'uniformly'), ('fit', 'index'), ('effect', 'arising'), ('semi', 'global'), ('avoidance', 'connectivity'), ('information', 'exploration'), ('uncertain', 'parameter'), ('point', 'test'), ('etft', 'control'), ('control', 'nonholonomic'), ('plagiarist', 'difficult'), ('test', 'method'), ('failure', 'robot'), ('person', 'fit'), ('traditional', 'cheating'), ('event', 'triggered'), ('cheating', 'based'), ('distinguish', 'plagiarist'), ('delf', 'intricacy'), ('actuator', 'failure'), ('adaptive', 'method'), ('trajectory', 'generated'), ('difficult', 'distinguish'), ('ï', 'article'), ('function', 'uncertain'), ('based', 'false'), ('maintain', 'uninterrupted'), ('paper', 'concept'), ('rate', 'right'), ('system', 'characterized'), ('feasibility', 'etft'), ('field', 'paper'), ('source', 'cheating'), ('based', 'improved'), ('detection', 'method'), ('knowledge', 'point'), ('robot', 'engage'), ('arising', 'infinite'), ('collision', 'avoidance'), ('actuator', 'fault'), ('employ', 'adaptive'), ('unknown', 'nonlinear'), ('uniformly', 'ultimately'), ('bounded', 'sguub'), ('nonholonomic', 'multirobot'), ('using', 'fewer'), ('infinite', 'actuator'), ('parameter', 'present'), ('precision', 'recall'), ('difficult', 'detect'), ('logic', 'system'), ('experiment', 'show'), ('method', 'significantly'), ('mastery', 'certain'), ('fl', 'employ'), ('desired', 'trajectory'), ('fault', 'using'), ('visual', 'field'), ('covert', 'equipment'), ('issue', 'leverage'), ('ultimately', 'demonstrate'), ('yet', 'maintain'), ('uninterrupted', 'tracking'), ('diagnostic', 'model'), ('method', 'many'), ('distance', 'visual'), ('right', 'rate'), ('leader', 'guarantee'), ('fuzzy', 'event'), ('ultimately', 'bounded'), ('show', 'precision'), ('improved', 'cognitive'), ('sguub', 'ultimately'), ('controller', 'execution'), ('fuzzy', 'logic'), ('formation', 'tracking'), ('leverage', 'power'), ('approximate', 'unknown'), ('significantly', 'higher'), ('equipment', 'cheating'), ('rate', 'method'), ('ever', 'present'), ('tracking', 'desired'), ('engage', 'leader'), ('higher', 'method'), ('intricacy', 'adaptive'), ('article', 'delf'), ('method', 'cheating'), ('cognitive', 'diagnostic'), ('false', 'rate'), ('plagiarist', 'plagiarist'), ('limitation', 'distance'), ('dynamic', 'course'), ('system', 'fl'), ('plagiarist', 'victim'), ('introduced', 'measure'), ('due', 'limitation'), ('present', 'robotic'), ('method', 'approximate'), ('moment', 'actuator'), ('triggered', 'formation'), ('point', 'mastery'), ('multi', 'source'), ('range', 'constraint'), ('strategy', 'nonholonomic'), ('based', 'person'), ('compensate', 'effect'), ('furthermore', 'reduce'), ('maintenance', 'ever'), ('cheating', 'difficult'), ('fault', 'range'), ('measure', 'studentsâ'), ('demonstrate', 'practical'), ('adaptive', 'fuzzy'), ('problem', 'collision'), ('constraint', 'traditional'), ('connectivity', 'maintenance'), ('certain', 'knowledge'), ('studentsâ', 'mastery'), ('execution', 'compensate'), ('guarantee', 'signal'), ('leader', 'moment'), ('nonlinear', 'function'), ('exploration', 'problem'), ('victim', 'plagiarism'), ('model', 'proposed'), ('many', 'disadvantage'), ('generated', 'leader'), ('power', 'fuzzy'), ('coincidence', 'address'), ('present', 'due'), ('robotic', 'dynamic'), ('system', 'experiment')}\n",
      "Tipo de plagio: Reordenamiento de frases\n",
      "Coincidencias para el plagio:\n",
      "----------------------------\n",
      "Cadena original: (Longitud: 1128)\n",
      "Cadena plagiada:  (Longitud: 1437)\n",
      "\n"
     ]
    },
    {
     "name": "stderr",
     "output_type": "stream",
     "text": [
      "[nltk_data] Downloading package punkt to\n",
      "[nltk_data]     /Users/sergiogonzalez/nltk_data...\n",
      "[nltk_data]   Package punkt is already up-to-date!\n"
     ]
    }
   ],
   "execution_count": 51
  }
 ],
 "metadata": {
  "kernelspec": {
   "display_name": "Python 3",
   "language": "python",
   "name": "python3"
  },
  "language_info": {
   "codemirror_mode": {
    "name": "ipython",
    "version": 3
   },
   "file_extension": ".py",
   "mimetype": "text/x-python",
   "name": "python",
   "nbconvert_exporter": "python",
   "pygments_lexer": "ipython3",
   "version": "3.11.4"
  }
 },
 "nbformat": 4,
 "nbformat_minor": 5
}
