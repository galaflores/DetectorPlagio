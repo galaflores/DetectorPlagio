{
 "cells": [
  {
   "cell_type": "code",
   "execution_count": 2,
   "id": "a160284983477fa",
   "metadata": {
    "ExecuteTime": {
     "end_time": "2024-05-02T09:38:46.764646Z",
     "start_time": "2024-05-02T09:38:46.761657Z"
    }
   },
   "outputs": [
    {
     "name": "stderr",
     "output_type": "stream",
     "text": [
      "[nltk_data] Downloading package wordnet to\n",
      "[nltk_data]     /Users/galafloresgarcia/nltk_data...\n",
      "[nltk_data]   Package wordnet is already up-to-date!\n",
      "[nltk_data] Downloading package punkt to\n",
      "[nltk_data]     /Users/galafloresgarcia/nltk_data...\n",
      "[nltk_data]   Package punkt is already up-to-date!\n"
     ]
    }
   ],
   "source": [
    "import numpy as np\n",
    "import nltk\n",
    "import os\n",
    "import difflib\n",
    "from gensim.models import Word2Vec\n",
    "from nltk.stem import LancasterStemmer\n",
    "from nltk.stem import WordNetLemmatizer\n",
    "nltk.download('wordnet')\n",
    "from nltk.util import ngrams\n",
    "import gensim.downloader as api\n",
    "import re\n",
    "from gensim.models.doc2vec import Doc2Vec, TaggedDocument\n",
    "nltk.download('punkt')\n",
    "\n",
    "lemmatizer = WordNetLemmatizer() #lemmatizer algorithm\n",
    "lancStemmer = LancasterStemmer()  # stemming algorithm Lancaster"
   ]
  },
  {
   "cell_type": "markdown",
   "id": "9d86e79d49756202",
   "metadata": {},
   "source": [
    "# Preprocesamiento de texto"
   ]
  },
  {
   "cell_type": "code",
   "execution_count": 3,
   "id": "cabc55928702054c",
   "metadata": {
    "ExecuteTime": {
     "end_time": "2024-05-02T09:38:46.833078Z",
     "start_time": "2024-05-02T09:38:46.830968Z"
    }
   },
   "outputs": [],
   "source": [
    "def remove_stopwords(text):\n",
    "    stopwords = set(nltk.corpus.stopwords.words('english'))\n",
    "    palabras = [palabra.lower() for palabra in re.findall(r'\\w+', text.lower())]\n",
    "    text_lista = []\n",
    "    for palabra in palabras:\n",
    "        if palabra not in stopwords:\n",
    "            text_lista.append(palabra)\n",
    "    nuevo_texto = ' '.join(text_lista)\n",
    "    return nuevo_texto\n"
   ]
  },
  {
   "cell_type": "code",
   "execution_count": 4,
   "id": "42d531059485839a",
   "metadata": {
    "ExecuteTime": {
     "end_time": "2024-05-02T09:38:46.844845Z",
     "start_time": "2024-05-02T09:38:46.842760Z"
    }
   },
   "outputs": [],
   "source": [
    "def get_lemmatizer(text):\n",
    "    palabras = remove_stopwords(text)\n",
    "    palabras = palabras.split()\n",
    "    text_lista = []\n",
    "    for palabra in palabras:\n",
    "        nueva = lemmatizer.lemmatize(palabra)\n",
    "        text_lista.append(nueva)\n",
    "    nuevo_texto = ' '.join(text_lista)\n",
    "    return nuevo_texto"
   ]
  },
  {
   "cell_type": "code",
   "execution_count": 5,
   "id": "e3366f7a6073761d",
   "metadata": {
    "ExecuteTime": {
     "end_time": "2024-05-02T09:38:46.855758Z",
     "start_time": "2024-05-02T09:38:46.853898Z"
    }
   },
   "outputs": [],
   "source": [
    "def get_stemmer(text):\n",
    "    palabras = remove_stopwords(text)\n",
    "    palabras = palabras.split()\n",
    "    text_lista = []\n",
    "    for palabra in palabras:\n",
    "        nueva = lancStemmer.stem(palabra)\n",
    "        text_lista.append(nueva)\n",
    "    nuevo_texto = ' '.join(text_lista)\n",
    "    return nuevo_texto"
   ]
  },
  {
   "cell_type": "code",
   "execution_count": 6,
   "id": "fe7413594574936f",
   "metadata": {
    "ExecuteTime": {
     "end_time": "2024-05-02T09:38:46.859658Z",
     "start_time": "2024-05-02T09:38:46.857214Z"
    }
   },
   "outputs": [],
   "source": [
    "def get_grams(text, ngram, method):\n",
    "    result = []\n",
    "\n",
    "    if method == 'lemmatize':\n",
    "        text = get_lemmatizer(text)\n",
    "        if ngram == 0:  # Si ngram es 0, se retorna el texto completo sin ngramas\n",
    "            text = nltk.sent_tokenize(text)\n",
    "            text = ' '.join(text)\n",
    "            return text\n",
    "\n",
    "        else:\n",
    "            text = text.split()\n",
    "            grams = ngrams(text, ngram)\n",
    "            for ng in grams:\n",
    "                result.append(' '.join(ng))\n",
    "    elif method == 'stemmer':\n",
    "        text = get_stemmer(text)\n",
    "        if ngram == 0:  # Si ngram es 0, se retorna el texto completo sin ngramas\n",
    "            text = nltk.sent_tokenize(text)\n",
    "            text = ' '.join(text)\n",
    "            return text\n",
    "\n",
    "        else:\n",
    "            text = text.split()\n",
    "            grams = ngrams(text, ngram)\n",
    "            for ng in grams:\n",
    "                result.append(' '.join(ng))\n",
    "    else:\n",
    "        raise ValueError('Method not found')\n",
    "\n",
    "    return result"
   ]
  },
  {
   "cell_type": "code",
   "execution_count": 7,
   "id": "3e783c5598be2bd",
   "metadata": {
    "ExecuteTime": {
     "end_time": "2024-05-02T09:38:46.888488Z",
     "start_time": "2024-05-02T09:38:46.886665Z"
    }
   },
   "outputs": [],
   "source": [
    "def token_sentence(text):\n",
    "    sentences = nltk.sent_tokenize(text)\n",
    "    filtered_sentences = []\n",
    "    for sentence in sentences:\n",
    "        filtered_words = get_lemmatizer(sentence)\n",
    "        filtered_sentences.append(filtered_words)\n",
    "\n",
    "    return filtered_sentences"
   ]
  },
  {
   "cell_type": "markdown",
   "id": "d538115095025094",
   "metadata": {},
   "source": [
    "# Deteccion de plagio"
   ]
  },
  {
   "cell_type": "code",
   "execution_count": 8,
   "id": "aac47f6a85ab8cbd",
   "metadata": {
    "ExecuteTime": {
     "end_time": "2024-05-02T09:38:46.892159Z",
     "start_time": "2024-05-02T09:38:46.889935Z"
    }
   },
   "outputs": [],
   "source": [
    "def preprocess_docs(folder_path, ngram, method):\n",
    "    tagged_documents = []\n",
    "    for fileid in os.listdir(folder_path):\n",
    "        if fileid.endswith(\".txt\"):\n",
    "            filepath = os.path.join(folder_path, fileid)\n",
    "            \n",
    "            with open(filepath, 'r', encoding='latin1', errors='ignore') as file:\n",
    "                text = file.read()\n",
    "                grams = get_grams(text, ngram, method)\n",
    "                # Ensure words are split into a list of strings and then converted to tuple\n",
    "                words = tuple(word.split() for word in grams)\n",
    "                # Flatten the list of lists into a single list of strings\n",
    "                words = [word for sublist in words for word in sublist]\n",
    "                tagged_documents.append(TaggedDocument(words=words, tags=[fileid]))\n",
    "\n",
    "    return tagged_documents"
   ]
  },
  {
   "cell_type": "code",
   "execution_count": 9,
   "id": "f6c0ca04",
   "metadata": {
    "ExecuteTime": {
     "end_time": "2024-05-02T09:38:46.902013Z",
     "start_time": "2024-05-02T09:38:46.899726Z"
    }
   },
   "outputs": [],
   "source": [
    "def preprocess_docs_with_sentence(folder_path, ngram, method):\n",
    "    tagged_documents = []\n",
    "    for fileid in os.listdir(folder_path):\n",
    "        if fileid.endswith(\".txt\"):\n",
    "            filepath = os.path.join(folder_path, fileid)\n",
    "            \n",
    "            with open(filepath, 'r', encoding='latin1', errors='ignore') as file:\n",
    "                text = file.read()\n",
    "                sentences = nltk.sent_tokenize(text)  # Tokenizar el texto en oraciones\n",
    "                document_sentences = []  # Lista para almacenar las oraciones del documento\n",
    "\n",
    "                for sentence in sentences:\n",
    "                    grams = get_grams(sentence, ngram, method)\n",
    "                    # Separar las palabras y agregarlas a la lista de oraciones del documento\n",
    "                    words = [word for gram in grams for word in gram.split()]\n",
    "                    document_sentences.append(words)\n",
    "                \n",
    "                tagged_documents.append(TaggedDocument(words=document_sentences, tags=[fileid]))\n",
    "\n",
    "    return tagged_documents"
   ]
  },
  {
   "cell_type": "markdown",
   "id": "f9b65cf6965f9b04",
   "metadata": {},
   "source": [
    "# Deteccion de Tipo de plagio"
   ]
  },
  {
   "cell_type": "code",
   "execution_count": 10,
   "id": "8e0d2eeb",
   "metadata": {
    "ExecuteTime": {
     "end_time": "2024-05-02T09:38:46.912115Z",
     "start_time": "2024-05-02T09:38:46.910395Z"
    }
   },
   "outputs": [],
   "source": [
    "def detect_sentence_disorder(original_sentences, plagio_sentences):\n",
    "    #cantidad de oraciones es diferente, hay desorden\n",
    "    if len(original_sentences) != len(plagio_sentences):\n",
    "        return True\n",
    "    \n",
    "    #verifica si el orden de las oraciones es diferente\n",
    "    for original, plagio in zip(original_sentences, plagio_sentences):\n",
    "        if original != plagio:\n",
    "            return True\n",
    "        \n",
    "    return False"
   ]
  },
  {
   "cell_type": "code",
   "execution_count": 11,
   "id": "9938dba7",
   "metadata": {
    "ExecuteTime": {
     "end_time": "2024-05-02T09:38:46.935434Z",
     "start_time": "2024-05-02T09:38:46.933231Z"
    }
   },
   "outputs": [],
   "source": [
    "from nltk import pos_tag\n",
    "def detect_time_change(og_text, plagio_text):\n",
    "    original_verbs = [word for word, pos in nltk.pos_tag(nltk.word_tokenize(og_text)) if pos.startswith('VB')]\n",
    "    suspicious_verbs = [word for word, pos in nltk.pos_tag(nltk.word_tokenize(plagio_text)) if pos.startswith('VB')]\n",
    "\n",
    "    # Si la lista de verbos es diferente, hay un cambio de tiempo\n",
    "    if set(original_verbs) != set(suspicious_verbs):\n",
    "        return True\n",
    "            \n",
    "    return False"
   ]
  },
  {
   "cell_type": "code",
   "execution_count": 12,
   "id": "48c4394f",
   "metadata": {
    "ExecuteTime": {
     "end_time": "2024-05-02T09:38:46.938269Z",
     "start_time": "2024-05-02T09:38:46.936221Z"
    }
   },
   "outputs": [],
   "source": [
    "def detect_inserted_sentences(og_text, plagio_text):\n",
    "    og_sentences = token_sentence(og_text)\n",
    "    plagio_sentences = token_sentence(plagio_text)\n",
    "    \n",
    "    #si el plagio tiene mas oraciones que el original, hay oraciones insertadas\n",
    "    if len(plagio_sentences) > len(og_sentences):\n",
    "        return True\n",
    "    \n",
    "    #si el plagio tiene menos oraciones que el original, hay oraciones eliminadas\n",
    "    if len(plagio_sentences) < len(og_sentences):\n",
    "        return True\n",
    "    \n",
    "    #verifica si el orden de las oraciones es diferente\n",
    "    if detect_sentence_disorder(og_sentences, plagio_sentences):\n",
    "        return True\n",
    "    \n",
    "    return False"
   ]
  },
  {
   "cell_type": "code",
   "execution_count": 13,
   "id": "34eabd47",
   "metadata": {
    "ExecuteTime": {
     "end_time": "2024-05-02T09:38:46.948111Z",
     "start_time": "2024-05-02T09:38:46.946148Z"
    }
   },
   "outputs": [],
   "source": [
    "def detect_voice_change(og_text, plagio_text):\n",
    "    original_verbs = [word for word, pos in nltk.pos_tag(nltk.word_tokenize(og_text)) if pos.startswith('VB')]\n",
    "    suspicious_verbs = [word for word, pos in nltk.pos_tag(nltk.word_tokenize(plagio_text)) if pos.startswith('VB')]\n",
    "\n",
    "    # Si la lista de verbos es diferente, hay un cambio de voz\n",
    "    if set(original_verbs) != set(suspicious_verbs):\n",
    "        return True\n",
    "            \n",
    "    return False"
   ]
  },
  {
   "cell_type": "code",
   "execution_count": 14,
   "id": "e083d009",
   "metadata": {
    "ExecuteTime": {
     "end_time": "2024-05-02T09:38:46.950608Z",
     "start_time": "2024-05-02T09:38:46.948949Z"
    }
   },
   "outputs": [],
   "source": [
    "def detect_paraphrasing(og_text, plagio_text, model):\n",
    "    similarity_threshold = 0.95  # Umbral de similitud para considerar el parafraseo\n",
    "\n",
    "    similarity = calculate_similarity_doc2vec(og_text, plagio_text, model)\n",
    "    if similarity >= similarity_threshold:\n",
    "        return True\n",
    "    else:\n",
    "        return False"
   ]
  },
  {
   "cell_type": "markdown",
   "id": "2f5e8b1c2894b197",
   "metadata": {},
   "source": [
    "# Generacion de modelo, entrenamiento y calculo de similitud"
   ]
  },
  {
   "cell_type": "code",
   "execution_count": 15,
   "id": "5fa60796b8922db4",
   "metadata": {
    "ExecuteTime": {
     "end_time": "2024-05-02T09:38:46.958413Z",
     "start_time": "2024-05-02T09:38:46.956841Z"
    }
   },
   "outputs": [],
   "source": [
    "def train_doc2vec(tagged_documents):\n",
    "    model = Doc2Vec(vector_size=100, window=5, min_count=1, epochs=200,\n",
    "                    dm=0)  # dm=0 for distributed bag of words (DBOW) mode\n",
    "    model.build_vocab(tagged_documents)\n",
    "    model.train(tagged_documents, total_examples=model.corpus_count, epochs=model.epochs)\n",
    "    return model"
   ]
  },
  {
   "cell_type": "code",
   "execution_count": 16,
   "id": "701a181f33632fd9",
   "metadata": {
    "ExecuteTime": {
     "end_time": "2024-05-02T09:38:46.961219Z",
     "start_time": "2024-05-02T09:38:46.959532Z"
    }
   },
   "outputs": [],
   "source": [
    "def calculate_similarity_doc2vec(doc1, doc2, model):\n",
    "    vec1 = model.infer_vector(doc1.words)\n",
    "    vec2 = model.infer_vector(doc2.words)\n",
    "    similarity = model.dv.similarity(doc1.tags[0], doc2.tags[0])\n",
    "    return similarity"
   ]
  },
  {
   "cell_type": "markdown",
   "id": "fd33183036c31d5d",
   "metadata": {},
   "source": [
    "# APLICACION DE MODELO"
   ]
  },
  {
   "cell_type": "markdown",
   "id": "f9d549ac2476a9a2",
   "metadata": {},
   "source": [
    "Preprocesamiento de documentos originales y plagiados"
   ]
  },
  {
   "cell_type": "code",
   "execution_count": 17,
   "id": "ea3ff018",
   "metadata": {
    "ExecuteTime": {
     "end_time": "2024-05-02T09:38:47.102168Z",
     "start_time": "2024-05-02T09:38:46.969797Z"
    }
   },
   "outputs": [],
   "source": [
    "# Obtener n-gramas preprocesados\n",
    "folder_path = \"../../textos_plagiados\"  # Ruta de la carpeta con los textos plagiados)\n",
    "folder_path_og = \"../../docs_originales\"  # Ruta de la carpeta con los textos originales\n",
    "\n",
    "\n",
    "# Preprocessing original and plagiarized documents\n",
    "tagged_originals = preprocess_docs(folder_path_og, 1, 'lemmatize')\n",
    "tagged_plagiarized = preprocess_docs(folder_path, 1, 'lemmatize')\n",
    "\n",
    "# Preprocessing original and plagiarized documents with sentences\n",
    "tagged_originals_with_sentence = preprocess_docs_with_sentence(folder_path_og, 1, 'lemmatize')\n",
    "tagged_plagiarized_with_sentence = preprocess_docs_with_sentence(folder_path, 1, 'lemmatize')"
   ]
  },
  {
   "cell_type": "markdown",
   "id": "b8345b1f2624df1f",
   "metadata": {},
   "source": [
    "###  Entrenamiento del modelo Doc2Vec "
   ]
  },
  {
   "cell_type": "code",
   "execution_count": 18,
   "id": "4ed9d5f29397de45",
   "metadata": {
    "ExecuteTime": {
     "end_time": "2024-05-02T09:38:48.365324Z",
     "start_time": "2024-05-02T09:38:47.103014Z"
    }
   },
   "outputs": [],
   "source": [
    "# sin sentence\n",
    "model = train_doc2vec(tagged_originals + tagged_plagiarized)"
   ]
  },
  {
   "cell_type": "code",
   "execution_count": 19,
   "id": "70848c546b0d322e",
   "metadata": {
    "ExecuteTime": {
     "end_time": "2024-05-02T09:39:15.358109Z",
     "start_time": "2024-05-02T09:38:48.365895Z"
    }
   },
   "outputs": [
    {
     "name": "stdout",
     "output_type": "stream",
     "text": [
      "Similarity between 'FID-04.txt' and 'org-045.txt': 99.77%\n",
      "Similarity between 'FID-03.txt' and 'org-016.txt': 99.64%\n",
      "Similarity between 'FID-05.txt' and 'org-085.txt': 96.38%\n",
      "Similarity between 'FID-09.txt' and 'org-109.txt': 93.61%\n",
      "Similarity between 'FID-08.txt' and 'org-079.txt': 92.20%\n",
      "Similarity between 'FID-06.txt' and 'org-043.txt': 91.81%\n",
      "Similarity between 'FID-07.txt' and 'org-041.txt': 89.15%\n",
      "Similarity between 'FID-02.txt' and 'org-104.txt': 88.24%\n",
      "Similarity between 'FID-10.txt' and 'org-007.txt': 86.61%\n",
      "Similarity between 'FID-01.txt' and 'org-076.txt': 77.71%\n"
     ]
    }
   ],
   "source": [
    "# List to store similarity results\n",
    "similarity_results = []\n",
    "#plagiarism_type = '' \n",
    "\n",
    "# Iterating over each plagiarized text\n",
    "for plagio_doc in tagged_plagiarized:\n",
    "    max_similarity = 0\n",
    "    most_similar = ''\n",
    "    most_similar_doc = ''\n",
    "\n",
    "    # Comparing with each original document\n",
    "    for original_doc in tagged_originals:\n",
    "        similarity = calculate_similarity_doc2vec(plagio_doc, original_doc, model)\n",
    "        if similarity > max_similarity:\n",
    "            max_similarity = similarity\n",
    "            most_similar = original_doc.tags[0]\n",
    "            most_similar_doc = original_doc.words\n",
    "\n",
    "    similarity_results.append([plagio_doc.tags[0], most_similar, max_similarity, most_similar_doc])\n",
    "\n",
    "        \n",
    "\n",
    "# Sorting results by similarity in descending order\n",
    "similarity_results.sort(key=lambda x: x[2], reverse=True)\n",
    "\n",
    "# Printing results\n",
    "for result in similarity_results:\n",
    "    plagio_title, original_title, similarity_score, original_doc = result\n",
    "    print(f\"Similarity between '{plagio_title}' and '{original_title}': {similarity_score * 100:.2f}%\")\n"
   ]
  },
  {
   "cell_type": "markdown",
   "id": "f074da7bcc563b49",
   "metadata": {},
   "source": [
    "### Entrenamiento del modelo Doc2Vec con oraciones"
   ]
  },
  {
   "cell_type": "code",
   "execution_count": 20,
   "id": "c582b2cc1a9a2d35",
   "metadata": {
    "ExecuteTime": {
     "end_time": "2024-05-02T09:39:15.361008Z",
     "start_time": "2024-05-02T09:39:15.359409Z"
    }
   },
   "outputs": [],
   "source": [
    "# con sentence\n",
    "# model_with_sentence = train_doc2vec(tagged_originals_with_sentence + tagged_plagiarized_with_sentence)"
   ]
  },
  {
   "cell_type": "code",
   "execution_count": 21,
   "id": "58c2ebd9",
   "metadata": {
    "ExecuteTime": {
     "end_time": "2024-05-02T09:39:15.363767Z",
     "start_time": "2024-05-02T09:39:15.361596Z"
    }
   },
   "outputs": [],
   "source": [
    "def get_plagiarism_type(doc1, doc2, model):\n",
    "    vec1 = model.infer_vector(doc1.words)\n",
    "    vec2 = model.infer_vector(doc2.words)\n",
    "\n",
    "    plagiarism_type = []\n",
    "    for plagio_doc in tagged_plagiarized:\n",
    "        max_similarity = 0\n",
    "        most_similar = ''\n",
    "        most_similar_doc = ''\n",
    "\n",
    "        # Comparing with each original document\n",
    "        for original_doc in tagged_originals:\n",
    "            similarity = calculate_similarity_doc2vec(plagio_doc, original_doc, model)\n",
    "            if similarity > max_similarity:\n",
    "                max_similarity = similarity\n",
    "                most_similar = original_doc.tags[0]\n",
    "                most_similar_doc = original_doc.words\n",
    "\n",
    "    plagiarism_type.append([plagio_doc.tags[0], most_similar, max_similarity, most_similar_doc])"
   ]
  },
  {
   "cell_type": "markdown",
   "id": "91e85e2b770988ba",
   "metadata": {},
   "source": [
    "### TESTING OTROS"
   ]
  },
  {
   "cell_type": "code",
   "execution_count": 22,
   "id": "dde913aa4a7e9855",
   "metadata": {
    "ExecuteTime": {
     "end_time": "2024-05-02T09:39:15.365668Z",
     "start_time": "2024-05-02T09:39:15.364393Z"
    }
   },
   "outputs": [],
   "source": [
    "original_folder = \"../../docs_originales\"\n",
    "plagiarized_folder = \"../../textos_plagiados\""
   ]
  },
  {
   "cell_type": "markdown",
   "id": "95b91945c1ac076f",
   "metadata": {},
   "source": [
    "# Clasificar tipo de plagio GALA"
   ]
  },
  {
   "cell_type": "code",
   "execution_count": 23,
   "id": "1752fc490b2491dc",
   "metadata": {
    "ExecuteTime": {
     "end_time": "2024-05-02T09:39:15.367702Z",
     "start_time": "2024-05-02T09:39:15.366108Z"
    }
   },
   "outputs": [],
   "source": [
    "# # Classify plagiarism type \n",
    "# def classify_plagiarism_type(original_doc, plagiarized_doc):\n",
    "#     # Preprocesa los documentos\n",
    "#     original_processed = preprocess(original_doc)\n",
    "#     plagiarized_processed = preprocess(plagiarized_doc)\n",
    "# \n",
    "#     # Tokeniza los documentos en frases\n",
    "#     original_sentences = nltk.sent_tokenize(original_processed)\n",
    "#     plagiarized_sentences = nltk.sent_tokenize(plagiarized_processed)\n",
    "# \n",
    "#     # Comprueba si el plagio involucra insertar o reemplazar frases\n",
    "#     if len(original_sentences) < len(plagiarized_sentences):\n",
    "#         return \"Insertar o reemplazar frases\"\n",
    "# \n",
    "#     # Comprueba si el plagio involucra desordenar las frases\n",
    "#     if set(original_sentences) != set(plagiarized_sentences):\n",
    "#         return \"Desordenar las frases\"\n",
    "# \n",
    "#     # Comprueba si el plagio involucra cambio de tiempo\n",
    "#     # Implementa tu lógica aquí...\n",
    "# \n",
    "#     # Comprueba si el plagio involucra cambio de voz\n",
    "#     # Implementa tu lógica aquí...\n",
    "# \n",
    "#     # Comprueba si el plagio involucra parafraseo\n",
    "#     if original_processed != plagiarized_processed:\n",
    "#         return \"Parafraseo\"\n",
    "# \n",
    "#     # Si no se identifica ningún tipo específico de plagio, se devuelve un mensaje genérico\n",
    "#     return \"Tipo de plagio no identificado\"\n",
    "# \n",
    "# # Ejemplo de uso:\n",
    "# original_doc = \"El cambio climático es un problema global.\"\n",
    "# plagiarized_doc = \"El cambio climático se convierte en una preocupación a nivel mundial.\"\n",
    "# \n",
    "# plagiarism_type = classify_plagiarism_type(original_doc, plagiarized_doc)\n",
    "# print(\"Tipo de plagio:\", plagiarism_type)\n"
   ]
  },
  {
   "cell_type": "markdown",
   "id": "91aa6c1bebb2ac8f",
   "metadata": {},
   "source": [
    "# Clasificar tipo de plagio SERGIO"
   ]
  },
  {
   "cell_type": "code",
   "execution_count": 24,
   "id": "825f68e7f113f2bc",
   "metadata": {
    "ExecuteTime": {
     "end_time": "2024-05-02T09:39:15.378361Z",
     "start_time": "2024-05-02T09:39:15.368193Z"
    }
   },
   "outputs": [
    {
     "name": "stdout",
     "output_type": "stream",
     "text": [
      "Similitud entre 'FID-04.txt' y 'org-045.txt': 99.77%\n",
      "Tipo de plagio: Desordenar las frases\n",
      "----------------------------\n",
      "Similitud entre 'FID-03.txt' y 'org-016.txt': 99.64%\n",
      "Tipo de plagio: Cambio de tiempo\n",
      "----------------------------\n",
      "Similitud entre 'FID-05.txt' y 'org-085.txt': 96.38%\n",
      "Tipo de plagio: Insertar o reemplazar frases\n",
      "----------------------------\n",
      "Similitud entre 'FID-09.txt' y 'org-109.txt': 93.61%\n",
      "Tipo de plagio: Cambio de tiempo\n",
      "----------------------------\n",
      "Similitud entre 'FID-08.txt' y 'org-079.txt': 92.20%\n",
      "Tipo de plagio: Cambio de tiempo\n",
      "----------------------------\n",
      "Similitud entre 'FID-06.txt' y 'org-043.txt': 91.81%\n",
      "Tipo de plagio: Insertar o reemplazar frases\n",
      "----------------------------\n",
      "Similitud entre 'FID-07.txt' y 'org-041.txt': 89.15%\n",
      "Tipo de plagio: Cambio de tiempo\n",
      "----------------------------\n",
      "Similitud entre 'FID-02.txt' y 'org-104.txt': 88.24%\n",
      "Tipo de plagio: Cambio de tiempo\n",
      "----------------------------\n",
      "Similitud entre 'FID-10.txt' y 'org-007.txt': 86.61%\n",
      "Tipo de plagio: Cambio de tiempo\n",
      "----------------------------\n",
      "Similitud entre 'FID-01.txt' y 'org-076.txt': 77.71%\n",
      "Tipo de plagio: Cambio de tiempo\n",
      "----------------------------\n"
     ]
    },
    {
     "name": "stderr",
     "output_type": "stream",
     "text": [
      "[nltk_data] Downloading package punkt to\n",
      "[nltk_data]     /Users/galafloresgarcia/nltk_data...\n",
      "[nltk_data]   Package punkt is already up-to-date!\n"
     ]
    }
   ],
   "source": [
    "import nltk\n",
    "from difflib import SequenceMatcher\n",
    "\n",
    "nltk.download('punkt')\n",
    "\n",
    "def detectar_tipo_plagio(original, plagio):\n",
    "    tokens_original = nltk.word_tokenize(original)\n",
    "    tokens_plagio = nltk.word_tokenize(plagio)\n",
    "    similitud = SequenceMatcher(None, tokens_original, tokens_plagio).ratio()\n",
    "    if similitud == 1.0:\n",
    "        return \"Parafraseo\"\n",
    "    elif similitud >= 0.8:\n",
    "        return \"Insertar o reemplazar frases\"\n",
    "    elif similitud >= 0.6:\n",
    "        return \"Cambio de tiempo\"\n",
    "    elif similitud >= 0.4:\n",
    "        return \"Desordenar las frases\"\n",
    "    else:\n",
    "        return \"Cambio de voz\"\n",
    "\n",
    "# Recorrer cada par de documentos en similarity_results\n",
    "for result in similarity_results:\n",
    "    plagio_title, original_title, similarity_score, original_doc = result\n",
    "    original_doc_text = ' '.join([word for word in original_doc])\n",
    "    plagiarized_doc_text = [doc.words for doc in tagged_plagiarized if doc.tags[0] == plagio_title][0]\n",
    "    plagiarized_doc_text = ' '.join([word for word in plagiarized_doc_text])\n",
    "\n",
    "    # print(f\"Titulo: {plagio_title}\")\n",
    "    print(f\"Similitud entre '{plagio_title}' y '{original_title}': {similarity_score * 100:.2f}%\")\n",
    "    tipo_plagio = detectar_tipo_plagio(original_doc_text, plagiarized_doc_text)\n",
    "    print(\"Tipo de plagio:\", tipo_plagio)\n",
    "    # print(\"Coincidencias para el plagio:\")\n",
    "    print(\"----------------------------\")\n",
    "    # print(f\"Cadena original: (Longitud: {len(original_doc_text)})\")\n",
    "    # print(f\"Cadena plagiada:  (Longitud: {len(plagiarized_doc_text)})\")\n",
    "    # print()\n"
   ]
  },
  {
   "cell_type": "markdown",
   "id": "4b6feea8815c6b74",
   "metadata": {},
   "source": [
    "# INTENTO DE MEJORA"
   ]
  },
  {
   "cell_type": "code",
   "execution_count": 25,
   "id": "eaf3c8531a7108d6",
   "metadata": {
    "ExecuteTime": {
     "end_time": "2024-05-02T09:39:15.391672Z",
     "start_time": "2024-05-02T09:39:15.379125Z"
    }
   },
   "outputs": [
    {
     "name": "stdout",
     "output_type": "stream",
     "text": [
      "Titulo: FID-04.txt\n",
      "Similitud entre 'FID-04.txt' y 'org-045.txt': 99.77%\n",
      "ngrams originales:  {('intelligent', 'system'), ('consensus', 'formal'), ('tool', 'assessing'), ('recognize', 'empathy'), ('changing', 'perception'), ('variety', 'definition'), ('behavior', 'change'), ('order', 'understand'), ('change', 'intervention'), ('comfort', 'behavior'), ('trend', 'changing'), ('empathy', 'consensus'), ('capability', 'interlocutor'), ('engage', 'user'), ('serve', 'automated'), ('empathy', 'interactionsâ'), ('art', 'tool'), ('application', 'agent'), ('need', 'understanding'), ('user', 'study'), ('discus', 'variety'), ('formal', 'definition'), ('applying', 'tool'), ('capability', 'current'), ('based', 'systematic'), ('assessing', 'empathic'), ('study', 'applying'), ('definition', 'based'), ('chatbots', 'replika'), ('present', 'potential'), ('conversation', 'e'), ('analysis', 'recent'), ('current', 'state'), ('definition', 'implemented'), ('interpersonal', 'conversation'), ('understanding', 'agentsâ'), ('precise', 'notion'), ('well', 'formal'), ('empathy', 'two'), ('wysa', 'finding'), ('owl', 'may'), ('agent', 'evaluating'), ('evaluating', 'empathic'), ('interactive', 'software'), ('area', 'health'), ('necessary', 'condition'), ('capability', 'interactive'), ('user', 'interpersonal'), ('ontologyâ', 'empathy'), ('tool', 'enabling'), ('well', 'application'), ('well', 'chatbots'), ('need', 'precise'), ('tool', 'order'), ('empathy', 'literature'), ('qualitative', 'analysis'), ('definitionâ', 'ontologyâ'), ('intervention', 'increased'), ('increased', 'need'), ('systematic', 'literature'), ('ontology', 'language'), ('empathy', 'time'), ('coaching', 'comfort'), ('finding', 'suggest'), ('may', 'serve'), ('system', 'recognize'), ('interactionsâ', 'interactive'), ('art', 'health'), ('agentsâ', 'empathic'), ('empathic', 'performance'), ('agent', 'chatbots'), ('automated', 'tool'), ('approach', 'empathy'), ('empathic', 'capability'), ('agent', 'health'), ('health', 'well'), ('empathy', 'interactive'), ('performance', 'intelligent'), ('condition', 'assessing'), ('e', 'g'), ('implemented', 'web'), ('understand', 'empathic'), ('chatbots', 'progressively'), ('definition', 'controlled'), ('controlled', 'user'), ('uncover', 'explain'), ('capture', 'necessary'), ('time', 'definition'), ('web', 'ontology'), ('system', 'assessing'), ('explain', 'trend'), ('software', 'agent'), ('literature', 'review'), ('developed', 'present'), ('potential', 'formal'), ('definition', 'empathy'), ('literature', 'discus'), ('recent', 'approach'), ('replika', 'wysa'), ('progressively', 'used'), ('language', 'owl'), ('agent', 'engage'), ('interactive', 'agent'), ('enabling', 'system'), ('formal', 'definitionâ'), ('g', 'coaching'), ('suggest', 'definition'), ('empathy', 'developed'), ('assessing', 'empathy'), ('perception', 'empathy'), ('used', 'area'), ('notion', 'empathy'), ('definition', 'capture'), ('agent', 'need'), ('review', 'qualitative'), ('two', 'state'), ('state', 'art'), ('agent', 'uncover')}\n",
      "ngrams plagio:  {('intelligent', 'system'), ('consensus', 'formal'), ('recognize', 'empathy'), ('tool', 'assessing'), ('changing', 'perception'), ('variety', 'definition'), ('behavior', 'change'), ('order', 'understand'), ('change', 'intervention'), ('comfort', 'behavior'), ('trend', 'changing'), ('capability', 'interlocutor'), ('empathy', 'consensus'), ('engage', 'user'), ('serve', 'automated'), ('empathy', 'interactionsâ'), ('art', 'tool'), ('application', 'agent'), ('user', 'study'), ('need', 'understanding'), ('discus', 'variety'), ('formal', 'definition'), ('applying', 'tool'), ('based', 'systematic'), ('assessing', 'empathic'), ('study', 'applying'), ('chatbots', 'replika'), ('present', 'potential'), ('analysis', 'recent'), ('conversation', 'e'), ('current', 'state'), ('definition', 'implemented'), ('empathy', 'two'), ('wysa', 'finding'), ('precise', 'notion'), ('owl', 'may'), ('well', 'formal'), ('interpersonal', 'conversation'), ('understanding', 'agentsâ'), ('agent', 'evaluating'), ('evaluating', 'empathic'), ('interactive', 'software'), ('area', 'health'), ('necessary', 'condition'), ('capability', 'interactive'), ('user', 'interpersonal'), ('ontologyâ', 'empathy'), ('tool', 'enabling'), ('well', 'chatbots'), ('need', 'precise'), ('empathy', 'literature'), ('qualitative', 'analysis'), ('definitionâ', 'ontologyâ'), ('intervention', 'increased'), ('systematic', 'literature'), ('increased', 'need'), ('ontology', 'language'), ('empathy', 'time'), ('coaching', 'comfort'), ('may', 'serve'), ('system', 'recognize'), ('interactionsâ', 'interactive'), ('finding', 'suggest'), ('art', 'health'), ('developed', 'order'), ('agentsâ', 'empathic'), ('empathic', 'performance'), ('agent', 'chatbots'), ('automated', 'tool'), ('approach', 'empathy'), ('empathic', 'capability'), ('interlocutor', 'current'), ('agent', 'health'), ('health', 'well'), ('well', 'definition'), ('empathy', 'interactive'), ('performance', 'intelligent'), ('condition', 'assessing'), ('definition', 'application'), ('e', 'g'), ('implemented', 'web'), ('understand', 'empathic'), ('tool', 'present'), ('chatbots', 'progressively'), ('definition', 'controlled'), ('controlled', 'user'), ('uncover', 'explain'), ('capture', 'necessary'), ('web', 'ontology'), ('system', 'assessing'), ('explain', 'trend'), ('software', 'agent'), ('literature', 'review'), ('potential', 'formal'), ('definition', 'empathy'), ('literature', 'discus'), ('recent', 'approach'), ('replika', 'wysa'), ('progressively', 'used'), ('language', 'owl'), ('agent', 'engage'), ('interactive', 'agent'), ('enabling', 'system'), ('formal', 'definitionâ'), ('g', 'coaching'), ('suggest', 'definition'), ('empathy', 'developed'), ('time', 'based'), ('assessing', 'empathy'), ('perception', 'empathy'), ('used', 'area'), ('notion', 'empathy'), ('definition', 'capture'), ('agent', 'need'), ('review', 'qualitative'), ('two', 'state'), ('state', 'art'), ('agent', 'uncover')}\n",
      "Tipo de plagio: Parafraseo o reordenamiento de frases\n",
      "Coincidencias para el plagio:\n",
      "----------------------------\n",
      "Cadena original: (Longitud: 1098)\n",
      "Cadena plagiada:  (Longitud: 1098)\n",
      "\n",
      "Titulo: FID-03.txt\n",
      "Similitud entre 'FID-03.txt' y 'org-016.txt': 99.64%\n",
      "ngrams originales:  {('present', 'application'), ('expert', '83'), ('analysis', 'human'), ('5', '10'), ('system', 'performance'), ('system', 'v'), ('technology', 'platform'), ('received', 'good'), ('requirement', 'computer'), ('vision', 'system'), ('showed', 'condition'), ('face', 'problem'), ('data', 'analysis'), ('efficiency', 'unstable'), ('result', 'showed'), ('practical', 'application'), ('ep', 'v'), ('system', 'achieved'), ('result', 'practical'), ('indicated', 'system'), ('19', '4'), ('accounted', '81'), ('showed', 'positive'), ('seriously', 'hampered'), ('embedded', 'system'), ('test', 'result'), ('intelligent', 'robot'), ('designed', 'ep'), ('interaction', 'etc'), ('vector', 'machine'), ('overall', 'development'), ('network', 'security'), ('performance', 'paper'), ('proportion', 'positive'), ('present', 'visual'), ('ai', 'technology'), ('support', 'vector'), ('function', 'test'), ('x', 'meet'), ('actual', 'application'), ('combined', 'embedded'), ('evaluation', 'accounted'), ('hardware', 'design'), ('relationship', 'ai'), ('efficiency', 'certain'), ('low', 'overall'), ('industrial', 'control'), ('platform', 'combined'), ('however', 'ai'), ('4', 'negative'), ('5', '90'), ('artificial', 'intelligence'), ('x', '16'), ('positive', 'relationship'), ('unstable', 'system'), ('system', 'recognition'), ('field', 'received'), ('hampered', 'problem'), ('system', 'x'), ('certain', 'extent'), ('etc', 'present'), ('design', 'support'), ('meet', 'actual'), ('accounted', '19'), ('16', '5'), ('smart', 'home'), ('higher', 'system'), ('development', 'seriously'), ('83', '5'), ('student', 'expert'), ('requirement', 'improve'), ('algorithm', 'realize'), ('visual', 'platform'), ('problem', 'low'), ('ep', 'vision'), ('platform', 'embedded'), ('human', 'computer'), ('detection', 'function'), ('however', 'positive'), ('ai', 'industrial'), ('remarkable', 'result'), ('development', 'efficiency'), ('security', 'data'), ('machine', 'svm'), ('90', 'positive'), ('robot', 'interaction'), ('paper', 'designed'), ('recognition', 'efficiency'), ('condition', 'student'), ('system', 'indicated'), ('system', 'accounted'), ('computer', 'performance'), ('application', 'development'), ('target', 'detection'), ('interaction', 'target'), ('good', 'response'), ('negative', 'evaluation'), ('also', 'face'), ('application', 'requirement'), ('x', 'much'), ('extent', 'showed'), ('improve', 'system'), ('certain', 'requirement'), ('achieved', 'remarkable'), ('96', 'proportion'), ('response', 'however'), ('application', 'artificial'), ('intelligence', 'ai'), ('respectively', 'however'), ('81', '96'), ('realize', 'intelligent'), ('evaluation', 'respectively'), ('svm', 'algorithm'), ('evaluation', 'system'), ('problem', 'network'), ('home', 'field'), ('performance', 'also'), ('10', 'negative'), ('technology', 'ep'), ('much', 'higher'), ('control', 'smart'), ('technology', 'certain'), ('v', 'based'), ('embedded', 'hardware'), ('positive', 'evaluation'), ('based', 'ai'), ('computer', 'interaction')}\n",
      "ngrams plagio:  {('present', 'application'), ('expert', '83'), ('analysis', 'human'), ('5', '10'), ('system', 'performance'), ('system', 'v'), ('technology', 'platform'), ('received', 'good'), ('requirement', 'computer'), ('vision', 'system'), ('v', 'proportion'), ('showed', 'condition'), ('face', 'problem'), ('data', 'analysis'), ('efficiency', 'unstable'), ('result', 'showed'), ('practical', 'application'), ('ep', 'v'), ('system', 'achieved'), ('result', 'practical'), ('indicated', 'system'), ('19', '4'), ('accounted', '81'), ('showed', 'positive'), ('seriously', 'hampered'), ('embedded', 'system'), ('test', 'result'), ('intelligent', 'robot'), ('designed', 'ep'), ('interaction', 'etc'), ('vector', 'machine'), ('overall', 'development'), ('network', 'security'), ('extent', 'however'), ('proportion', 'positive'), ('present', 'visual'), ('ai', 'technology'), ('support', 'vector'), ('x', 'meet'), ('actual', 'application'), ('96', 'however'), ('combined', 'embedded'), ('evaluation', 'accounted'), ('hardware', 'design'), ('relationship', 'ai'), ('function', 'showed'), ('low', 'overall'), ('industrial', 'control'), ('platform', 'combined'), ('efficiency', 'certain'), ('however', 'ai'), ('4', 'negative'), ('5', '90'), ('artificial', 'intelligence'), ('x', '16'), ('positive', 'relationship'), ('unstable', 'system'), ('system', 'recognition'), ('field', 'received'), ('hampered', 'problem'), ('system', 'x'), ('certain', 'extent'), ('etc', 'present'), ('design', 'support'), ('meet', 'actual'), ('accounted', '19'), ('16', '5'), ('smart', 'home'), ('higher', 'system'), ('development', 'seriously'), ('83', '5'), ('student', 'expert'), ('requirement', 'improve'), ('algorithm', 'realize'), ('visual', 'platform'), ('problem', 'low'), ('ep', 'vision'), ('platform', 'embedded'), ('human', 'computer'), ('detection', 'function'), ('however', 'positive'), ('ai', 'industrial'), ('remarkable', 'result'), ('development', 'efficiency'), ('security', 'data'), ('machine', 'svm'), ('90', 'positive'), ('robot', 'interaction'), ('paper', 'designed'), ('recognition', 'efficiency'), ('condition', 'student'), ('system', 'indicated'), ('system', 'accounted'), ('computer', 'performance'), ('application', 'development'), ('target', 'detection'), ('interaction', 'target'), ('good', 'response'), ('negative', 'evaluation'), ('also', 'face'), ('application', 'requirement'), ('x', 'much'), ('improve', 'system'), ('certain', 'requirement'), ('achieved', 'remarkable'), ('response', 'however'), ('application', 'artificial'), ('intelligence', 'ai'), ('performance', 'test'), ('81', '96'), ('realize', 'intelligent'), ('evaluation', 'respectively'), ('svm', 'algorithm'), ('evaluation', 'system'), ('problem', 'network'), ('home', 'field'), ('performance', 'also'), ('10', 'negative'), ('technology', 'ep'), ('much', 'higher'), ('control', 'smart'), ('technology', 'certain'), ('positive', 'evaluation'), ('v', 'based'), ('embedded', 'hardware'), ('based', 'ai'), ('respectively', 'paper'), ('computer', 'interaction')}\n",
      "Tipo de plagio: Parafraseo o reordenamiento de frases\n",
      "Coincidencias para el plagio:\n",
      "----------------------------\n",
      "Cadena original: (Longitud: 1060)\n",
      "Cadena plagiada:  (Longitud: 1146)\n",
      "\n",
      "Titulo: FID-05.txt\n",
      "Similitud entre 'FID-05.txt' y 'org-085.txt': 96.38%\n",
      "ngrams originales:  {('diagnose', 'cardiovascular'), ('unit', 'attention'), ('90', 'whereas'), ('mobile', 'application'), ('using', 'bigru'), ('using', 'four'), ('cardiovascular', 'disease'), ('91', '88'), ('using', 'iot'), ('recurrent', 'unit'), ('dietary', 'recommendation'), ('recommendation', 'system'), ('prediction', 'model'), ('dataset', 'proposed'), ('86', '91'), ('risk', 'however'), ('disease', 'prediction'), ('ecg', 'sensor'), ('63', 'respectively'), ('five', 'available'), ('patient', 'based'), ('whereas', 'mabc'), ('mlbpm', 'method'), ('class', 'recommendation'), ('cardiac', 'disease'), ('data', 'iot'), ('data', 'collected'), ('model', 'implemented'), ('99', '90'), ('prediction', 'using'), ('proposed', 'providing'), ('arduino', 'controller'), ('time', 'framinghamâ'), ('treatment', 'dietary'), ('disease', 'initially'), ('cardio', 'method'), ('application', 'provide'), ('diagnosis', 'result'), ('implemented', 'using'), ('available', 'cardiovascular'), ('framinghamâ', 'statlog'), ('statlog', 'heart'), ('cloudsim', 'using'), ('complex', 'task'), ('system', 'provides'), ('disease', 'classify'), ('accuracy', '99'), ('novel', 'recommendation'), ('patient', 'risk'), ('however', 'predicting'), ('cloud', 'simulator'), ('result', 'rarely'), ('88', '65'), ('overall', 'accuracy'), ('65', '93'), ('predict', 'diagnose'), ('rarely', 'accurate'), ('address', 'issue'), ('using', 'real'), ('pulse', 'sensor'), ('providing', 'prior'), ('based', 'remote'), ('task', 'diagnosis'), ('physical', 'dietary'), ('via', 'user'), ('model', 'diagnose'), ('cardio', 'proposed'), ('achieves', '86'), ('diagnosis', 'treatment'), ('physiological', 'data'), ('validated', 'cloud'), ('93', '63'), ('initially', 'physiological'), ('remote', 'healthcare'), ('disease', 'complex'), ('bidirectional', 'gated'), ('fast', 'preventative'), ('iot', 'based'), ('iot', 'network'), ('proposed', 'deep'), ('provides', 'physical'), ('simulator', 'cloudsim'), ('sensor', 'glucose'), ('diagnose', 'disease'), ('receives', 'collected'), ('classify', 'five'), ('remotely', 'using'), ('gated', 'recurrent'), ('issue', 'novel'), ('sensor', 'predict'), ('sensor', 'pressure'), ('network', 'deep'), ('recommendation', 'cardiac'), ('system', 'cardiovascular'), ('disease', 'dataset'), ('accurate', 'address'), ('attention', 'model'), ('classified', 'data'), ('provide', 'fast'), ('controller', 'receives'), ('patientâ', 'remotely'), ('sensor', 'arduino'), ('medical', 'service'), ('bigru', 'bidirectional'), ('glucose', 'sensor'), ('thing', 'iot'), ('hcbda', 'mlbpm'), ('cardio', 'validated'), ('sensor', 'pulse'), ('prior', 'diagnosis'), ('deep', 'cardio'), ('real', 'time'), ('svm', 'hcbda'), ('performance', 'deep'), ('achieves', 'overall'), ('bio', 'sensor'), ('collected', 'data'), ('service', 'patient'), ('pressure', 'sensor'), ('disease', 'cardiovascular'), ('method', 'achieves'), ('internet', 'thing'), ('iot', 'sensor'), ('preventative', 'medical'), ('sensor', 'ecg'), ('based', 'classified'), ('data', 'via'), ('cardiac', 'patient'), ('application', 'performance'), ('collected', 'patientâ'), ('heart', 'disease'), ('mabc', 'svm'), ('healthcare', 'application'), ('cardiovascular', 'class'), ('predicting', 'heart'), ('four', 'bio'), ('user', 'mobile')}\n",
      "ngrams plagio:  {('unit', 'attention'), ('90', 'whereas'), ('mobile', 'application'), ('using', 'bigru'), ('using', 'four'), ('controller', 'received'), ('cardiovascular', 'disease'), ('91', '88'), ('using', 'iot'), ('recurrent', 'unit'), ('dietary', 'recommendation'), ('recommendation', 'system'), ('prediction', 'model'), ('dataset', 'proposed'), ('86', '91'), ('risk', 'however'), ('disease', 'prediction'), ('ecg', 'sensor'), ('63', 'respectively'), ('five', 'available'), ('patient', 'based'), ('whereas', 'mabc'), ('mlbpm', 'method'), ('class', 'recommendation'), ('cardiac', 'disease'), ('data', 'iot'), ('data', 'collected'), ('model', 'implemented'), ('99', '90'), ('prediction', 'using'), ('proposed', 'providing'), ('arduino', 'controller'), ('time', 'framinghamâ'), ('treatment', 'dietary'), ('disease', 'initially'), ('method', 'achieved'), ('cardio', 'method'), ('diagnosis', 'result'), ('implemented', 'using'), ('available', 'cardiovascular'), ('framinghamâ', 'statlog'), ('statlog', 'heart'), ('accuracy', '99'), ('cloudsim', 'using'), ('complex', 'task'), ('novel', 'recommendation'), ('patient', 'risk'), ('however', 'predicting'), ('cloud', 'simulator'), ('result', 'rarely'), ('achieved', '86'), ('88', '65'), ('overall', 'accuracy'), ('65', '93'), ('predict', 'diagnose'), ('rarely', 'accurate'), ('address', 'issue'), ('model', 'diagnosed'), ('using', 'real'), ('pulse', 'sensor'), ('providing', 'prior'), ('based', 'remote'), ('task', 'diagnosis'), ('physical', 'dietary'), ('via', 'user'), ('cardio', 'proposed'), ('diagnosis', 'treatment'), ('physiological', 'data'), ('validated', 'cloud'), ('93', '63'), ('initially', 'physiological'), ('remote', 'healthcare'), ('disease', 'complex'), ('bidirectional', 'gated'), ('fast', 'preventative'), ('iot', 'based'), ('iot', 'network'), ('proposed', 'deep'), ('simulator', 'cloudsim'), ('sensor', 'glucose'), ('diagnose', 'disease'), ('remotely', 'using'), ('diagnosed', 'cardiovascular'), ('gated', 'recurrent'), ('issue', 'novel'), ('sensor', 'predict'), ('sensor', 'pressure'), ('network', 'deep'), ('recommendation', 'cardiac'), ('disease', 'classified'), ('system', 'cardiovascular'), ('disease', 'dataset'), ('achieved', 'overall'), ('application', 'provided'), ('accurate', 'address'), ('attention', 'model'), ('classified', 'data'), ('received', 'collected'), ('patientâ', 'remotely'), ('sensor', 'arduino'), ('provided', 'fast'), ('medical', 'service'), ('bigru', 'bidirectional'), ('glucose', 'sensor'), ('thing', 'iot'), ('hcbda', 'mlbpm'), ('cardio', 'validated'), ('sensor', 'pulse'), ('prior', 'diagnosis'), ('deep', 'cardio'), ('real', 'time'), ('svm', 'hcbda'), ('performance', 'deep'), ('bio', 'sensor'), ('system', 'provided'), ('collected', 'data'), ('service', 'patient'), ('pressure', 'sensor'), ('disease', 'cardiovascular'), ('provided', 'physical'), ('internet', 'thing'), ('iot', 'sensor'), ('preventative', 'medical'), ('sensor', 'ecg'), ('based', 'classified'), ('data', 'via'), ('cardiac', 'patient'), ('application', 'performance'), ('collected', 'patientâ'), ('classified', 'five'), ('heart', 'disease'), ('mabc', 'svm'), ('healthcare', 'application'), ('cardiovascular', 'class'), ('predicting', 'heart'), ('four', 'bio'), ('user', 'mobile')}\n",
      "Tipo de plagio: Parafraseo o reordenamiento de frases\n",
      "Coincidencias para el plagio:\n",
      "----------------------------\n",
      "Cadena original: (Longitud: 1165)\n",
      "Cadena plagiada:  (Longitud: 1169)\n",
      "\n",
      "Titulo: FID-09.txt\n",
      "Similitud entre 'FID-09.txt' y 'org-109.txt': 93.61%\n",
      "ngrams originales:  {('past', 'strengthens'), ('proteomics', 'microarray'), ('scientist', 'however'), ('trial', 'also'), ('modeling', 'quantitative'), ('provided', 'critical'), ('data', 'mining'), ('company', 'chemical'), ('screening', 'ligand'), ('toxicity', 'prediction'), ('management', 'technique'), ('big', 'data'), ('important', 'area'), ('algorithm', 'summary'), ('high', 'cost'), ('play', 'crucial'), ('area', 'research'), ('activity', 'evidence'), ('structureâ', 'activity'), ('discovery', 'development'), ('several', 'drug'), ('data', 'clinical'), ('prediction', 'drug'), ('opportunity', 'rational'), ('repositioning', 'polypharmacology'), ('activity', 'relationship'), ('efficacy', 'target'), ('pharmacophore', 'modeling'), ('monitoring', 'release'), ('chemical', 'scientist'), ('curation', 'management'), ('provide', 'excellent'), ('screening', 'toxicity'), ('research', 'pharmaceutical'), ('neural', 'network'), ('genomics', 'proteomics'), ('also', 'impose'), ('virtual', 'screening'), ('drug', 'monitoring'), ('eventually', 'impact'), ('learning', 'algorithm'), ('polypharmacology', 'physiochemical'), ('drug', 'design'), ('ligand', 'based'), ('learning', 'deep'), ('target', 'delivery'), ('based', 'virtual'), ('structure', 'based'), ('learning', 'technology'), ('summary', 'artificial'), ('drug', 'repositioning'), ('physiochemical', 'activity'), ('modeling', 'algorithm'), ('drug', 'designing'), ('consumption', 'high'), ('peptide', 'synthesis'), ('impact', 'mankind'), ('advancement', 'provide'), ('intelligence', 'machine'), ('synthesis', 'structure'), ('novel', 'data'), ('low', 'efficacy'), ('complex', 'big'), ('drug', 'discovery'), ('pipeline', 'artificial'), ('artificial', 'intelligence'), ('process', 'eventually'), ('rational', 'drug'), ('role', 'drug'), ('moreover', 'novel'), ('process', 'peptide'), ('developed', 'modeling'), ('data', 'genomics'), ('technology', 'play'), ('designing', 'development'), ('field', 'moreover'), ('mining', 'curation'), ('time', 'consumption'), ('support', 'recently'), ('recently', 'developed'), ('area', 'machine'), ('implemented', 'several'), ('impose', 'obstacle'), ('impact', 'drug'), ('implementation', 'artificial'), ('learning', 'advancement'), ('modernized', 'area'), ('development', 'word'), ('discovery', 'complex'), ('crucial', 'role'), ('relationship', 'drug'), ('network', 'deep'), ('microarray', 'data'), ('excellent', 'opportunity'), ('clinical', 'trial'), ('design', 'discovery'), ('delivery', 'time'), ('discovery', 'process'), ('algorithm', 'modernized'), ('algorithm', 'implemented'), ('technique', 'provided'), ('learning', 'field'), ('impose', 'hurdle'), ('discovery', 'pipeline'), ('release', 'pharmacophore'), ('obstacle', 'drug'), ('challenge', 'impact'), ('artificial', 'neural'), ('quantitative', 'structureâ'), ('evidence', 'past'), ('machine', 'learning'), ('deep', 'learning'), ('word', 'artificial'), ('strengthens', 'implementation'), ('critical', 'support'), ('however', 'low'), ('development', 'important'), ('pharmaceutical', 'company'), ('hurdle', 'challenge'), ('cost', 'impose'), ('intelligence', 'deep')}\n",
      "ngrams plagio:  {('complexity', 'volume'), ('past', 'strengthens'), ('significant', 'obstacle'), ('proteomics', 'microarray'), ('scientist', 'however'), ('use', 'artificial'), ('trial', 'also'), ('modeling', 'quantitative'), ('provided', 'critical'), ('data', 'mining'), ('company', 'chemical'), ('screening', 'ligand'), ('toxicity', 'prediction'), ('management', 'technique'), ('volume', 'data'), ('big', 'data'), ('important', 'area'), ('algorithm', 'summary'), ('high', 'cost'), ('discovery', 'additionally'), ('area', 'research'), ('cost', 'hinder'), ('play', 'crucial'), ('activity', 'evidence'), ('support', 'implementation'), ('structureâ', 'activity'), ('crucial', 'area'), ('implementation', 'ai'), ('newly', 'developed'), ('discovery', 'development'), ('technology', 'revolutionized'), ('support', 'newly'), ('several', 'drug'), ('data', 'clinical'), ('prediction', 'drug'), ('evidence', 'support'), ('opportunity', 'rational'), ('repositioning', 'polypharmacology'), ('activity', 'relationship'), ('efficacy', 'target'), ('pharmacophore', 'modeling'), ('monitoring', 'release'), ('chemical', 'scientist'), ('curation', 'management'), ('learning', 'drug'), ('provide', 'excellent'), ('screening', 'toxicity'), ('research', 'pharmaceutical'), ('neural', 'network'), ('technology', 'modernized'), ('genomics', 'proteomics'), ('drug', 'monitoring'), ('virtual', 'screening'), ('hinder', 'progress'), ('discovery', 'ultimately'), ('learning', 'algorithm'), ('polypharmacology', 'physiochemical'), ('drug', 'design'), ('also', 'impose'), ('eventually', 'impact'), ('ligand', 'based'), ('learning', 'deep'), ('target', 'delivery'), ('based', 'virtual'), ('structure', 'based'), ('however', 'challenge'), ('learning', 'technology'), ('summary', 'artificial'), ('drug', 'repositioning'), ('physiochemical', 'activity'), ('modeling', 'algorithm'), ('drug', 'designing'), ('consumption', 'high'), ('ai', 'machine'), ('peptide', 'synthesis'), ('impact', 'mankind'), ('advancement', 'provide'), ('benefiting', 'mankind'), ('intelligence', 'machine'), ('synthesis', 'structure'), ('novel', 'data'), ('low', 'efficacy'), ('drug', 'discovery'), ('pipeline', 'artificial'), ('complex', 'big'), ('artificial', 'intelligence'), ('process', 'eventually'), ('rational', 'drug'), ('role', 'drug'), ('moreover', 'novel'), ('discovery', 'including'), ('offer', 'significant'), ('process', 'peptide'), ('developed', 'modeling'), ('ultimately', 'benefiting'), ('data', 'genomics'), ('technology', 'play'), ('designing', 'development'), ('mankind', 'drug'), ('field', 'moreover'), ('mining', 'curation'), ('time', 'consumption'), ('support', 'recently'), ('recently', 'developed'), ('area', 'machine'), ('discovery', 'furthermore'), ('modernized', 'various'), ('implemented', 'several'), ('advancement', 'ai'), ('impose', 'obstacle'), ('historical', 'evidence'), ('significant', 'opportunity'), ('summary', 'advancement'), ('impact', 'drug'), ('implementation', 'artificial'), ('learning', 'advancement'), ('ml', 'technology'), ('modernized', 'area'), ('development', 'word'), ('discovery', 'complex'), ('crucial', 'role'), ('progress', 'drug'), ('activity', 'historical'), ('learning', 'ml'), ('relationship', 'drug'), ('network', 'deep'), ('microarray', 'data'), ('development', 'represent'), ('excellent', 'opportunity'), ('clinical', 'trial'), ('furthermore', 'novel'), ('design', 'discovery'), ('development', 'particularly'), ('delivery', 'time'), ('discovery', 'process'), ('algorithm', 'modernized'), ('pose', 'significant'), ('technique', 'provided'), ('algorithm', 'implemented'), ('revolutionized', 'drug'), ('learning', 'field'), ('discovery', 'pipeline'), ('impose', 'hurdle'), ('release', 'pharmacophore'), ('obstacle', 'drug'), ('challenge', 'impact'), ('various', 'process'), ('artificial', 'neural'), ('quantitative', 'structureâ'), ('evidence', 'past'), ('represent', 'crucial'), ('particularly', 'use'), ('machine', 'learning'), ('deep', 'learning'), ('word', 'artificial'), ('strengthens', 'implementation'), ('intelligence', 'ai'), ('algorithm', 'technology'), ('additionally', 'complexity'), ('trial', 'pose'), ('critical', 'support'), ('however', 'low'), ('challenge', 'low'), ('learning', 'offer'), ('pharmaceutical', 'company'), ('development', 'important'), ('hurdle', 'challenge'), ('ai', 'deep'), ('including', 'peptide'), ('cost', 'impose'), ('intelligence', 'deep'), ('process', 'drug')}\n",
      "Tipo de plagio: Reordenamiento de frases\n",
      "Coincidencias para el plagio:\n",
      "----------------------------\n",
      "Cadena original: (Longitud: 1189)\n",
      "Cadena plagiada:  (Longitud: 2349)\n",
      "\n",
      "Titulo: FID-08.txt\n",
      "Similitud entre 'FID-08.txt' y 'org-079.txt': 92.20%\n",
      "ngrams originales:  {('function', 'fuzzy'), ('g', 'h'), ('mathematical', 'model'), ('h', 'v8'), ('indicator', 'significantly'), ('made', 'possible'), ('f2', 'staff'), ('classic', 'provision'), ('f1', 'state'), ('high', 'e'), ('e', 'formalized'), ('approach', 'used'), ('solution', 'methodological'), ('f1', 'f2'), ('f', 'f1'), ('expert', 'evaluation'), ('system', 'â'), ('assessing', 'level'), ('input', 'data'), ('possible', 'identify'), ('enterprise', 'numerical'), ('function', 'input'), ('based', 'apparatus'), ('logic', 'allows'), ('quantitative', 'indicator'), ('cost', 'event'), ('component', 'built'), ('uncertainty', 'reduce'), ('turnover', 'â'), ('order', 'identify'), ('risk', 'enterprise'), ('v12', 'output'), ('â', 'vi'), ('structural', 'element'), ('fuzzy', 'logic'), ('result', 'research'), ('reduce', 'cost'), ('twelve', 'current'), ('qualitative', 'quantitative'), ('r', 'g'), ('coefficient', 'twelve'), ('â', 'f4'), ('requires', 'system'), ('built', 'designing'), ('rule', 'base'), ('personnel', 'risk'), ('â', 'integrated'), ('variable', 'expert'), ('set', 'measure'), ('state', 'qualification'), ('enterprise', 'based'), ('equipment', 'manufacturer'), ('apparatus', 'fuzzy'), ('vary', 'within'), ('g', 'v4'), ('work', 'foreign'), ('existing', 'one'), ('data', 'rule'), ('v3', 'f2'), ('different', 'number'), ('analysis', 'scientific'), ('unknown', 'function'), ('problem', 'personnel'), ('intelligence', 'particular'), ('system', 'performing'), ('integrate', 'consideration'), ('v6', 'v7'), ('q', 'v11'), ('set', 'theory'), ('domestic', 'scientist'), ('h', 'q'), ('problem', 'work'), ('indicator', 'different'), ('event', 'adverse'), ('output', 'mechanism'), ('identify', 'problem'), ('provide', 'appropriate'), ('f3', 'motivational'), ('current', 'work'), ('substantiation', 'set'), ('element', 'membership'), ('computational', 'intelligence'), ('significantly', 'increase'), ('scientist', 'statistical'), ('fuzzy', 'value'), ('approach', 'assessing'), ('f1', 'r'), ('medium', 'g'), ('12', 'indicator'), ('inference', 'considered'), ('staff', 'turnover'), ('g', 'high'), ('risk', 'level'), ('proposed', 'methodological'), ('designing', 'fuzzy'), ('particular', 'theory'), ('function', 'given'), ('theoretical', 'research'), ('r', 'v1'), ('v11', 'v12'), ('methodological', 'approach'), ('adverse', 'situation'), ('turn', 'also'), ('level', 'turn'), ('calculation', 'help'), ('coefficient', 'f1'), ('management', 'provide'), ('v10', 'f4'), ('f', 'unknown'), ('within', 'three'), ('variable', 'written'), ('base', 'output'), ('one', 'integrate'), ('logic', 'apparatus'), ('application', 'fuzzy'), ('following', 'structural'), ('f3', 'h'), ('variable', 'rule'), ('research', 'systemcomplex'), ('work', 'considers'), ('evaluation', 'change'), ('v8', 'v9'), ('efficiency', 'decision'), ('motivational', 'system'), ('problem', 'managing'), ('input', 'output'), ('assessing', 'personnel'), ('increase', 'efficiency'), ('risk', 'management'), ('study', 'proposed'), ('problem', 'assessing'), ('substantiation', 'methodological'), ('vi', '1ã'), ('methodological', 'basis'), ('study', 'classic'), ('system', 'following'), ('ï', 'main'), ('systemcomplex', 'approach'), ('v7', 'f3'), ('scientific', 'experience'), ('composition', 'â'), ('system', 'built'), ('paper', 'substantiation'), ('intellectual', 'potential'), ('help', 'requires'), ('decision', 'making'), ('contrast', 'existing'), ('system', 'fuzzy'), ('consideration', 'qualitative'), ('manufacturer', 'analysis'), ('recommendation', 'solution'), ('basis', 'study'), ('indicator', 'function'), ('integrated', 'indicator'), ('information', 'variable'), ('efficiency', 'use'), ('basis', 'fst'), ('risk', 'quantitative'), ('namely', 'four'), ('indicator', 'using'), ('q', 'f'), ('statement', 'mathematical'), ('mathematical', 'problem'), ('1ã', '12'), ('v4', 'v5'), ('experiment', 'conducted'), ('fuzzy', 'set'), ('use', 'constructed'), ('statistical', 'data'), ('comparative', 'analysis'), ('enterprise', 'made'), ('data', 'namely'), ('indicator', 'assessing'), ('f3', 'f4'), ('basis', 'group'), ('hierarchical', 'fuzzy'), ('v1', 'v2'), ('based', 'application'), ('four', 'group'), ('fst', 'make'), ('number', 'fuzzy'), ('estimate', 'level'), ('constructed', 'system'), ('level', 'personnel'), ('â', 'f1'), ('considers', 'hierarchical'), ('theory', 'comparative'), ('f4', 'personnel'), ('modern', 'theoretical'), ('written', 'group'), ('possible', 'estimate'), ('managing', 'personnel'), ('three', 'term'), ('scientific', 'abstraction'), ('fuzzy', 'system'), ('appropriate', 'recommendation'), ('given', 'variable'), ('method', 'fuzzy'), ('indicator', 'int'), ('membership', 'function'), ('risk', 'personnel'), ('research', 'problem'), ('enables', 'substantiation'), ('main', 'idea'), ('abstraction', 'generalization'), ('idea', 'paper'), ('assessment', 'personnel'), ('also', 'fuzzy'), ('method', 'formalization'), ('provision', 'fundamental'), ('low', 'medium'), ('element', 'component'), ('movement', 'indicator'), ('v2', 'v3'), ('f4', 'indicator'), ('set', 'proposed'), ('experience', 'modern'), ('model', 'method'), ('theory', 'fuzzy'), ('group', 'construction'), ('f2', 'f3'), ('f4', 'q'), ('measure', 'increase'), ('quantitative', 'composition'), ('qualification', 'intellectual'), ('enterprise', 'method'), ('using', 'fuzzy'), ('output', 'variable'), ('formalization', 'basis'), ('logical', 'inference'), ('rule', 'vary'), ('allows', 'contrast'), ('work', 'â'), ('variable', 'functional'), ('generalization', 'scientific'), ('group', 'indicator'), ('change', 'input'), ('condition', 'uncertainty'), ('â', 'f2'), ('built', 'mathematical'), ('f2', 'g'), ('foreign', 'domestic'), ('enterprise', 'enables'), ('numerical', 'experiment'), ('function', 'r'), ('potential', 'â'), ('v9', 'v10'), ('â', 'f3'), ('used', 'study'), ('enterprise', 'statement'), ('construction', 'equipment'), ('apparatus', 'order'), ('intelligent', 'us'), ('functional', 'â'), ('value', 'function'), ('int', 'f'), ('element', 'computational'), ('make', 'possible'), ('approach', 'assessment'), ('making', 'condition'), ('v5', 'v6'), ('data', 'result'), ('fuzzy', 'coefficient'), ('formalized', 'information'), ('us', 'element'), ('analysis', 'result'), ('performing', 'calculation'), ('considered', 'intelligent'), ('personnel', 'movement'), ('mechanism', 'structural'), ('result', 'assessing'), ('fuzzy', 'data'), ('term', 'low'), ('fundamental', 'work'), ('conducted', 'basis'), ('fuzzy', 'logical')}\n",
      "ngrams plagio:  {('function', 'fuzzy'), ('f1', 'state'), ('provision', 'foreign'), ('assessing', 'level'), ('logic', 'allows'), ('enterprise', 'numerical'), ('uncertainty', 'reduce'), ('risk', 'enterprise'), ('built', 'designing'), ('â', 'integrated'), ('integrates', 'qualitative'), ('state', 'qualification'), ('data', 'rule'), ('v3', 'f2'), ('different', 'number'), ('justifying', 'measure'), ('analysis', 'scientific'), ('h', 'q'), ('problem', 'work'), ('indicator', 'different'), ('output', 'mechanism'), ('provide', 'appropriate'), ('substantiation', 'set'), ('significantly', 'increase'), ('f1', 'r'), ('12', 'indicator'), ('potential', 'f2'), ('risk', 'level'), ('proposed', 'methodological'), ('function', 'given'), ('efficiency', 'fuzzy'), ('estimating', 'personnel'), ('v11', 'v12'), ('system', 'complex'), ('adverse', 'situation'), ('calculation', 'help'), ('f', 'unknown'), ('one', 'integrate'), ('base', 'output'), ('variable', 'written'), ('application', 'fuzzy'), ('research', 'systemcomplex'), ('cost', 'adverse'), ('problem', 'managing'), ('problem', 'assessing'), ('methodological', 'basis'), ('system', 'following'), ('systemcomplex', 'approach'), ('v7', 'f3'), ('system', 'built'), ('reducing', 'cost'), ('intellectual', 'potential'), ('consideration', 'qualitative'), ('integrated', 'indicator'), ('information', 'variable'), ('risk', 'quantitative'), ('system', 'structural'), ('situation', 'paper'), ('fuzzy', 'set'), ('statistical', 'data'), ('enterprise', 'made'), ('data', 'namely'), ('study', 'proposes'), ('fst', 'make'), ('four', 'group'), ('number', 'fuzzy'), ('constructed', 'system'), ('considers', 'hierarchical'), ('modern', 'theoretical'), ('written', 'group'), ('research', 'system'), ('problem', 'study'), ('main', 'idea'), ('idea', 'paper'), ('12', 'output'), ('employed', 'study'), ('set', 'proposed'), ('provide', 'recommendation'), ('recommendation', 'managing'), ('f4', 'q'), ('enterprise', 'method'), ('output', 'variable'), ('logical', 'inference'), ('variable', 'functional'), ('generalization', 'scientific'), ('group', 'indicator'), ('element', 'particularly'), ('function', 'r'), ('reflecting', 'expert'), ('v9', 'v10'), ('coefficient', 'vi'), ('make', 'possible'), ('making', 'condition'), ('v5', 'v6'), ('fuzzy', 'coefficient'), ('analysis', 'result'), ('mechanism', 'structural'), ('inference', 'system'), ('representing', 'personnel'), ('fuzzy', 'logical'), ('h', 'v8'), ('made', 'possible'), ('f2', 'staff'), ('uncertainty', 'reducing'), ('quantitative', 'indicator'), ('turnover', 'â'), ('structural', 'element'), ('reduce', 'cost'), ('complex', 'approach'), ('qualitative', 'quantitative'), ('evaluation', 'input'), ('â', 'f4'), ('enterprise', 'based'), ('existing', 'one'), ('vary', 'within'), ('g', 'v4'), ('work', 'foreign'), ('system', 'performing'), ('integrate', 'consideration'), ('v6', 'v7'), ('generalization', 'modern'), ('computational', 'intelligence'), ('f3', 'motivational'), ('approach', 'assessing'), ('research', 'method'), ('g', 'high'), ('logic', 'goal'), ('intelligent', 'employ'), ('coefficient', 'f1'), ('v10', 'f4'), ('within', 'three'), ('exemplified', 'group'), ('f3', 'h'), ('variable', 'rule'), ('work', 'considers'), ('employ', 'computational'), ('evaluation', 'change'), ('assessing', 'personnel'), ('substantiation', 'methodological'), ('vi', '1ã'), ('study', 'classic'), ('indicator', 'quantitative'), ('paper', 'introduces'), ('variable', 'integrated'), ('contrast', 'existing'), ('mathematical', 'problem'), ('1ã', '12'), ('high', 'study'), ('basis', 'group'), ('hierarchical', 'fuzzy'), ('estimate', 'level'), ('theory', 'comparative'), ('foundation', 'includes'), ('f4', 'personnel'), ('possible', 'estimate'), ('fuzzy', 'system'), ('making', 'efficiency'), ('appropriate', 'recommendation'), ('turnover', 'f3'), ('enhancing', 'decision'), ('method', 'fuzzy'), ('risk', 'personnel'), ('research', 'problem'), ('abstraction', 'generalization'), ('data', 'comprising'), ('assessment', 'personnel'), ('also', 'fuzzy'), ('existing', 'method'), ('low', 'medium'), ('proposes', 'methodological'), ('experience', 'modern'), ('model', 'method'), ('f2', 'f3'), ('measure', 'increase'), ('qualification', 'intellectual'), ('data', 'team'), ('work', 'â'), ('condition', 'uncertainty'), ('foreign', 'domestic'), ('enterprise', 'enables'), ('used', 'study'), ('enterprise', 'statement'), ('construction', 'equipment'), ('intelligent', 'us'), ('study', 'foundation'), ('element', 'computational'), ('situation', 'distinguishing'), ('considered', 'intelligent'), ('personnel', 'movement'), ('system', 'considered'), ('team', 'research'), ('classic', 'provision'), ('high', 'e'), ('e', 'formalized'), ('f', 'f1'), ('expert', 'evaluation'), ('based', 'apparatus'), ('cost', 'event'), ('component', 'built'), ('order', 'identify'), ('â', 'vi'), ('twelve', 'current'), ('r', 'g'), ('indicator', 'enhancing'), ('data', 'change'), ('unknown', 'function'), ('problem', 'personnel'), ('q', 'v11'), ('set', 'theory'), ('current', 'work'), ('risk', 'problem'), ('element', 'membership'), ('identify', 'provide'), ('distinguishing', 'existing'), ('scientist', 'statistical'), ('medium', 'g'), ('inference', 'considered'), ('staff', 'turnover'), ('change', 'low'), ('particular', 'theory'), ('theoretical', 'research'), ('indicator', 'fuzzy'), ('r', 'v1'), ('methodological', 'approach'), ('turn', 'also'), ('level', 'turn'), ('management', 'provide'), ('coefficient', 'reflecting'), ('substantiates', 'methodological'), ('f', 'function'), ('v8', 'v9'), ('efficiency', 'decision'), ('input', 'output'), ('increase', 'efficiency'), ('risk', 'management'), ('study', 'proposed'), ('help', 'requires'), ('decision', 'making'), ('element', 'including'), ('manufacturer', 'analysis'), ('recommendation', 'solution'), ('basis', 'study'), ('indicator', 'function'), ('indicator', 'using'), ('use', 'constructed'), ('based', 'application'), ('function', 'rule'), ('â', 'f1'), ('including', 'membership'), ('managing', 'personnel'), ('three', 'term'), ('membership', 'function'), ('allows', 'estimating'), ('enables', 'substantiation'), ('includes', 'classic'), ('method', 'formalization'), ('element', 'component'), ('paper', 'substantiates'), ('intelligence', 'element'), ('rule', 'vary'), ('built', 'mathematical'), ('numerical', 'experiment'), ('potential', 'â'), ('â', 'f3'), ('level', 'justifying'), ('goal', 'identify'), ('measure', 'enhance'), ('value', 'function'), ('int', 'f'), ('level', 'paper'), ('data', 'result'), ('us', 'element'), ('performing', 'calculation'), ('result', 'assessing'), ('term', 'low'), ('g', 'h'), ('mathematical', 'model'), ('indicator', 'significantly'), ('approach', 'used'), ('solution', 'methodological'), ('f1', 'f2'), ('system', 'â'), ('input', 'data'), ('possible', 'identify'), ('function', 'input'), ('system', 'allows'), ('v12', 'output'), ('int', 'representing'), ('study', 'utilizes'), ('fuzzy', 'logic'), ('result', 'research'), ('enterprise', 'using'), ('coefficient', 'twelve'), ('requires', 'system'), ('rule', 'base'), ('personnel', 'risk'), ('system', 'f4'), ('variable', 'expert'), ('set', 'measure'), ('apparatus', 'fuzzy'), ('equipment', 'manufacturer'), ('manufacturer', 'considers'), ('intelligence', 'particular'), ('domestic', 'scientist'), ('event', 'adverse'), ('identify', 'problem'), ('enhance', 'efficiency'), ('fuzzy', 'value'), ('designing', 'fuzzy'), ('logic', 'apparatus'), ('following', 'structural'), ('utilizes', 'fuzzy'), ('motivational', 'system'), ('ï', 'main'), ('scientific', 'experience'), ('composition', 'â'), ('paper', 'substantiation'), ('system', 'fuzzy'), ('approach', 'employed'), ('efficiency', 'use'), ('basis', 'fst'), ('namely', 'four'), ('q', 'f'), ('statement', 'mathematical'), ('v4', 'v5'), ('experiment', 'conducted'), ('comparative', 'analysis'), ('indicator', 'assessing'), ('f3', 'f4'), ('v1', 'v2'), ('approach', 'integrates'), ('level', 'personnel'), ('scientific', 'abstraction'), ('given', 'variable'), ('indicator', 'int'), ('particularly', 'fuzzy'), ('theory', 'methodological'), ('provision', 'fundamental'), ('movement', 'indicator'), ('v2', 'v3'), ('efficiency', 'uncertainty'), ('f4', 'indicator'), ('theory', 'fuzzy'), ('group', 'construction'), ('quantitative', 'composition'), ('composition', 'f1'), ('using', 'fuzzy'), ('formalization', 'basis'), ('allows', 'contrast'), ('mechanism', 'system'), ('change', 'input'), ('â', 'f2'), ('f2', 'g'), ('apparatus', 'order'), ('functional', 'â'), ('level', 'exemplified'), ('introduces', 'unknown'), ('comprising', 'four'), ('approach', 'assessment'), ('formalized', 'information'), ('fuzzy', 'data'), ('fundamental', 'work'), ('conducted', 'basis'), ('medium', 'high')}\n",
      "Tipo de plagio: Reordenamiento de frases\n",
      "Coincidencias para el plagio:\n",
      "----------------------------\n",
      "Cadena original: (Longitud: 2443)\n",
      "Cadena plagiada:  (Longitud: 3903)\n",
      "\n",
      "Titulo: FID-06.txt\n",
      "Similitud entre 'FID-06.txt' y 'org-043.txt': 91.81%\n",
      "ngrams originales:  {('chatbots', 'machine'), ('verbalabuse', 'human'), ('empathy', 'human'), ('perceive', 'anthropomorphic'), ('student', 'conductedfor'), ('empathy', 'generally'), ('manually', 'analyzed'), ('using', 'thematic'), ('regardless', 'ofwhether'), ('expect', 'help'), ('amongcomputer', 'science'), ('frustration', 'come'), ('sweden', 'done'), ('human', 'existence'), ('machine', 'human'), ('dynamic', 'semi'), ('also', 'showsthat'), ('result', 'study'), ('science', 'student'), ('structured', 'interview'), ('chatbot', 'helpfulness'), ('semi', 'structured'), ('methodology', 'five'), ('student', 'uppsala'), ('however', 'thelevel'), ('study', 'also'), ('thelevel', 'empathy'), ('chatbots', 'human'), ('ofwhether', 'participant'), ('politeness', 'chatbots'), ('gender', 'dynamic'), ('conducted', 'investigate'), ('time', 'study'), ('uppsala', 'university'), ('dependingon', 'gender'), ('interaction', 'amongcomputer'), ('theresponse', 'chatbots'), ('showsthat', 'participant'), ('done', 'exploring'), ('chatbots', 'without'), ('qualitative', 'data'), ('dissatisfied', 'theresponse'), ('frustration', 'usuallyforget'), ('exit', 'chatbots'), ('without', 'expressing'), ('conductedfor', 'qualitative'), ('chatbots', 'exit'), ('existence', 'verbalabuse'), ('might', 'expect'), ('machine', 'however'), ('participant', 'perceive'), ('low', 'participant'), ('study', 'found'), ('come', 'question'), ('exploring', 'howparticipants'), ('five', 'student'), ('analyzed', 'using'), ('chatbot', 'interaction'), ('helpfulness', 'dependingon'), ('study', 'conducted'), ('interaction', 'expectation'), ('question', 'another'), ('data', 'collection'), ('human', 'machine'), ('human', 'chatbot'), ('interview', 'methodology'), ('university', 'sweden'), ('participant', 'might'), ('another', 'time'), ('collected', 'data'), ('frustrate', 'dissatisfied'), ('help', 'politeness'), ('interaction', 'regardless'), ('howparticipants', 'perceive'), ('usuallyforget', 'frustration'), ('anthropomorphic', 'chatbots'), ('likely', 'female'), ('participant', 'frustrate'), ('expressing', 'frustration'), ('found', 'empathy'), ('chatbots', 'likely'), ('investigate', 'empathy'), ('expectation', 'chatbot'), ('collection', 'collected'), ('data', 'manually'), ('analysis', 'result'), ('thematic', 'analysis'), ('generally', 'low')}\n",
      "ngrams plagio:  {('become', 'frustrated'), ('chatbots', 'machine'), ('empathy', 'human'), ('perceive', 'anthropomorphic'), ('empathy', 'generally'), ('also', 'showed'), ('abuse', 'human'), ('manually', 'analyzed'), ('using', 'thematic'), ('expect', 'help'), ('sweden', 'done'), ('student', 'conducted'), ('find', 'empathy'), ('human', 'existence'), ('machine', 'human'), ('dynamic', 'semi'), ('result', 'study'), ('science', 'student'), ('may', 'expect'), ('structured', 'interview'), ('however', 'level'), ('chatbot', 'helpfulness'), ('helpfulness', 'depending'), ('semi', 'structured'), ('perceived', 'anthropomorphic'), ('study', 'find'), ('methodology', 'five'), ('student', 'uppsala'), ('participant', 'perceived'), ('study', 'also'), ('chatbots', 'human'), ('usually', 'forgot'), ('politeness', 'chatbots'), ('dissatisfied', 'response'), ('gender', 'dynamic'), ('conducted', 'investigate'), ('came', 'question'), ('time', 'study'), ('uppsala', 'university'), ('done', 'exploring'), ('conducted', 'qualitative'), ('chatbots', 'without'), ('verbal', 'abuse'), ('qualitative', 'data'), ('interaction', 'among'), ('participant', 'become'), ('exit', 'chatbots'), ('without', 'expressing'), ('computer', 'science'), ('among', 'computer'), ('chatbots', 'exit'), ('machine', 'however'), ('participant', 'perceive'), ('low', 'participant'), ('frustration', 'came'), ('five', 'student'), ('analyzed', 'using'), ('frustration', 'usually'), ('showed', 'participant'), ('chatbot', 'interaction'), ('depending', 'gender'), ('exploring', 'participant'), ('study', 'conducted'), ('interaction', 'expectation'), ('question', 'another'), ('data', 'collection'), ('human', 'machine'), ('whether', 'participant'), ('forgot', 'frustration'), ('frustrated', 'dissatisfied'), ('response', 'chatbots'), ('human', 'chatbot'), ('interview', 'methodology'), ('university', 'sweden'), ('another', 'time'), ('collected', 'data'), ('help', 'politeness'), ('level', 'empathy'), ('interaction', 'regardless'), ('anthropomorphic', 'chatbots'), ('likely', 'female'), ('existence', 'verbal'), ('expressing', 'frustration'), ('chatbots', 'likely'), ('investigate', 'empathy'), ('regardless', 'whether'), ('expectation', 'chatbot'), ('collection', 'collected'), ('data', 'manually'), ('analysis', 'result'), ('thematic', 'analysis'), ('participant', 'may'), ('generally', 'low')}\n",
      "Tipo de plagio: Parafraseo o inserción de frases\n",
      "Coincidencias para el plagio:\n",
      "----------------------------\n",
      "Cadena original: (Longitud: 864)\n",
      "Cadena plagiada:  (Longitud: 853)\n",
      "\n",
      "Titulo: FID-07.txt\n",
      "Similitud entre 'FID-07.txt' y 'org-041.txt': 89.15%\n",
      "ngrams originales:  {('use', 'technology'), ('human', 'ai'), ('technology', 'context'), ('found', 'implementation'), ('quality', 'interaction'), ('improve', 'quality'), ('data', 'source'), ('use', 'artificial'), ('approach', 'used'), ('interaction', 'great'), ('interaction', 'customer'), ('used', 'qualitative'), ('emotion', 'recognition'), ('ai', 'respond'), ('improving', 'customer'), ('affective', 'social'), ('literature', 'data'), ('enable', 'ai'), ('humane', 'technology'), ('experience', 'use'), ('study', 'related'), ('potential', 'improve'), ('source', 'used'), ('precisely', 'sensitively'), ('customer', 'experience'), ('related', 'literature'), ('user', 'need'), ('interest', 'due'), ('great', 'potential'), ('ai', 'interaction'), ('due', 'potential'), ('article', 'book'), ('analysis', 'enable'), ('development', 'responsive'), ('need', 'emotion'), ('experience', 'research'), ('focus', 'development'), ('sensitively', 'user'), ('strategy', 'particular'), ('optimization', 'human'), ('strategy', 'improving'), ('interaction', 'application'), ('improving', 'affective'), ('implementation', 'artificial'), ('technology', 'natural'), ('recognition', 'sentiment'), ('research', 'topic'), ('social', 'customer'), ('various', 'study'), ('particular', 'interest'), ('result', 'found'), ('responsive', 'humane'), ('context', 'use'), ('aim', 'explore'), ('natural', 'language'), ('socially', 'research'), ('experience', 'affectively'), ('sentiment', 'analysis'), ('book', 'relevant'), ('language', 'processing'), ('important', 'focus'), ('processing', 'emotion'), ('become', 'important'), ('artificial', 'empathy'), ('explore', 'optimization'), ('used', 'journal'), ('strategy', 'human'), ('interaction', 'become'), ('research', 'result'), ('empathy', 'strategy'), ('application', 'artificial'), ('topic', 'research'), ('relevant', 'research'), ('research', 'approach'), ('qualitative', 'reviewing'), ('respond', 'precisely'), ('affectively', 'socially'), ('potential', 'improving'), ('journal', 'article'), ('reviewing', 'various'), ('research', 'aim')}\n",
      "ngrams plagio:  {('approach', 'qualitative'), ('human', 'ai'), ('source', 'include'), ('quality', 'interaction'), ('improve', 'quality'), ('data', 'source'), ('use', 'artificial'), ('interaction', 'customer'), ('emotion', 'recognition'), ('involving', 'review'), ('ai', 'respond'), ('qualitative', 'involving'), ('affective', 'social'), ('literature', 'data'), ('enable', 'ai'), ('experience', 'technology'), ('study', 'related'), ('potential', 'improve'), ('precisely', 'sensitively'), ('customer', 'experience'), ('related', 'literature'), ('improve', 'customer'), ('research', 'explore'), ('focus', 'developing'), ('user', 'need'), ('developing', 'technology'), ('ai', 'interaction'), ('article', 'book'), ('analysis', 'enable'), ('interesting', 'potential'), ('particularly', 'interesting'), ('need', 'emotion'), ('experience', 'research'), ('sensitively', 'user'), ('strategy', 'optimize'), ('interaction', 'potential'), ('explore', 'artificial'), ('implementing', 'artificial'), ('socially', 'aim'), ('technology', 'natural'), ('recognition', 'sentiment'), ('research', 'topic'), ('social', 'customer'), ('various', 'study'), ('responsive', 'humane'), ('interaction', 'enhance'), ('context', 'use'), ('aim', 'research'), ('result', 'indicate'), ('strategy', 'particularly'), ('natural', 'language'), ('humane', 'context'), ('experience', 'affectively'), ('sentiment', 'analysis'), ('significantly', 'improve'), ('book', 'relevant'), ('language', 'processing'), ('important', 'focus'), ('review', 'various'), ('processing', 'emotion'), ('include', 'journal'), ('become', 'important'), ('artificial', 'empathy'), ('strategy', 'human'), ('technology', 'responsive'), ('interaction', 'become'), ('empathy', 'strategy'), ('research', 'result'), ('topic', 'research'), ('relevant', 'research'), ('research', 'approach'), ('indicate', 'implementing'), ('respond', 'precisely'), ('affectively', 'socially'), ('optimize', 'human'), ('potential', 'significantly'), ('enhance', 'affective'), ('journal', 'article')}\n",
      "Tipo de plagio: Inserción de frases\n",
      "Coincidencias para el plagio:\n",
      "----------------------------\n",
      "Cadena original: (Longitud: 781)\n",
      "Cadena plagiada:  (Longitud: 771)\n",
      "\n",
      "Titulo: FID-02.txt\n",
      "Similitud entre 'FID-02.txt' y 'org-104.txt': 88.24%\n",
      "ngrams originales:  {('computer', 'competence'), ('recent', 'diagnostic'), ('field', 'dermatology'), ('pathology', 'general'), ('first', 'century'), ('across', 'range'), ('intelligence', 'placed'), ('placed', 'transform'), ('transform', 'twenty'), ('architecture', 'algorithm'), ('led', 'increasing'), ('form', 'artificial'), ('increasing', 'computer'), ('algorithm', 'behind'), ('summarise', 'application'), ('learning', 'highlight'), ('size', 'datasets'), ('datasets', 'led'), ('complex', 'board'), ('particular', 'showcase'), ('vehicle', 'language'), ('fundamental', 'algorithm'), ('growth', 'size'), ('competence', 'across'), ('behind', 'machine'), ('radiology', 'pathology'), ('recent', 'progress'), ('range', 'field'), ('highlight', 'specific'), ('driving', 'vehicle'), ('diagnostic', 'performance'), ('optimisation', 'summarise'), ('dermatology', 'radiology'), ('board', 'game'), ('field', 'include'), ('machine', 'learning'), ('language', 'translation'), ('approach', 'learning'), ('learning', 'optimisation'), ('underlying', 'architecture'), ('include', 'driving'), ('artificial', 'intelligence'), ('specific', 'approach'), ('learning', 'ml'), ('beyond', 'human'), ('progress', 'underlying'), ('game', 'go'), ('translation', 'chatbots'), ('algorithm', 'growth'), ('century', 'rapid'), ('application', 'ml'), ('ml', 'medicine'), ('performance', 'caveat'), ('go', 'review'), ('review', 'fundamental'), ('chatbots', 'beyond'), ('caveat', 'field'), ('showcase', 'recent'), ('general', 'microscopy'), ('human', 'performance'), ('medicine', 'particular'), ('ml', 'form'), ('performance', 'complex'), ('rapid', 'recent'), ('twenty', 'first')}\n",
      "ngrams plagio:  {('increase', 'performance'), ('problem', 'reduces'), ('first', 'century'), ('intelligence', 'placed'), ('placed', 'transform'), ('led', 'increasing'), ('algorithm', 'behind'), ('feature', 'selection'), ('range', 'field'), ('dataset', 'increase'), ('language', 'translation'), ('algorithm', 'choosing'), ('dimension', 'dataset'), ('performance', 'machine'), ('algorithm', 'growth'), ('optimal', 'subset'), ('classification', 'selection'), ('choosing', 'proper'), ('field', 'algorithm'), ('learning', 'algorithm'), ('obtain', 'best'), ('summarise', 'application'), ('form', 'artificial'), ('learning', 'highlight'), ('datasets', 'led'), ('vehicle', 'language'), ('behind', 'machine'), ('competence', 'across'), ('highlight', 'specific'), ('driving', 'vehicle'), ('optimisation', 'summarise'), ('solution', 'feature'), ('play', 'important'), ('artificial', 'intelligence'), ('beyond', 'human'), ('progress', 'underlying'), ('elimination', 'redundant'), ('redundant', 'feature'), ('century', 'rapid'), ('function', 'play'), ('human', 'performance'), ('performance', 'complex'), ('medicine', 'fitness'), ('proper', 'fitness'), ('rapid', 'recent'), ('algorithm', 'classification'), ('computer', 'competence'), ('across', 'range'), ('transform', 'twenty'), ('architecture', 'algorithm'), ('reduces', 'dimension'), ('complex', 'board'), ('fitness', 'function'), ('feature', 'elimination'), ('specific', 'approach'), ('learning', 'ml'), ('optimisation', 'problem'), ('translation', 'chatbots'), ('ml', 'medicine'), ('orient', 'searching'), ('algorithm', 'obtain'), ('review', 'fundamental'), ('chatbots', 'beyond'), ('twenty', 'first'), ('subset', 'feature'), ('increasing', 'computer'), ('best', 'solution'), ('size', 'datasets'), ('fundamental', 'algorithm'), ('growth', 'size'), ('selection', 'f'), ('important', 'role'), ('role', 'include'), ('recent', 'progress'), ('board', 'game'), ('learning', 'optimisation'), ('machine', 'learning'), ('approach', 'learning'), ('underlying', 'architecture'), ('include', 'driving'), ('strategy', 'algorithm'), ('searching', 'strategy'), ('function', 'orient'), ('game', 'go'), ('application', 'ml'), ('go', 'review'), ('selection', 'optimal'), ('ml', 'form'), ('f', 'optimisation')}\n",
      "Tipo de plagio: Reordenamiento de frases\n",
      "Coincidencias para el plagio:\n",
      "----------------------------\n",
      "Cadena original: (Longitud: 569)\n",
      "Cadena plagiada:  (Longitud: 785)\n",
      "\n",
      "Titulo: FID-10.txt\n",
      "Similitud entre 'FID-10.txt' y 'org-007.txt': 86.61%\n",
      "ngrams originales:  {('2019', 'attempt'), ('future', 'direction'), ('topic', 'include'), ('robot', 'ai'), ('review', 'conducted'), ('published', 'study'), ('field', 'based'), ('use', 'artificial'), ('community', 'main'), ('comprehensively', 'investigate'), ('trend', 'topic'), ('data', 'mining'), ('discourse', 'analysis'), ('include', 'intelligent'), ('aspect', 'field'), ('field', 'increased'), ('gap', 'identify'), ('collaborative', 'learning'), ('various', 'aspect'), ('investigate', 'various'), ('ai', 'application'), ('technology', 'education'), ('system', 'special'), ('tutoring', 'system'), ('neural', 'network'), ('ai', 'technology'), ('educational', 'data'), ('processing', 'language'), ('increasing', 'use'), ('teaching', 'evaluation'), ('based', '4'), ('application', 'education'), ('study', 'field'), ('special', 'education'), ('artificial', 'intelligence'), ('education', 'natural'), ('personalized', 'learning'), ('identify', 'trend'), ('evaluation', 'affective'), ('recommender', 'system'), ('learning', 'also'), ('computing', 'learner'), ('increased', 'however'), ('attempt', 'fill'), ('language', 'education'), ('purpose', 'academic'), ('topicbased', 'bibliometrics'), ('educational', 'purpose'), ('prediction', 'discourse'), ('using', 'topicbased'), ('learner', 'emotion'), ('supported', 'collaborative'), ('bibliometrics', 'result'), ('affective', 'computing'), ('aied', 'using'), ('analysis', 'computer'), ('using', 'ai'), ('519', 'publication'), ('research', 'topic'), ('however', 'large'), ('direction', 'aied'), ('result', 'review'), ('intelligent', 'tutoring'), ('also', 'discus'), ('challenge', 'future'), ('interest', 'using'), ('topic', 'related'), ('conducted', 'comprehensively'), ('4', '519'), ('learning', 'neural'), ('increasing', 'interest'), ('related', 'ai'), ('fill', 'gap'), ('computer', 'supported'), ('discus', 'challenge'), ('network', 'teaching'), ('ai', 'educational'), ('natural', 'language'), ('education', 'aied'), ('education', 'educational'), ('scale', 'review'), ('large', 'scale'), ('detection', 'recommender'), ('language', 'processing'), ('2000', '2019'), ('ai', 'education'), ('education', 'number'), ('publication', '2000'), ('academic', 'community'), ('performance', 'prediction'), ('system', 'personalized'), ('educational', 'robot'), ('reveal', 'increasing'), ('intelligence', 'ai'), ('emotion', 'detection'), ('main', 'research'), ('mining', 'performance'), ('number', 'published'), ('review', 'reveal')}\n",
      "ngrams plagio:  {('future', 'direction'), ('topic', 'include'), ('robot', 'ai'), ('surged', 'leading'), ('published', 'study'), ('trend', 'topic'), ('data', 'mining'), ('discourse', 'analysis'), ('include', 'intelligent'), ('rise', 'published'), ('primary', 'research'), ('indicate', 'growing'), ('collaborative', 'learning'), ('within', 'academic'), ('community', 'primary'), ('ai', 'application'), ('technology', 'education'), ('system', 'special'), ('tutoring', 'system'), ('field', 'lacking'), ('neural', 'network'), ('purpose', 'within'), ('ai', 'technology'), ('educational', 'data'), ('processing', 'language'), ('growing', 'interest'), ('study', 'also'), ('teaching', 'evaluation'), ('aim', 'bridge'), ('application', 'education'), ('special', 'education'), ('address', 'challenge'), ('artificial', 'intelligence'), ('education', 'natural'), ('2019', 'using'), ('utilization', 'artificial'), ('aied', 'result'), ('personalized', 'learning'), ('topic', 'based'), ('analyzing', '4'), ('identify', 'trend'), ('evaluation', 'affective'), ('recommender', 'system'), ('computing', 'learner'), ('language', 'education'), ('educational', 'purpose'), ('prediction', 'discourse'), ('gap', 'analyzing'), ('learner', 'emotion'), ('supported', 'collaborative'), ('using', 'topic'), ('despite', 'comprehensive'), ('affective', 'computing'), ('analysis', 'computer'), ('also', 'address'), ('using', 'ai'), ('519', 'publication'), ('research', 'topic'), ('learning', 'study'), ('direction', 'aied'), ('intelligent', 'tutoring'), ('based', 'bibliometrics'), ('study', 'despite'), ('challenge', 'future'), ('interest', 'using'), ('topic', 'related'), ('bibliometrics', 'identify'), ('4', '519'), ('learning', 'neural'), ('related', 'ai'), ('review', 'field'), ('computer', 'supported'), ('result', 'indicate'), ('network', 'teaching'), ('ai', 'educational'), ('natural', 'language'), ('education', 'aied'), ('education', 'educational'), ('leading', 'rise'), ('scale', 'review'), ('large', 'scale'), ('detection', 'recommender'), ('education', 'surged'), ('language', 'processing'), ('2000', '2019'), ('ai', 'education'), ('bridge', 'gap'), ('publication', '2000'), ('academic', 'community'), ('performance', 'prediction'), ('system', 'personalized'), ('educational', 'robot'), ('lacking', 'study'), ('intelligence', 'ai'), ('emotion', 'detection'), ('study', 'aim'), ('comprehensive', 'large'), ('mining', 'performance')}\n",
      "Tipo de plagio: Inserción de frases\n",
      "Coincidencias para el plagio:\n",
      "----------------------------\n",
      "Cadena original: (Longitud: 843)\n",
      "Cadena plagiada:  (Longitud: 824)\n",
      "\n",
      "Titulo: FID-01.txt\n",
      "Similitud entre 'FID-01.txt' y 'org-076.txt': 77.71%\n",
      "ngrams originales:  {('actuator', 'failure'), ('distance', 'visual'), ('tracking', 'desired'), ('due', 'limitation'), ('formation', 'tracking'), ('triggering', 'fault'), ('semi', 'global'), ('present', 'robotic'), ('controller', 'execution'), ('adaptive', 'method'), ('impediment', 'effectively'), ('robotic', 'dynamic'), ('barrier', 'function'), ('range', 'constraint'), ('employ', 'adaptive'), ('decentralized', 'adaptive'), ('ultimately', 'demonstrate'), ('fuzzy', 'logic'), ('arising', 'infinite'), ('multirobot', 'system'), ('yet', 'maintain'), ('tolerant', 'etft'), ('infinite', 'actuator'), ('network', 'communication'), ('regard', 'introduce'), ('propose', 'decentralized'), ('engage', 'leader'), ('parameter', 'present'), ('adaptive', 'fuzzy'), ('delf', 'intricacy'), ('approximate', 'unknown'), ('event', 'triggered'), ('moment', 'actuator'), ('practical', 'feasibility'), ('effect', 'arising'), ('logic', 'system'), ('ï', 'article'), ('intricacy', 'adaptive'), ('general', 'barrier'), ('demonstrate', 'practical'), ('aid', 'dynamic'), ('visual', 'field'), ('tackle', 'constrained'), ('strategy', 'guarantee'), ('dynamic', 'course'), ('address', 'issue'), ('problem', 'collision'), ('system', 'fl'), ('trajectory', 'generated'), ('fuzzy', 'event'), ('nonholonomic', 'multirobot'), ('present', 'due'), ('introduce', 'general'), ('execution', 'compensate'), ('global', 'uniformly'), ('uniformly', 'ultimately'), ('dynamic', 'surface'), ('issue', 'leverage'), ('ultimately', 'bounded'), ('sguub', 'ultimately'), ('range', 'impediment'), ('constraint', 'address'), ('signal', 'semi'), ('function', 'prescribed'), ('fewer', 'network'), ('maintain', 'uninterrupted'), ('failure', 'robot'), ('avoidance', 'connectivity'), ('uncertain', 'parameter'), ('constrained', 'range'), ('technology', 'propose'), ('number', 'controller'), ('ever', 'present'), ('etft', 'control'), ('method', 'approximate'), ('maintenance', 'ever'), ('robot', 'engage'), ('course', 'information'), ('methodology', 'tackle'), ('formation', 'control'), ('nonlinear', 'function'), ('using', 'fewer'), ('actuator', 'fault'), ('unknown', 'nonlinear'), ('information', 'exploration'), ('system', 'characterized'), ('leader', 'aid'), ('connectivity', 'maintenance'), ('resource', 'yet'), ('guarantee', 'signal'), ('fault', 'using'), ('control', 'nonholonomic'), ('tracking', 'control'), ('effectively', 'furthermore'), ('exploration', 'problem'), ('collision', 'avoidance'), ('furthermore', 'reduce'), ('surface', 'technology'), ('uninterrupted', 'tracking'), ('article', 'delf'), ('etft', 'formation'), ('fault', 'range'), ('power', 'fuzzy'), ('function', 'uncertain'), ('control', 'strategy'), ('fault', 'tolerant'), ('bounded', 'sguub'), ('field', 'regard'), ('strategy', 'nonholonomic'), ('reduce', 'number'), ('compensate', 'effect'), ('prescribed', 'performance'), ('desired', 'trajectory'), ('leader', 'moment'), ('communication', 'resource'), ('event', 'triggering'), ('limitation', 'distance'), ('feasibility', 'etft'), ('adaptive', 'event'), ('fl', 'employ'), ('characterized', 'infinite'), ('performance', 'methodology'), ('generated', 'leader'), ('triggered', 'formation'), ('leverage', 'power')}\n",
      "ngrams plagio:  {('actuator', 'failure'), ('distance', 'visual'), ('right', 'rate'), ('tracking', 'desired'), ('due', 'limitation'), ('victim', 'plagiarism'), ('formation', 'tracking'), ('based', 'person'), ('knowledge', 'point'), ('semi', 'global'), ('improved', 'cognitive'), ('present', 'robotic'), ('constraint', 'traditional'), ('certain', 'knowledge'), ('studentsâ', 'mastery'), ('controller', 'execution'), ('adaptive', 'method'), ('system', 'experiment'), ('robotic', 'dynamic'), ('range', 'constraint'), ('employ', 'adaptive'), ('ultimately', 'demonstrate'), ('plagiarist', 'difficult'), ('fuzzy', 'logic'), ('arising', 'infinite'), ('multirobot', 'system'), ('cheating', 'detection'), ('yet', 'maintain'), ('show', 'precision'), ('point', 'test'), ('cheating', 'multi'), ('experiment', 'show'), ('plagiarist', 'victim'), ('cognitive', 'diagnostic'), ('infinite', 'actuator'), ('coincidence', 'address'), ('network', 'communication'), ('engage', 'leader'), ('based', 'false'), ('covert', 'equipment'), ('parameter', 'present'), ('adaptive', 'fuzzy'), ('paper', 'concept'), ('delf', 'intricacy'), ('distinguish', 'plagiarist'), ('approximate', 'unknown'), ('event', 'triggered'), ('moment', 'actuator'), ('practical', 'feasibility'), ('effect', 'arising'), ('method', 'significantly'), ('logic', 'system'), ('ï', 'article'), ('intricacy', 'adaptive'), ('proposed', 'furthermore'), ('demonstrate', 'practical'), ('visual', 'field'), ('dynamic', 'course'), ('address', 'issue'), ('problem', 'collision'), ('system', 'fl'), ('precision', 'recall'), ('trajectory', 'generated'), ('source', 'cheating'), ('fuzzy', 'event'), ('nonholonomic', 'multirobot'), ('equipment', 'cheating'), ('many', 'disadvantage'), ('present', 'due'), ('execution', 'compensate'), ('global', 'uniformly'), ('uniformly', 'ultimately'), ('issue', 'leverage'), ('higher', 'method'), ('ultimately', 'bounded'), ('sguub', 'ultimately'), ('plagiarist', 'plagiarist'), ('leader', 'guarantee'), ('signal', 'semi'), ('disadvantage', 'difficult'), ('fewer', 'network'), ('maintain', 'uninterrupted'), ('cheating', 'difficult'), ('failure', 'robot'), ('avoidance', 'connectivity'), ('introduced', 'measure'), ('difficult', 'detect'), ('significantly', 'higher'), ('detect', 'covert'), ('uncertain', 'parameter'), ('number', 'controller'), ('ever', 'present'), ('etft', 'control'), ('method', 'approximate'), ('index', 'introduced'), ('method', 'based'), ('maintenance', 'ever'), ('based', 'improved'), ('robot', 'engage'), ('rate', 'method'), ('course', 'information'), ('cheating', 'based'), ('nonlinear', 'function'), ('using', 'fewer'), ('actuator', 'fault'), ('unknown', 'nonlinear'), ('information', 'exploration'), ('measure', 'studentsâ'), ('system', 'characterized'), ('connectivity', 'maintenance'), ('model', 'proposed'), ('resource', 'yet'), ('guarantee', 'signal'), ('detection', 'method'), ('fault', 'using'), ('multi', 'source'), ('control', 'nonholonomic'), ('tracking', 'control'), ('mastery', 'certain'), ('method', 'many'), ('exploration', 'problem'), ('collision', 'avoidance'), ('furthermore', 'reduce'), ('traditional', 'cheating'), ('fit', 'index'), ('uninterrupted', 'tracking'), ('person', 'fit'), ('article', 'delf'), ('recall', 'rate'), ('fault', 'range'), ('power', 'fuzzy'), ('function', 'uncertain'), ('control', 'strategy'), ('bounded', 'sguub'), ('rate', 'right'), ('strategy', 'nonholonomic'), ('reduce', 'number'), ('compensate', 'effect'), ('concept', 'knowledge'), ('desired', 'trajectory'), ('leader', 'moment'), ('method', 'cheating'), ('mastery', 'index'), ('communication', 'resource'), ('limitation', 'distance'), ('test', 'method'), ('diagnostic', 'model'), ('field', 'paper'), ('false', 'rate'), ('feasibility', 'etft'), ('fl', 'employ'), ('characterized', 'infinite'), ('generated', 'leader'), ('point', 'mastery'), ('triggered', 'formation'), ('difficult', 'distinguish'), ('leverage', 'power'), ('plagiarism', 'coincidence')}\n",
      "Tipo de plagio: Reordenamiento de frases\n",
      "Coincidencias para el plagio:\n",
      "----------------------------\n",
      "Cadena original: (Longitud: 1128)\n",
      "Cadena plagiada:  (Longitud: 1437)\n",
      "\n"
     ]
    },
    {
     "name": "stderr",
     "output_type": "stream",
     "text": [
      "[nltk_data] Downloading package punkt to\n",
      "[nltk_data]     /Users/galafloresgarcia/nltk_data...\n",
      "[nltk_data]   Package punkt is already up-to-date!\n"
     ]
    }
   ],
   "source": [
    "import nltk\n",
    "from difflib import SequenceMatcher\n",
    "\n",
    "nltk.download('punkt')\n",
    "\n",
    "def detectar_tipo_plagio(original, plagio):\n",
    "    tokens_original = nltk.word_tokenize(original)\n",
    "    tokens_plagio = nltk.word_tokenize(plagio)\n",
    "    similitud = SequenceMatcher(None, tokens_original, tokens_plagio).ratio()\n",
    "    \n",
    "    # Obtener tokens de n-gramas\n",
    "    ngrams_original = set(nltk.ngrams(tokens_original, 2))\n",
    "    ngrams_plagio = set(nltk.ngrams(tokens_plagio, 2))\n",
    "    \n",
    "    print(\"ngrams originales: \", ngrams_original)\n",
    "    print(\"ngrams plagio: \", ngrams_plagio)\n",
    "    # Verificar la cantidad de n-gramas compartidos\n",
    "    shared_ngrams = len(ngrams_original.intersection(ngrams_plagio))\n",
    "    total_ngrams = len(ngrams_original.union(ngrams_plagio))\n",
    "    ratio_ngrams = shared_ngrams / total_ngrams\n",
    "    \n",
    "    # Mejorar la detección de tipo de plagio utilizando más criterios\n",
    "    if similitud == 1.0:\n",
    "        return \"Parafraseo\"\n",
    "    elif ratio_ngrams > 0.8:\n",
    "        return \"Parafraseo o reordenamiento de frases\"\n",
    "    elif ratio_ngrams > 0.5:\n",
    "        return \"Reordenamiento de frases\"\n",
    "    elif similitud > 0.8:\n",
    "        return \"Parafraseo o inserción de frases\"\n",
    "    elif similitud > 0.6:\n",
    "        return \"Inserción de frases\"\n",
    "    elif similitud > 0.4:\n",
    "        return \"Cambio de tiempo o desorden de frases\"\n",
    "    else:\n",
    "        return \"Cambio de voz\"\n",
    "\n",
    "# Recorrer cada par de documentos en similarity_results\n",
    "for result in similarity_results:\n",
    "    plagio_title, original_title, similarity_score, original_doc = result\n",
    "    original_doc_text = ' '.join([word for word in original_doc])\n",
    "    plagiarized_doc_text = [doc.words for doc in tagged_plagiarized if doc.tags[0] == plagio_title][0]\n",
    "    plagiarized_doc_text = ' '.join([word for word in plagiarized_doc_text])\n",
    "\n",
    "    print(f\"Titulo: {plagio_title}\")\n",
    "    print(f\"Similitud entre '{plagio_title}' y '{original_title}': {similarity_score * 100:.2f}%\")\n",
    "    tipo_plagio = detectar_tipo_plagio(original_doc_text, plagiarized_doc_text)\n",
    "    print(\"Tipo de plagio:\", tipo_plagio)\n",
    "    print(\"Coincidencias para el plagio:\")\n",
    "    print(\"----------------------------\")\n",
    "    print(f\"Cadena original: (Longitud: {len(original_doc_text)})\")\n",
    "    print(f\"Cadena plagiada:  (Longitud: {len(plagiarized_doc_text)})\")\n",
    "    print()\n"
   ]
  }
 ],
 "metadata": {
  "kernelspec": {
   "display_name": "Python 3",
   "language": "python",
   "name": "python3"
  },
  "language_info": {
   "codemirror_mode": {
    "name": "ipython",
    "version": 3
   },
   "file_extension": ".py",
   "mimetype": "text/x-python",
   "name": "python",
   "nbconvert_exporter": "python",
   "pygments_lexer": "ipython3",
   "version": "3.12.3"
  }
 },
 "nbformat": 4,
 "nbformat_minor": 5
}
