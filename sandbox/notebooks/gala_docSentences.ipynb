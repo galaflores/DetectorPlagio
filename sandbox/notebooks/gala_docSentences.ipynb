{
 "cells": [
  {
   "cell_type": "code",
   "metadata": {
    "ExecuteTime": {
     "end_time": "2024-05-02T22:41:40.185481Z",
     "start_time": "2024-05-02T22:41:40.181558Z"
    }
   },
   "source": [
    "import numpy as np\n",
    "import nltk\n",
    "import os\n",
    "import difflib\n",
    "from gensim.models import Word2Vec\n",
    "from nltk.stem import LancasterStemmer\n",
    "from nltk.stem import WordNetLemmatizer\n",
    "from nltk.tokenize import word_tokenize\n",
    "nltk.download('wordnet')\n",
    "from nltk.util import ngrams\n",
    "import gensim.downloader as api\n",
    "import re\n",
    "from gensim.models.doc2vec import Doc2Vec, TaggedDocument\n",
    "nltk.download('punkt')\n",
    "from nltk import pos_tag\n",
    "nltk.download('averaged_perceptron_tagger')\n",
    "\n",
    "lemmatizer = WordNetLemmatizer() #lemmatizer algorithm\n",
    "lancStemmer = LancasterStemmer()  # stemming algorithm Lancaster"
   ],
   "outputs": [
    {
     "name": "stderr",
     "output_type": "stream",
     "text": [
      "[nltk_data] Downloading package wordnet to\n",
      "[nltk_data]     /Users/sergiogonzalez/nltk_data...\n",
      "[nltk_data]   Package wordnet is already up-to-date!\n",
      "[nltk_data] Downloading package punkt to\n",
      "[nltk_data]     /Users/sergiogonzalez/nltk_data...\n",
      "[nltk_data]   Package punkt is already up-to-date!\n",
      "[nltk_data] Downloading package averaged_perceptron_tagger to\n",
      "[nltk_data]     /Users/sergiogonzalez/nltk_data...\n",
      "[nltk_data]   Package averaged_perceptron_tagger is already up-to-\n",
      "[nltk_data]       date!\n"
     ]
    }
   ],
   "execution_count": 78
  },
  {
   "cell_type": "markdown",
   "metadata": {},
   "source": [
    "### PREPROCESAMIENTO\n",
    "(gala)"
   ]
  },
  {
   "cell_type": "code",
   "metadata": {
    "ExecuteTime": {
     "end_time": "2024-05-02T22:41:41.920422Z",
     "start_time": "2024-05-02T22:41:41.915959Z"
    }
   },
   "source": [
    "def remove_stopwords(text):\n",
    "    stopwords = set(nltk.corpus.stopwords.words('english'))\n",
    "    palabras = [palabra.lower() for palabra in re.findall(r'\\w+', text.lower())]\n",
    "    text_lista = []\n",
    "    for palabra in palabras:\n",
    "        if palabra not in stopwords:\n",
    "            text_lista.append(palabra)\n",
    "    nuevo_texto = ' '.join(text_lista)\n",
    "    return nuevo_texto\n",
    "\n",
    "def get_lemmatizer(text):\n",
    "    palabras = remove_stopwords(text)\n",
    "    palabras = palabras.split()\n",
    "    text_lista = []\n",
    "    for palabra in palabras:\n",
    "        nueva = lemmatizer.lemmatize(palabra)\n",
    "        text_lista.append(nueva)\n",
    "    nuevo_texto = ' '.join(text_lista)\n",
    "    return nuevo_texto\n",
    "\n",
    "def get_stemmer(text):\n",
    "    palabras = remove_stopwords(text)\n",
    "    palabras = palabras.split()\n",
    "    text_lista = []\n",
    "    for palabra in palabras:\n",
    "        nueva = lancStemmer.stem(palabra)\n",
    "        text_lista.append(nueva)\n",
    "    nuevo_texto = ' '.join(text_lista)\n",
    "    return nuevo_texto"
   ],
   "outputs": [],
   "execution_count": 79
  },
  {
   "cell_type": "code",
   "metadata": {
    "ExecuteTime": {
     "end_time": "2024-05-02T22:41:43.031161Z",
     "start_time": "2024-05-02T22:41:43.026721Z"
    }
   },
   "source": [
    "def get_grams(text, ngram, method):\n",
    "    result = []\n",
    "\n",
    "    if method == 'lemmatize':\n",
    "        text = get_lemmatizer(text)\n",
    "        if ngram == 0:  # Si ngram es 0, se retorna el texto completo sin ngramas\n",
    "            text = nltk.sent_tokenize(text)\n",
    "            text = ' '.join(text)\n",
    "            return text\n",
    "\n",
    "        else:\n",
    "            text = text.split()\n",
    "            grams = ngrams(text, ngram)\n",
    "            for ng in grams:\n",
    "                result.append(' '.join(ng))\n",
    "    elif method == 'stemmer':\n",
    "        text = get_stemmer(text)\n",
    "        if ngram == 0:  # Si ngram es 0, se retorna el texto completo sin ngramas\n",
    "            text = nltk.sent_tokenize(text)\n",
    "            text = ' '.join(text)\n",
    "            return text\n",
    "\n",
    "        else:\n",
    "            text = text.split()\n",
    "            grams = ngrams(text, ngram)\n",
    "            for ng in grams:\n",
    "                result.append(' '.join(ng))\n",
    "    else:\n",
    "        raise ValueError('Method not found')\n",
    "\n",
    "    return result"
   ],
   "outputs": [],
   "execution_count": 80
  },
  {
   "cell_type": "markdown",
   "metadata": {},
   "source": [
    "### PROCESAMIENTO\n",
    "Para documentos totales (sergio)"
   ]
  },
  {
   "cell_type": "code",
   "metadata": {
    "ExecuteTime": {
     "end_time": "2024-05-02T22:41:44.292127Z",
     "start_time": "2024-05-02T22:41:44.287803Z"
    }
   },
   "source": [
    "def preprocess_docs(folder_path, ngram, method):\n",
    "    \"\"\"\n",
    "    Esta función recibe la ruta de una carpeta con documentos de texto \n",
    "    y retorna una lista de documentos preprocesados y taggeados para el modelo\n",
    "    \"\"\"\n",
    "    tagged_documents = []\n",
    "    lemmatizer = WordNetLemmatizer()\n",
    "    for fileid in os.listdir(folder_path):\n",
    "        if fileid.endswith(\".txt\"):\n",
    "            filepath = os.path.join(folder_path, fileid)\n",
    "            \n",
    "            with open(filepath, 'r', encoding='latin1', errors='ignore') as file:\n",
    "                text = file.read()\n",
    "                # Preprocesamiento de texto\n",
    "                grams = get_grams(text, ngram, method)\n",
    "                # Ensure words are split into a list of strings and then converted to tuple\n",
    "                words = tuple(word.split() for word in grams)\n",
    "                # Flatten the list of lists into a single list of strings\n",
    "                words = [word for sublist in words for word in sublist if word.isalpha()]\n",
    "                tagged_documents.append(TaggedDocument(words=words, tags=[fileid]))\n",
    "\n",
    "    return tagged_documents"
   ],
   "outputs": [],
   "execution_count": 81
  },
  {
   "cell_type": "markdown",
   "metadata": {},
   "source": [
    "Obtiene los documentos tageados y sus palabras de los documentos preprocesadas en una listad de listas"
   ]
  },
  {
   "cell_type": "code",
   "metadata": {
    "ExecuteTime": {
     "end_time": "2024-05-02T22:41:45.667198Z",
     "start_time": "2024-05-02T22:41:45.601052Z"
    }
   },
   "source": [
    "folder_path = \"../../final-testing\"  # Ruta de la carpeta con los textos plagiados)\n",
    "folder_path_og = \"../../docs_originales\"  # Ruta de la carpeta con los textos originales\n",
    "\n",
    "tagged_originals = preprocess_docs(folder_path_og, 1, 'lemmatize')\n",
    "tagged_plagiarized = preprocess_docs(folder_path, 1, 'lemmatize')  "
   ],
   "outputs": [],
   "execution_count": 82
  },
  {
   "cell_type": "markdown",
   "metadata": {},
   "source": [
    "## ENTRENAMIENTO DE MODELO \n",
    "aqui voy a poner solo los originales para entrenamiento"
   ]
  },
  {
   "cell_type": "code",
   "metadata": {
    "ExecuteTime": {
     "end_time": "2024-05-02T22:41:47.145174Z",
     "start_time": "2024-05-02T22:41:47.142327Z"
    }
   },
   "source": [
    "def train_doc2vec(tagged_documents):\n",
    "    model = Doc2Vec(vector_size=80, window=5, min_count=1, epochs=200,\n",
    "                    dm=0)  # dm=0 for distributed bag of words (DBOW) mode\n",
    "    model.build_vocab(tagged_documents)\n",
    "    model.train(tagged_documents, total_examples=model.corpus_count, epochs=model.epochs)\n",
    "    return model"
   ],
   "outputs": [],
   "execution_count": 83
  },
  {
   "cell_type": "code",
   "metadata": {
    "ExecuteTime": {
     "end_time": "2024-05-02T22:41:49.390425Z",
     "start_time": "2024-05-02T22:41:48.132653Z"
    }
   },
   "source": [
    "# Training the Doc2Vec model\n",
    "model = train_doc2vec(tagged_originals + tagged_plagiarized)"
   ],
   "outputs": [],
   "execution_count": 84
  },
  {
   "cell_type": "markdown",
   "metadata": {},
   "source": [
    "### Función para calcular la similitud entre los conjuntos creando vectores con el modelo"
   ]
  },
  {
   "cell_type": "code",
   "metadata": {
    "ExecuteTime": {
     "end_time": "2024-05-02T22:41:49.641922Z",
     "start_time": "2024-05-02T22:41:49.639200Z"
    }
   },
   "source": [
    "def calculate_similarity_doc2vec(doc1, doc2, model):\n",
    "    vec1 = model.infer_vector(doc1.words)\n",
    "    vec2 = model.infer_vector(doc2.words)\n",
    "    similarity = model.dv.similarity(doc1.tags[0], doc2.tags[0])\n",
    "    return similarity"
   ],
   "outputs": [],
   "execution_count": 85
  },
  {
   "cell_type": "code",
   "metadata": {
    "ExecuteTime": {
     "end_time": "2024-05-02T22:43:41.324595Z",
     "start_time": "2024-05-02T22:42:42.079421Z"
    }
   },
   "source": [
    "similarity_results = []\n",
    "\n",
    "# Iterating over each plagiarized text\n",
    "for plagio_doc in tagged_plagiarized:\n",
    "    max_similarity = 0\n",
    "    most_similar = ''\n",
    "    most_similar_doc = ''\n",
    "\n",
    "    # Comparing with each original document\n",
    "    for original_doc in tagged_originals:\n",
    "        similarity = calculate_similarity_doc2vec(plagio_doc, original_doc, model)\n",
    "        if similarity > max_similarity:\n",
    "            max_similarity = similarity\n",
    "            most_similar = original_doc.tags[0]\n",
    "            most_similar_doc = original_doc.words\n",
    "\n",
    "    similarity_results.append([plagio_doc.tags[0], most_similar, max_similarity, most_similar_doc])\n",
    "\n",
    "        \n",
    "\n",
    "# Sorting results by similarity in descending order\n",
    "similarity_results.sort(key=lambda x: x[2], reverse=True)\n",
    "\n",
    "# Printing results\n",
    "for result in similarity_results:\n",
    "    plagio_title, original_title, similarity_score, original_doc = result\n",
    "    print(f\"Similarity between '{plagio_title}' and '{original_title}': {similarity_score * 100:.2f}%\")"
   ],
   "outputs": [
    {
     "name": "stdout",
     "output_type": "stream",
     "text": [
      "Similarity between 'FID-027.txt' and 'org-067.txt': 99.81%\n",
      "Similarity between 'FID-023.txt' and 'org-024.txt': 99.78%\n",
      "Similarity between 'FID-019.txt' and 'org-078.txt': 99.73%\n",
      "Similarity between 'FID-018.txt' and 'org-014.txt': 98.69%\n",
      "Similarity between 'FID-026.txt' and 'org-101.txt': 98.22%\n",
      "Similarity between 'FID-010.txt' and 'org-091.txt': 97.65%\n",
      "Similarity between 'FID-022.txt' and 'org-020.txt': 97.56%\n",
      "Similarity between 'FID-016.txt' and 'org-057.txt': 96.00%\n",
      "Similarity between 'FID-029.txt' and 'org-109.txt': 90.56%\n",
      "Similarity between 'FID-005.txt' and 'org-059.txt': 83.39%\n",
      "Similarity between 'FID-021.txt' and 'org-051.txt': 56.54%\n",
      "Similarity between 'FID-015.txt' and 'org-014.txt': 51.78%\n",
      "Similarity between 'FID-012.txt' and 'org-048.txt': 49.94%\n",
      "Similarity between 'FID-009.txt' and 'org-070.txt': 49.56%\n",
      "Similarity between 'FID-028.txt' and 'org-083.txt': 49.30%\n",
      "Similarity between 'FID-020.txt' and 'org-055.txt': 48.51%\n",
      "Similarity between 'FID-007.txt' and 'org-087.txt': 46.33%\n",
      "Similarity between 'FID-017.txt' and 'org-014.txt': 46.30%\n",
      "Similarity between 'FID-002.txt' and 'org-007.txt': 45.87%\n",
      "Similarity between 'FID-001.txt' and 'org-077.txt': 45.52%\n",
      "Similarity between 'FID-003.txt' and 'org-059.txt': 45.47%\n",
      "Similarity between 'FID-013.txt' and 'org-078.txt': 44.95%\n",
      "Similarity between 'FID-024.txt' and 'org-063.txt': 44.53%\n",
      "Similarity between 'FID-004.txt' and 'org-072.txt': 44.39%\n",
      "Similarity between 'FID-011.txt' and 'org-048.txt': 44.19%\n",
      "Similarity between 'FID-008.txt' and 'org-063.txt': 44.09%\n",
      "Similarity between 'FID-025.txt' and 'org-078.txt': 43.76%\n",
      "Similarity between 'FID-030.txt' and 'org-082.txt': 43.11%\n",
      "Similarity between 'FID-014.txt' and 'org-019.txt': 41.51%\n",
      "Similarity between 'FID-006.txt' and 'org-006.txt': 41.33%\n"
     ]
    }
   ],
   "execution_count": 100
  },
  {
   "metadata": {},
   "cell_type": "code",
   "source": [
    "similarity_results_all = []\n",
    "\n",
    "# Iterando sobre cada texto plagiado\n",
    "for plagio_doc in tagged_plagiarized:\n",
    "    similarity_scores = []\n",
    "    \n",
    "    # Comparando con cada documento original\n",
    "    for original_doc in tagged_originals:\n",
    "        similarity = calculate_similarity_doc2vec(plagio_doc, original_doc, model)\n",
    "        similarity_scores.append((original_doc.tags[0], similarity))\n",
    "\n",
    "    # Ordenando los resultados por similitud en orden descendente\n",
    "    similarity_scores.sort(key=lambda x: x[1], reverse=True)\n",
    "\n",
    "    # Agregando los resultados a similarity_results\n",
    "    similarity_results_all.append((plagio_doc.tags[0], similarity_scores))\n",
    "\n",
    "# Imprimiendo los resultados\n",
    "for plagio_title, similarity_scores in similarity_results_all:\n",
    "    print(f\"Nombre de documento plagiado: {plagio_title}\")\n",
    "    for original_title, similarity_score in similarity_scores:\n",
    "        print(f\"{original_title} --> {plagio_title} {similarity_score * 100:.2f}% de similitud\")\n",
    "    print()\n"
   ],
   "outputs": [],
   "execution_count": null
  },
  {
   "cell_type": "markdown",
   "metadata": {},
   "source": [
    "## PROCESO POR ORACION \n",
    "(gala)"
   ]
  },
  {
   "cell_type": "code",
   "metadata": {
    "ExecuteTime": {
     "end_time": "2024-05-02T22:42:02.701665Z",
     "start_time": "2024-05-02T22:42:01.505622Z"
    }
   },
   "source": [
    "# Training the Doc2Vec model\n",
    "model = train_doc2vec(tagged_originals + tagged_plagiarized)"
   ],
   "outputs": [],
   "execution_count": 87
  },
  {
   "cell_type": "code",
   "metadata": {
    "ExecuteTime": {
     "end_time": "2024-05-02T22:42:04.058359Z",
     "start_time": "2024-05-02T22:42:04.054920Z"
    }
   },
   "source": [
    "def buscar_y_tokenizar(directorio, nombre_archivo):\n",
    "    \"\"\"\n",
    "    Esta función recibe la ruta de un directorio y el nombre de un archivo\n",
    "    y retorna una lista de oraciones tokenizadas del archivo\n",
    "    ejemplo de salida: ['Primera oración.', 'Segunda oración.']\n",
    "    \"\"\"\n",
    "    for filename in os.listdir(directorio):\n",
    "        if filename == nombre_archivo:\n",
    "            filepath = os.path.join(directorio, filename)\n",
    "            with open(filepath, 'r', encoding='latin1', errors='ignore') as file:\n",
    "                text = file.read()\n",
    "                sentences = nltk.sent_tokenize(text)\n",
    "                return sentences\n",
    "    return None"
   ],
   "outputs": [],
   "execution_count": 88
  },
  {
   "cell_type": "markdown",
   "metadata": {},
   "source": [
    "## TIPOS DE PLAGIO"
   ]
  },
  {
   "cell_type": "code",
   "metadata": {
    "ExecuteTime": {
     "end_time": "2024-05-02T22:42:05.460699Z",
     "start_time": "2024-05-02T22:42:05.457273Z"
    }
   },
   "source": [
    "\n",
    "\n",
    "def detector_cambio_voz(oracion_original, oracion_plagiada):\n",
    "    \"\"\" \n",
    "    Detecta si hay cambio de voz entre dos oraciones al identificar si el sujeto de la oración cambió\n",
    "    en la oración plagiada respecto a la oración original.\n",
    "    \"\"\"\n",
    "    original_tags = nltk.pos_tag(word_tokenize(oracion_original))\n",
    "    plagio_tags = nltk.pos_tag(word_tokenize(oracion_plagiada))\n",
    "    \n",
    "    # Identificar el sujeto en ambas oraciones\n",
    "    for (word_orig, tag_orig), (word_plag, tag_plag) in zip(original_tags, plagio_tags):\n",
    "        if tag_orig.startswith('VB') and tag_plag.startswith('VB'):\n",
    "            if word_orig.lower() != word_plag.lower():  # Verificar si el verbo cambió\n",
    "                return True  # Hay cambio de voz\n",
    "    return False  # No hay cambio de voz\n",
    "\n"
   ],
   "outputs": [],
   "execution_count": 89
  },
  {
   "cell_type": "code",
   "metadata": {
    "ExecuteTime": {
     "end_time": "2024-05-02T22:42:06.327961Z",
     "start_time": "2024-05-02T22:42:06.325296Z"
    }
   },
   "source": [
    "from difflib import SequenceMatcher\n",
    "\n",
    "def detectar_reorganizacion(sentences_originales, sentences_plagiados, umbral_similitud=0.8):\n",
    "    \"\"\"\n",
    "    Detecta reorganización de oraciones comparando la similitud entre las oraciones originales y plagiadas.\n",
    "    \"\"\"\n",
    "    for sentence_orig, sentence_plagiada in zip(sentences_originales, sentences_plagiados):\n",
    "        sentence_orig_text = ' '.join(sentence_orig.words)\n",
    "        sentence_plagiada_text = ' '.join(sentence_plagiada.words)\n",
    "        similitud = SequenceMatcher(None, sentence_orig_text, sentence_plagiada_text).ratio()\n",
    "        if similitud >= umbral_similitud:\n",
    "            return True  # Hay reorganización\n",
    "    return False  # No hay reorganización\n",
    "\n"
   ],
   "outputs": [],
   "execution_count": 90
  },
  {
   "cell_type": "code",
   "metadata": {
    "ExecuteTime": {
     "end_time": "2024-05-02T22:42:07.530799Z",
     "start_time": "2024-05-02T22:42:07.526730Z"
    }
   },
   "source": [
    "\n",
    "def detectar_cambio_tiempo2(oracion_original, oracion_plagiada):\n",
    "    \"\"\"\n",
    "    Esta función detecta si hay un cambio de tiempo verbal en la oración plagiada en comparación con la original.\n",
    "    Devuelve True si hay un cambio de tiempo verbal, de lo contrario, devuelve False.\n",
    "    \"\"\"\n",
    "    # Etiquetar las palabras de ambas oraciones con sus partes del discurso (POS)\n",
    "    tags_original = pos_tag(word_tokenize(oracion_original))\n",
    "    tags_plagiada = pos_tag(word_tokenize(oracion_plagiada))\n",
    "    print(\"Etiquetas parte palabra ORIGINAL: \",tags_original)\n",
    "    print(\"Etiquetas parte palabra PLAGIADA: \",tags_plagiada)\n",
    "    \n",
    "    # Extraer los verbos de cada oración\n",
    "    verbos_original = [palabra for palabra, etiqueta in tags_original if etiqueta.startswith('VB')]\n",
    "    verbos_plagiada = [palabra for palabra, etiqueta in tags_plagiada if etiqueta.startswith('VB')]\n",
    "    print(\"Verbos ORIGINAL: \",verbos_original)\n",
    "    print(\"Verbos PLAGIADA: \",verbos_plagiada)\n",
    "    \n",
    "    # Verificar si hay cambios de tiempo verbal comparando los verbos de ambas oraciones\n",
    "    if verbos_original and verbos_plagiada:\n",
    "        tiempo_original = nltk.pos_tag(verbos_original)[0][1]\n",
    "        tiempo_plagiada = nltk.pos_tag(verbos_plagiada)[0][1]\n",
    "        return tiempo_original != tiempo_plagiada\n",
    "    else:\n",
    "        # Si no hay verbos en alguna de las oraciones, no se puede determinar un cambio de tiempo verbal\n",
    "        return False"
   ],
   "outputs": [],
   "execution_count": 91
  },
  {
   "cell_type": "code",
   "metadata": {
    "ExecuteTime": {
     "end_time": "2024-05-02T22:42:09.036158Z",
     "start_time": "2024-05-02T22:42:09.031068Z"
    }
   },
   "source": [
    "from nltk.corpus import stopwords\n",
    "from nltk.stem import WordNetLemmatizer\n",
    "from nltk.tokenize import word_tokenize\n",
    "\n",
    "def detectar_cambio_tiempo(oracion_original, oracion_plagiada):\n",
    "    \"\"\"\n",
    "    Esta función detecta si hay un cambio de tiempo verbal en la oración plagiada en comparación con la original.\n",
    "    Devuelve True si hay un cambio de tiempo verbal, de lo contrario, devuelve False.\n",
    "    \"\"\"\n",
    "    # Inicializar lematizador y lista de stopwords\n",
    "    lemmatizer = WordNetLemmatizer()\n",
    "    stop_words = set(stopwords.words('english'))\n",
    "\n",
    "    # Tokenizar las oraciones\n",
    "    tokens_original = word_tokenize(oracion_original)\n",
    "    tokens_plagiada = word_tokenize(oracion_plagiada)\n",
    "\n",
    "    # Lematizar y filtrar palabras\n",
    "    lemmatized_original = [lemmatizer.lemmatize(word) for word in tokens_original if word.isalnum() and word.lower() not in stop_words]\n",
    "    lemmatized_plagiada = [lemmatizer.lemmatize(word) for word in tokens_plagiada if word.isalnum() and word.lower() not in stop_words]\n",
    "\n",
    "    # Etiquetar las palabras de ambas oraciones con sus partes del discurso (POS)\n",
    "    tags_original = pos_tag(lemmatized_original)\n",
    "    tags_plagiada = pos_tag(lemmatized_plagiada)\n",
    "\n",
    "    # Extraer los verbos de cada oración\n",
    "    verbos_original = [palabra for palabra, etiqueta in tags_original if etiqueta.startswith('VB')]\n",
    "    verbos_plagiada = [palabra for palabra, etiqueta in tags_plagiada if etiqueta.startswith('VB')]\n",
    "\n",
    "    # Verificar si hay cambios de tiempo verbal comparando los verbos de ambas oraciones\n",
    "    if verbos_original and verbos_plagiada:\n",
    "        tiempo_original = nltk.pos_tag(verbos_original)[0][1]\n",
    "        tiempo_plagiada = nltk.pos_tag(verbos_plagiada)[0][1]\n",
    "        return tiempo_original != tiempo_plagiada\n",
    "    else:\n",
    "        # Si no hay verbos en alguna de las oraciones, no se puede determinar un cambio de tiempo verbal\n",
    "        return False\n"
   ],
   "outputs": [],
   "execution_count": 92
  },
  {
   "cell_type": "code",
   "metadata": {
    "ExecuteTime": {
     "end_time": "2024-05-02T22:42:12.617406Z",
     "start_time": "2024-05-02T22:42:12.614369Z"
    }
   },
   "source": [
    "\n",
    "def detectar_parafraseo(oracion_original, oracion_plagiada, umbral_similitud=0.8):\n",
    "    \"\"\"\n",
    "    Esta función detecta si el tipo de plagio es parafraseo comparando la similitud entre las oraciones original y plagiada.\n",
    "    Devuelve True si la similitud es mayor o igual al umbral especificado, de lo contrario, devuelve False.\n",
    "    \"\"\"\n",
    "    # Calcular la similitud entre las oraciones original y plagiada\n",
    "    similitud = SequenceMatcher(None, oracion_original, oracion_plagiada).ratio()\n",
    "    \n",
    "    # Comprobar si la similitud supera el umbral especificado\n",
    "    return similitud >= umbral_similitud\n"
   ],
   "outputs": [],
   "execution_count": 94
  },
  {
   "cell_type": "code",
   "metadata": {
    "ExecuteTime": {
     "end_time": "2024-05-02T22:42:13.565499Z",
     "start_time": "2024-05-02T22:42:13.562288Z"
    }
   },
   "source": [
    "def detectar_insertar_reemplazar(oracion_original, oracion_plagiada, umbral_palabras_comunes=0.8, umbral_longitud=0.5):\n",
    "    \"\"\"\n",
    "    Esta función detecta si el tipo de plagio implica la inserción o reemplazo de frases del documento original en el documento plagiado.\n",
    "    Devuelve True si la proporción de palabras comunes entre las oraciones supera el umbral especificado y la longitud de la oración plagiada es significativamente mayor que la original, de lo contrario, devuelve False.\n",
    "    \"\"\"\n",
    "    # Tokenizar las oraciones en palabras\n",
    "    palabras_originales = oracion_original.split()\n",
    "    palabras_plagiadas = oracion_plagiada.split()\n",
    "\n",
    "    # Calcular la proporción de palabras comunes\n",
    "    palabras_comunes = set(palabras_originales) & set(palabras_plagiadas)\n",
    "    prop_palabras_comunes = len(palabras_comunes) / len(set(palabras_originales))\n",
    "\n",
    "    # Calcular la longitud relativa de la oración plagiada con respecto a la original\n",
    "    long_orig = len(palabras_originales)\n",
    "    long_plagiada = len(palabras_plagiadas)\n",
    "    prop_longitud = long_plagiada / long_orig\n",
    "\n",
    "    # Comprobar si la proporción de palabras comunes supera el umbral y la longitud de la oración plagiada es significativamente mayor que la original\n",
    "    return prop_palabras_comunes >= umbral_palabras_comunes and prop_longitud >= umbral_longitud\n"
   ],
   "outputs": [],
   "execution_count": 95
  },
  {
   "cell_type": "markdown",
   "metadata": {},
   "source": [
    "# MAIN PROCESO POR ORACION"
   ]
  },
  {
   "cell_type": "code",
   "metadata": {},
   "source": [
    "\n",
    "from numpy import insert\n",
    "\n",
    "\n",
    "def encontrar_coincidencias(sentences_originales, sentences_plagiados, model):\n",
    "    coincidencias = []\n",
    "    tipo_plagio = {'Cambio de voz': 0, 'Desorden de oraciones': 0, 'Cambio de tiempo verbal': 0, 'Parafraseo': 0, 'Inserción o reemplazo': 0}\n",
    "    TP = 0\n",
    "    FP = 0\n",
    "    TN = 0\n",
    "    FN = 0\n",
    "\n",
    "    for sentence_orig in sentences_originales:\n",
    "        tiene_coincidencia = False\n",
    "        for sentence_plag in sentences_plagiados:\n",
    "            similarity = calculate_similarity_doc2vec(sentence_orig, sentence_plag, model)\n",
    "            if similarity > 0.6 and abs(len(sentence_orig) - len(sentence_plag)) < 15:\n",
    "                coincidencias.append({\n",
    "                    \"cadena_orig\": sentence_orig,\n",
    "                    \"cadena_plag\": sentence_plag,\n",
    "                    \"similitud\": similarity\n",
    "                })\n",
    "                if sentence_orig == sentence_plag:\n",
    "                    TP += 1\n",
    "                else:\n",
    "                    FP += 1\n",
    "                tiene_coincidencia = True\n",
    "\n",
    "\n",
    "                cambio_voz = detector_cambio_voz(' '.join(sentence_orig.words), ' '.join(sentence_plag.words))\n",
    "                #print(\"ORACION ORIGINAL:\",' '.join(sentence_orig.words))\n",
    "                #print(\"ORACION PLAGIADA:\",' '.join(sentence_plag.words))\n",
    "                reorganizacion = detectar_reorganizacion(sentences_originales, sentences_plagiados)\n",
    "                cambio_tiempo = detectar_cambio_tiempo(' '.join(sentence_orig.words), ' '.join(sentence_plag.words))\n",
    "                parafraseo = detectar_parafraseo(' '.join(sentence_orig.words), ' '.join(sentence_plag.words))\n",
    "                insertar_reemplazar = detectar_insertar_reemplazar(' '.join(sentence_orig.words), ' '.join(sentence_plag.words))\n",
    "                if cambio_voz:\n",
    "                    tipo_plagio['Cambio de voz'] += 1\n",
    "                if reorganizacion:\n",
    "                    tipo_plagio['Desorden de oraciones'] += 1\n",
    "                if cambio_tiempo:\n",
    "                    tipo_plagio['Cambio de tiempo verbal'] += 1\n",
    "                if parafraseo:\n",
    "                    tipo_plagio['Parafraseo'] += 1\n",
    "                if insertar_reemplazar:\n",
    "                    tipo_plagio['Inserción o reemplazo'] += 1\n",
    "                    \n",
    "        #print(tipo_plagio)    \n",
    "        if not tiene_coincidencia:\n",
    "            FN += 1\n",
    "        else:\n",
    "            TN += 1\n",
    "    # Contabilizar tipos de plagio y encontrar el mayor\n",
    "    plagio_count = tipo_plagio\n",
    "    #mayor_tipo_plagio = max(plagio_count, key=plagio_count.get)\n",
    "    max_count = max(plagio_count.values())\n",
    "    mayor_tipo_plagio = [tipo for tipo, count in plagio_count.items() if count == max_count]\n",
    "\n",
    "    matriz_auc = {'TP': TP, 'FP': FP, 'TN': TN, 'FN': FN}\n",
    "    print(matriz_auc)\n",
    "    print(f\"Tipos de plagio contabilizados: {plagio_count}\")\n",
    "    print(f\"Mayor tipo de plagio: {mayor_tipo_plagio}\")\n",
    "    return coincidencias, matriz_auc, mayor_tipo_plagio"
   ],
   "outputs": [],
   "execution_count": null
  },
  {
   "cell_type": "code",
   "metadata": {
    "ExecuteTime": {
     "end_time": "2024-05-02T22:42:20.009358Z",
     "start_time": "2024-05-02T22:42:20.006025Z"
    }
   },
   "source": [
    "def preprocess_sentences(sentences):\n",
    "    \"\"\" \n",
    "    Función para preprocesar las oraciones.\n",
    "    Después de tokenizar las oraciones:\n",
    "    Se eliminan las stopwords y se lematizan las palabras.\n",
    "    Se tagean las oraciones con un identificador único.\n",
    "    \"\"\"\n",
    "    tagged_sentences = []\n",
    "    lemmatizer = WordNetLemmatizer()\n",
    "    for i, sentence in enumerate(sentences):\n",
    "        tagged_sentence = TaggedDocument(words=[lemmatizer.lemmatize(word) for word in nltk.word_tokenize(sentence.lower()) if word.isalpha()], tags=[str(i)])\n",
    "        tagged_sentences.append(tagged_sentence)\n",
    "    return tagged_sentences"
   ],
   "outputs": [],
   "execution_count": 96
  },
  {
   "cell_type": "code",
   "metadata": {
    "ExecuteTime": {
     "end_time": "2024-05-02T22:54:57.571033Z",
     "start_time": "2024-05-02T22:54:48.774487Z"
    }
   },
   "source": [
    "\"\"\" \n",
    "Ejecución del detector de plagio con el modelo Doc2Vec entrenado y las funciones de tipo de detección de plagio.\n",
    "Se calculan las métricas de TPR, FPR y AUC.\n",
    "\"\"\"\n",
    "total_coincidencias = []\n",
    "new_results = []\n",
    "total_TP = 0\n",
    "total_FP = 0\n",
    "total_TN = 0\n",
    "total_FN = 0\n",
    "\n",
    "for titulo in similarity_results:\n",
    "    resultados = []\n",
    "    sentences_originales = buscar_y_tokenizar(folder_path_og, titulo[1])\n",
    "    sentences_plagiados = buscar_y_tokenizar(folder_path, titulo[0])\n",
    "    \n",
    "    print(f\"Titulo: {titulo[0]}\")\n",
    "\n",
    "    if sentences_originales and sentences_plagiados:\n",
    "        tagged_sentences_originales = preprocess_sentences(sentences_originales)\n",
    "        tagged_sentences_plagiados = preprocess_sentences(sentences_plagiados)\n",
    "        model = train_doc2vec(tagged_sentences_originales + tagged_sentences_plagiados)\n",
    "        similitud = titulo[2]\n",
    "        print(f\"Similitud entre '{titulo[0]}' y '{titulo[1]}': {similitud * 100:.2f}%\")\n",
    "        coincidencias, matriz_auc, tipo_plagio = encontrar_coincidencias(tagged_sentences_originales, tagged_sentences_plagiados, model)\n",
    "        total_TP += matriz_auc['TP']\n",
    "        total_FP += matriz_auc['FP']\n",
    "        total_TN += matriz_auc['TN']\n",
    "        total_FN += matriz_auc['FN']\n",
    "        print(f\"Tipo de plagio: {tipo_plagio}\")\n",
    "        total_coincidencias.extend(coincidencias)\n",
    "        new_results.append([titulo[0], titulo[1], similitud, tipo_plagio])\n",
    "        print()\n",
    "\n",
    "        # print(f\"\\nCoincidencias para '{titulo[0]}' y '{titulo[1]}':\")\n",
    "        # for coincidencia in coincidencias:\n",
    "            # print(f\"Cadena original: {coincidencia['cadena_orig']} (Similitud: {coincidencia['similitud']})\")\n",
    "            # print(f\"Cadena plagiada: {coincidencia['cadena_plag']}\")\n",
    "            # print()\n",
    "    # else:\n",
    "        # print(f\"No se encontraron oraciones en '{titulo[0]}' o '{titulo[1]}'\")\n",
    "        # print()\n",
    "    # print(\"----------------------------\\n\")\n",
    "\n",
    "# Calculando TPR, FPR y AUC\n",
    "TPR = total_TP / (total_TP + total_FN) if (total_TP + total_FN) != 0 else 0\n",
    "FPR = total_FP / (total_FP + total_TN) if (total_FP + total_TN) != 0 else 0\n",
    "AUC = (1 + TPR - FPR) / 2\n",
    "\n",
    "# Imprimiendo los valores calculados\n",
    "print(f\"TPR (Tasa de Verdaderos Positivos): {TPR:.2f}\")\n",
    "print(f\"FPR (Tasa de Falsos Positivos): {FPR:.2f}\")\n",
    "print(f\"AUC (Área bajo la curva ROC): {AUC:.2f}\")"
   ],
   "outputs": [
    {
     "name": "stdout",
     "output_type": "stream",
     "text": [
      "Titulo: FID-027.txt\n",
      "Similitud entre 'FID-027.txt' y 'org-067.txt': 99.81%\n",
      "{'TP': 8, 'FP': 2, 'TN': 10, 'FN': 0}\n",
      "Tipos de plagio contabilizados: {'Cambio de voz': 2, 'Desorden de oraciones': 10, 'Cambio de tiempo verbal': 0, 'Parafraseo': 9, 'Inserción o reemplazo': 10}\n",
      "Mayor tipo de plagio: ['Desorden de oraciones', 'Inserción o reemplazo']\n",
      "Tipo de plagio: ['Desorden de oraciones', 'Inserción o reemplazo']\n",
      "\n",
      "Titulo: FID-023.txt\n",
      "Similitud entre 'FID-023.txt' y 'org-024.txt': 99.78%\n",
      "{'TP': 6, 'FP': 14, 'TN': 12, 'FN': 0}\n",
      "Tipos de plagio contabilizados: {'Cambio de voz': 8, 'Desorden de oraciones': 20, 'Cambio de tiempo verbal': 0, 'Parafraseo': 10, 'Inserción o reemplazo': 10}\n",
      "Mayor tipo de plagio: ['Desorden de oraciones']\n",
      "Tipo de plagio: ['Desorden de oraciones']\n",
      "\n",
      "Titulo: FID-019.txt\n",
      "Similitud entre 'FID-019.txt' y 'org-078.txt': 99.73%\n",
      "{'TP': 0, 'FP': 13, 'TN': 5, 'FN': 0}\n",
      "Tipos de plagio contabilizados: {'Cambio de voz': 0, 'Desorden de oraciones': 0, 'Cambio de tiempo verbal': 8, 'Parafraseo': 5, 'Inserción o reemplazo': 5}\n",
      "Mayor tipo de plagio: ['Cambio de tiempo verbal']\n",
      "Tipo de plagio: ['Cambio de tiempo verbal']\n",
      "\n",
      "Titulo: FID-018.txt\n",
      "Similitud entre 'FID-018.txt' y 'org-014.txt': 98.69%\n",
      "{'TP': 7, 'FP': 26, 'TN': 9, 'FN': 0}\n",
      "Tipos de plagio contabilizados: {'Cambio de voz': 3, 'Desorden de oraciones': 33, 'Cambio de tiempo verbal': 3, 'Parafraseo': 7, 'Inserción o reemplazo': 8}\n",
      "Mayor tipo de plagio: ['Desorden de oraciones']\n",
      "Tipo de plagio: ['Desorden de oraciones']\n",
      "\n",
      "Titulo: FID-026.txt\n",
      "Similitud entre 'FID-026.txt' y 'org-101.txt': 98.22%\n",
      "{'TP': 6, 'FP': 7, 'TN': 13, 'FN': 0}\n",
      "Tipos de plagio contabilizados: {'Cambio de voz': 3, 'Desorden de oraciones': 13, 'Cambio de tiempo verbal': 3, 'Parafraseo': 13, 'Inserción o reemplazo': 13}\n",
      "Mayor tipo de plagio: ['Desorden de oraciones', 'Parafraseo', 'Inserción o reemplazo']\n",
      "Tipo de plagio: ['Desorden de oraciones', 'Parafraseo', 'Inserción o reemplazo']\n",
      "\n",
      "Titulo: FID-010.txt\n",
      "Similitud entre 'FID-010.txt' y 'org-091.txt': 97.65%\n",
      "{'TP': 5, 'FP': 5, 'TN': 8, 'FN': 0}\n",
      "Tipos de plagio contabilizados: {'Cambio de voz': 1, 'Desorden de oraciones': 10, 'Cambio de tiempo verbal': 2, 'Parafraseo': 8, 'Inserción o reemplazo': 8}\n",
      "Mayor tipo de plagio: ['Desorden de oraciones']\n",
      "Tipo de plagio: ['Desorden de oraciones']\n",
      "\n",
      "Titulo: FID-022.txt\n",
      "Similitud entre 'FID-022.txt' y 'org-020.txt': 97.56%\n",
      "{'TP': 7, 'FP': 2, 'TN': 9, 'FN': 0}\n",
      "Tipos de plagio contabilizados: {'Cambio de voz': 0, 'Desorden de oraciones': 9, 'Cambio de tiempo verbal': 0, 'Parafraseo': 7, 'Inserción o reemplazo': 7}\n",
      "Mayor tipo de plagio: ['Desorden de oraciones']\n",
      "Tipo de plagio: ['Desorden de oraciones']\n",
      "\n",
      "Titulo: FID-016.txt\n",
      "Similitud entre 'FID-016.txt' y 'org-057.txt': 96.00%\n",
      "{'TP': 8, 'FP': 3, 'TN': 11, 'FN': 0}\n",
      "Tipos de plagio contabilizados: {'Cambio de voz': 1, 'Desorden de oraciones': 11, 'Cambio de tiempo verbal': 2, 'Parafraseo': 11, 'Inserción o reemplazo': 11}\n",
      "Mayor tipo de plagio: ['Desorden de oraciones', 'Parafraseo', 'Inserción o reemplazo']\n",
      "Tipo de plagio: ['Desorden de oraciones', 'Parafraseo', 'Inserción o reemplazo']\n",
      "\n",
      "Titulo: FID-029.txt\n",
      "Similitud entre 'FID-029.txt' y 'org-109.txt': 90.56%\n",
      "{'TP': 0, 'FP': 26, 'TN': 9, 'FN': 0}\n",
      "Tipos de plagio contabilizados: {'Cambio de voz': 1, 'Desorden de oraciones': 0, 'Cambio de tiempo verbal': 14, 'Parafraseo': 8, 'Inserción o reemplazo': 8}\n",
      "Mayor tipo de plagio: ['Cambio de tiempo verbal']\n",
      "Tipo de plagio: ['Cambio de tiempo verbal']\n",
      "\n",
      "Titulo: FID-005.txt\n",
      "Similitud entre 'FID-005.txt' y 'org-059.txt': 83.39%\n",
      "{'TP': 2, 'FP': 8, 'TN': 6, 'FN': 0}\n",
      "Tipos de plagio contabilizados: {'Cambio de voz': 2, 'Desorden de oraciones': 10, 'Cambio de tiempo verbal': 1, 'Parafraseo': 4, 'Inserción o reemplazo': 4}\n",
      "Mayor tipo de plagio: ['Desorden de oraciones']\n",
      "Tipo de plagio: ['Desorden de oraciones']\n",
      "\n",
      "Titulo: FID-021.txt\n",
      "Similitud entre 'FID-021.txt' y 'org-051.txt': 56.54%\n",
      "{'TP': 0, 'FP': 4, 'TN': 4, 'FN': 4}\n",
      "Tipos de plagio contabilizados: {'Cambio de voz': 2, 'Desorden de oraciones': 0, 'Cambio de tiempo verbal': 3, 'Parafraseo': 0, 'Inserción o reemplazo': 0}\n",
      "Mayor tipo de plagio: ['Cambio de tiempo verbal']\n",
      "Tipo de plagio: ['Cambio de tiempo verbal']\n",
      "\n",
      "Titulo: FID-015.txt\n",
      "Similitud entre 'FID-015.txt' y 'org-014.txt': 51.78%\n",
      "{'TP': 0, 'FP': 21, 'TN': 9, 'FN': 0}\n",
      "Tipos de plagio contabilizados: {'Cambio de voz': 6, 'Desorden de oraciones': 0, 'Cambio de tiempo verbal': 15, 'Parafraseo': 0, 'Inserción o reemplazo': 0}\n",
      "Mayor tipo de plagio: ['Cambio de tiempo verbal']\n",
      "Tipo de plagio: ['Cambio de tiempo verbal']\n",
      "\n",
      "Titulo: FID-012.txt\n",
      "Similitud entre 'FID-012.txt' y 'org-048.txt': 49.94%\n",
      "{'TP': 0, 'FP': 9, 'TN': 8, 'FN': 0}\n",
      "Tipos de plagio contabilizados: {'Cambio de voz': 4, 'Desorden de oraciones': 0, 'Cambio de tiempo verbal': 6, 'Parafraseo': 0, 'Inserción o reemplazo': 0}\n",
      "Mayor tipo de plagio: ['Cambio de tiempo verbal']\n",
      "Tipo de plagio: ['Cambio de tiempo verbal']\n",
      "\n",
      "Titulo: FID-009.txt\n",
      "Similitud entre 'FID-009.txt' y 'org-070.txt': 49.56%\n",
      "{'TP': 0, 'FP': 6, 'TN': 5, 'FN': 0}\n",
      "Tipos de plagio contabilizados: {'Cambio de voz': 3, 'Desorden de oraciones': 0, 'Cambio de tiempo verbal': 5, 'Parafraseo': 0, 'Inserción o reemplazo': 0}\n",
      "Mayor tipo de plagio: ['Cambio de tiempo verbal']\n",
      "Tipo de plagio: ['Cambio de tiempo verbal']\n",
      "\n",
      "Titulo: FID-028.txt\n",
      "Similitud entre 'FID-028.txt' y 'org-083.txt': 49.30%\n",
      "{'TP': 0, 'FP': 7, 'TN': 4, 'FN': 0}\n",
      "Tipos de plagio contabilizados: {'Cambio de voz': 3, 'Desorden de oraciones': 0, 'Cambio de tiempo verbal': 5, 'Parafraseo': 0, 'Inserción o reemplazo': 0}\n",
      "Mayor tipo de plagio: ['Cambio de tiempo verbal']\n",
      "Tipo de plagio: ['Cambio de tiempo verbal']\n",
      "\n",
      "Titulo: FID-020.txt\n",
      "Similitud entre 'FID-020.txt' y 'org-055.txt': 48.51%\n",
      "{'TP': 0, 'FP': 7, 'TN': 6, 'FN': 2}\n",
      "Tipos de plagio contabilizados: {'Cambio de voz': 2, 'Desorden de oraciones': 0, 'Cambio de tiempo verbal': 3, 'Parafraseo': 0, 'Inserción o reemplazo': 0}\n",
      "Mayor tipo de plagio: ['Cambio de tiempo verbal']\n",
      "Tipo de plagio: ['Cambio de tiempo verbal']\n",
      "\n",
      "Titulo: FID-007.txt\n",
      "Similitud entre 'FID-007.txt' y 'org-087.txt': 46.33%\n",
      "{'TP': 0, 'FP': 5, 'TN': 5, 'FN': 13}\n",
      "Tipos de plagio contabilizados: {'Cambio de voz': 1, 'Desorden de oraciones': 0, 'Cambio de tiempo verbal': 1, 'Parafraseo': 0, 'Inserción o reemplazo': 0}\n",
      "Mayor tipo de plagio: ['Cambio de voz', 'Cambio de tiempo verbal']\n",
      "Tipo de plagio: ['Cambio de voz', 'Cambio de tiempo verbal']\n",
      "\n",
      "Titulo: FID-017.txt\n",
      "Similitud entre 'FID-017.txt' y 'org-014.txt': 46.30%\n",
      "{'TP': 0, 'FP': 11, 'TN': 9, 'FN': 0}\n",
      "Tipos de plagio contabilizados: {'Cambio de voz': 2, 'Desorden de oraciones': 0, 'Cambio de tiempo verbal': 3, 'Parafraseo': 0, 'Inserción o reemplazo': 0}\n",
      "Mayor tipo de plagio: ['Cambio de tiempo verbal']\n",
      "Tipo de plagio: ['Cambio de tiempo verbal']\n",
      "\n",
      "Titulo: FID-002.txt\n",
      "Similitud entre 'FID-002.txt' y 'org-007.txt': 45.87%\n",
      "{'TP': 0, 'FP': 8, 'TN': 6, 'FN': 0}\n",
      "Tipos de plagio contabilizados: {'Cambio de voz': 3, 'Desorden de oraciones': 0, 'Cambio de tiempo verbal': 6, 'Parafraseo': 0, 'Inserción o reemplazo': 0}\n",
      "Mayor tipo de plagio: ['Cambio de tiempo verbal']\n",
      "Tipo de plagio: ['Cambio de tiempo verbal']\n",
      "\n",
      "Titulo: FID-001.txt\n",
      "Similitud entre 'FID-001.txt' y 'org-077.txt': 45.52%\n",
      "{'TP': 0, 'FP': 8, 'TN': 7, 'FN': 2}\n",
      "Tipos de plagio contabilizados: {'Cambio de voz': 4, 'Desorden de oraciones': 0, 'Cambio de tiempo verbal': 2, 'Parafraseo': 0, 'Inserción o reemplazo': 0}\n",
      "Mayor tipo de plagio: ['Cambio de voz']\n",
      "Tipo de plagio: ['Cambio de voz']\n",
      "\n",
      "Titulo: FID-003.txt\n",
      "Similitud entre 'FID-003.txt' y 'org-059.txt': 45.47%\n",
      "{'TP': 0, 'FP': 5, 'TN': 5, 'FN': 1}\n",
      "Tipos de plagio contabilizados: {'Cambio de voz': 3, 'Desorden de oraciones': 0, 'Cambio de tiempo verbal': 3, 'Parafraseo': 0, 'Inserción o reemplazo': 0}\n",
      "Mayor tipo de plagio: ['Cambio de voz', 'Cambio de tiempo verbal']\n",
      "Tipo de plagio: ['Cambio de voz', 'Cambio de tiempo verbal']\n",
      "\n",
      "Titulo: FID-013.txt\n",
      "Similitud entre 'FID-013.txt' y 'org-078.txt': 44.95%\n",
      "{'TP': 0, 'FP': 5, 'TN': 5, 'FN': 0}\n",
      "Tipos de plagio contabilizados: {'Cambio de voz': 2, 'Desorden de oraciones': 0, 'Cambio de tiempo verbal': 4, 'Parafraseo': 0, 'Inserción o reemplazo': 0}\n",
      "Mayor tipo de plagio: ['Cambio de tiempo verbal']\n",
      "Tipo de plagio: ['Cambio de tiempo verbal']\n",
      "\n",
      "Titulo: FID-024.txt\n",
      "Similitud entre 'FID-024.txt' y 'org-063.txt': 44.53%\n",
      "{'TP': 0, 'FP': 8, 'TN': 8, 'FN': 1}\n",
      "Tipos de plagio contabilizados: {'Cambio de voz': 4, 'Desorden de oraciones': 0, 'Cambio de tiempo verbal': 4, 'Parafraseo': 0, 'Inserción o reemplazo': 0}\n",
      "Mayor tipo de plagio: ['Cambio de voz', 'Cambio de tiempo verbal']\n",
      "Tipo de plagio: ['Cambio de voz', 'Cambio de tiempo verbal']\n",
      "\n",
      "Titulo: FID-004.txt\n",
      "Similitud entre 'FID-004.txt' y 'org-072.txt': 44.39%\n",
      "{'TP': 0, 'FP': 7, 'TN': 6, 'FN': 2}\n",
      "Tipos de plagio contabilizados: {'Cambio de voz': 3, 'Desorden de oraciones': 0, 'Cambio de tiempo verbal': 3, 'Parafraseo': 0, 'Inserción o reemplazo': 0}\n",
      "Mayor tipo de plagio: ['Cambio de voz', 'Cambio de tiempo verbal']\n",
      "Tipo de plagio: ['Cambio de voz', 'Cambio de tiempo verbal']\n",
      "\n",
      "Titulo: FID-011.txt\n",
      "Similitud entre 'FID-011.txt' y 'org-048.txt': 44.19%\n",
      "{'TP': 0, 'FP': 8, 'TN': 8, 'FN': 0}\n",
      "Tipos de plagio contabilizados: {'Cambio de voz': 4, 'Desorden de oraciones': 0, 'Cambio de tiempo verbal': 5, 'Parafraseo': 0, 'Inserción o reemplazo': 0}\n",
      "Mayor tipo de plagio: ['Cambio de tiempo verbal']\n",
      "Tipo de plagio: ['Cambio de tiempo verbal']\n",
      "\n",
      "Titulo: FID-008.txt\n",
      "Similitud entre 'FID-008.txt' y 'org-063.txt': 44.09%\n",
      "{'TP': 0, 'FP': 7, 'TN': 7, 'FN': 2}\n",
      "Tipos de plagio contabilizados: {'Cambio de voz': 0, 'Desorden de oraciones': 0, 'Cambio de tiempo verbal': 6, 'Parafraseo': 0, 'Inserción o reemplazo': 0}\n",
      "Mayor tipo de plagio: ['Cambio de tiempo verbal']\n",
      "Tipo de plagio: ['Cambio de tiempo verbal']\n",
      "\n",
      "Titulo: FID-025.txt\n",
      "Similitud entre 'FID-025.txt' y 'org-078.txt': 43.76%\n",
      "{'TP': 0, 'FP': 10, 'TN': 5, 'FN': 0}\n",
      "Tipos de plagio contabilizados: {'Cambio de voz': 1, 'Desorden de oraciones': 0, 'Cambio de tiempo verbal': 2, 'Parafraseo': 0, 'Inserción o reemplazo': 0}\n",
      "Mayor tipo de plagio: ['Cambio de tiempo verbal']\n",
      "Tipo de plagio: ['Cambio de tiempo verbal']\n",
      "\n",
      "Titulo: FID-030.txt\n",
      "Similitud entre 'FID-030.txt' y 'org-082.txt': 43.11%\n",
      "{'TP': 0, 'FP': 11, 'TN': 7, 'FN': 0}\n",
      "Tipos de plagio contabilizados: {'Cambio de voz': 5, 'Desorden de oraciones': 0, 'Cambio de tiempo verbal': 8, 'Parafraseo': 0, 'Inserción o reemplazo': 0}\n",
      "Mayor tipo de plagio: ['Cambio de tiempo verbal']\n",
      "Tipo de plagio: ['Cambio de tiempo verbal']\n",
      "\n",
      "Titulo: FID-014.txt\n",
      "Similitud entre 'FID-014.txt' y 'org-019.txt': 41.51%\n",
      "{'TP': 0, 'FP': 11, 'TN': 6, 'FN': 0}\n",
      "Tipos de plagio contabilizados: {'Cambio de voz': 2, 'Desorden de oraciones': 0, 'Cambio de tiempo verbal': 11, 'Parafraseo': 0, 'Inserción o reemplazo': 0}\n",
      "Mayor tipo de plagio: ['Cambio de tiempo verbal']\n",
      "Tipo de plagio: ['Cambio de tiempo verbal']\n",
      "\n",
      "Titulo: FID-006.txt\n",
      "Similitud entre 'FID-006.txt' y 'org-006.txt': 41.33%\n",
      "{'TP': 0, 'FP': 5, 'TN': 4, 'FN': 0}\n",
      "Tipos de plagio contabilizados: {'Cambio de voz': 1, 'Desorden de oraciones': 0, 'Cambio de tiempo verbal': 5, 'Parafraseo': 0, 'Inserción o reemplazo': 0}\n",
      "Mayor tipo de plagio: ['Cambio de tiempo verbal']\n",
      "Tipo de plagio: ['Cambio de tiempo verbal']\n",
      "\n",
      "TPR (Tasa de Verdaderos Positivos): 0.64\n",
      "FPR (Tasa de Falsos Positivos): 0.55\n",
      "AUC (Área bajo la curva ROC): 0.55\n"
     ]
    }
   ],
   "execution_count": 133
  },
  {
   "metadata": {
    "ExecuteTime": {
     "end_time": "2024-05-02T22:50:26.495052Z",
     "start_time": "2024-05-02T22:50:26.492266Z"
    }
   },
   "cell_type": "code",
   "source": [
    "for resultado in new_results:\n",
    "    copia = \"Si\" if resultado[2] > 0.8 else \"No\"\n",
    "    resultado.insert(2, copia)"
   ],
   "outputs": [],
   "execution_count": 112
  },
  {
   "cell_type": "code",
   "metadata": {
    "ExecuteTime": {
     "end_time": "2024-05-02T22:53:19.006288Z",
     "start_time": "2024-05-02T22:53:19.003141Z"
    }
   },
   "source": [
    "def imprimir_resultados(resultados):\n",
    "    print(\"{:<50} | {:<10} | {:<50} | {:<7} | {:<20}\".format(\"Documento sospechoso (plagiado)\", \"Copia\", \"Documento plagiado (original)\", \"% plagio\", \"Tipo de plagio\"))\n",
    "    print(\"-\" * 130)\n",
    "    for resultado in resultados:\n",
    "        plagio_title = resultado[0]\n",
    "        copia = resultado[2]\n",
    "        original_title = resultado[1]\n",
    "        similarity_score = resultado[3] * 100  # Convertir a porcentaje\n",
    "        tipo_plagio = str(resultado[4])\n",
    "        print(\"{:<50} | {:<10} | {:<50} | {:<7.2f} | {:<20}\".format(plagio_title, copia, original_title, similarity_score, tipo_plagio))"
   ],
   "outputs": [],
   "execution_count": 130
  },
  {
   "metadata": {
    "ExecuteTime": {
     "end_time": "2024-05-02T22:53:20.301238Z",
     "start_time": "2024-05-02T22:53:20.297196Z"
    }
   },
   "cell_type": "code",
   "source": [
    "# Usar la función para imprimir los resultados\n",
    "imprimir_resultados(new_results)"
   ],
   "outputs": [
    {
     "name": "stdout",
     "output_type": "stream",
     "text": [
      "Documento sospechoso (plagiado)                    | Copia      | Documento plagiado (original)                      | % plagio | Tipo de plagio      \n",
      "----------------------------------------------------------------------------------------------------------------------------------\n",
      "FID-027.txt                                        | Si         | org-067.txt                                        | 99.81   | ['Desorden de oraciones', 'Inserción o reemplazo']\n",
      "FID-023.txt                                        | Si         | org-024.txt                                        | 99.78   | ['Desorden de oraciones']\n",
      "FID-019.txt                                        | Si         | org-078.txt                                        | 99.73   | ['Cambio de tiempo verbal']\n",
      "FID-018.txt                                        | Si         | org-014.txt                                        | 98.69   | ['Desorden de oraciones']\n",
      "FID-026.txt                                        | Si         | org-101.txt                                        | 98.22   | ['Desorden de oraciones', 'Parafraseo', 'Inserción o reemplazo']\n",
      "FID-010.txt                                        | Si         | org-091.txt                                        | 97.65   | ['Desorden de oraciones']\n",
      "FID-022.txt                                        | Si         | org-020.txt                                        | 97.56   | ['Desorden de oraciones']\n",
      "FID-016.txt                                        | Si         | org-057.txt                                        | 96.00   | ['Desorden de oraciones', 'Parafraseo', 'Inserción o reemplazo']\n",
      "FID-029.txt                                        | Si         | org-109.txt                                        | 90.56   | ['Cambio de tiempo verbal']\n",
      "FID-005.txt                                        | Si         | org-059.txt                                        | 83.39   | ['Desorden de oraciones']\n",
      "FID-021.txt                                        | No         | org-051.txt                                        | 56.54   | ['Cambio de tiempo verbal']\n",
      "FID-015.txt                                        | No         | org-014.txt                                        | 51.78   | ['Cambio de tiempo verbal']\n",
      "FID-012.txt                                        | No         | org-048.txt                                        | 49.94   | ['Cambio de tiempo verbal']\n",
      "FID-009.txt                                        | No         | org-070.txt                                        | 49.56   | ['Cambio de tiempo verbal']\n",
      "FID-028.txt                                        | No         | org-083.txt                                        | 49.30   | ['Cambio de tiempo verbal']\n",
      "FID-020.txt                                        | No         | org-055.txt                                        | 48.51   | ['Cambio de tiempo verbal']\n",
      "FID-007.txt                                        | No         | org-087.txt                                        | 46.33   | ['Cambio de voz', 'Cambio de tiempo verbal']\n",
      "FID-017.txt                                        | No         | org-014.txt                                        | 46.30   | ['Cambio de tiempo verbal']\n",
      "FID-002.txt                                        | No         | org-007.txt                                        | 45.87   | ['Cambio de tiempo verbal']\n",
      "FID-001.txt                                        | No         | org-077.txt                                        | 45.52   | ['Cambio de voz']   \n",
      "FID-003.txt                                        | No         | org-059.txt                                        | 45.47   | ['Cambio de voz', 'Cambio de tiempo verbal']\n",
      "FID-013.txt                                        | No         | org-078.txt                                        | 44.95   | ['Cambio de tiempo verbal']\n",
      "FID-024.txt                                        | No         | org-063.txt                                        | 44.53   | ['Cambio de voz', 'Cambio de tiempo verbal']\n",
      "FID-004.txt                                        | No         | org-072.txt                                        | 44.39   | ['Cambio de voz', 'Cambio de tiempo verbal']\n",
      "FID-011.txt                                        | No         | org-048.txt                                        | 44.19   | ['Cambio de tiempo verbal']\n",
      "FID-008.txt                                        | No         | org-063.txt                                        | 44.09   | ['Cambio de tiempo verbal']\n",
      "FID-025.txt                                        | No         | org-078.txt                                        | 43.76   | ['Cambio de tiempo verbal']\n",
      "FID-030.txt                                        | No         | org-082.txt                                        | 43.11   | ['Cambio de tiempo verbal']\n",
      "FID-014.txt                                        | No         | org-019.txt                                        | 41.51   | ['Cambio de tiempo verbal']\n",
      "FID-006.txt                                        | No         | org-006.txt                                        | 41.33   | ['Cambio de tiempo verbal']\n"
     ]
    }
   ],
   "execution_count": 131
  },
  {
   "metadata": {
    "ExecuteTime": {
     "end_time": "2024-05-02T22:48:49.830710Z",
     "start_time": "2024-05-02T22:48:49.815677Z"
    }
   },
   "cell_type": "code",
   "source": [
    "# Crear una lista para almacenar los resultados\n",
    "resultados = []\n",
    "\n",
    "for titulo in similarity_results:\n",
    "    plagio_title = titulo[0]\n",
    "    original_title = titulo[1]\n",
    "    similarity_score = titulo[2] * 100  # Convertir la similitud a porcentaje\n",
    "    tipo_plagio = ', '.join(titulo[3]) if titulo[3] else \"No detectado\"  # Convertir la lista de tipos de plagio a una cadena, si existe\n",
    "    copia = \"Si\" if similarity_score > 0.8 else \"No\"  # Determinar si es una copia basado en el umbral de similitud\n",
    "    \n",
    "    resultados.append((plagio_title, original_title, copia, similarity_score, tipo_plagio))\n",
    "\n",
    "# Usar la función para imprimir los resultados\n",
    "imprimir_resultados(new_results)\n"
   ],
   "outputs": [
    {
     "name": "stdout",
     "output_type": "stream",
     "text": [
      "Documento sospechoso (plagiado)                    | Copia      | Documento plagiado (original)                      | % plagio | Tipo de plagio      \n",
      "----------------------------------------------------------------------------------------------------------------------------------\n"
     ]
    },
    {
     "ename": "IndexError",
     "evalue": "list index out of range",
     "output_type": "error",
     "traceback": [
      "\u001B[0;31m---------------------------------------------------------------------------\u001B[0m",
      "\u001B[0;31mIndexError\u001B[0m                                Traceback (most recent call last)",
      "Cell \u001B[0;32mIn[108], line 14\u001B[0m\n\u001B[1;32m     11\u001B[0m     resultados\u001B[38;5;241m.\u001B[39mappend((plagio_title, original_title, copia, similarity_score, tipo_plagio))\n\u001B[1;32m     13\u001B[0m \u001B[38;5;66;03m# Usar la función para imprimir los resultados\u001B[39;00m\n\u001B[0;32m---> 14\u001B[0m imprimir_resultados(new_results)\n",
      "Cell \u001B[0;32mIn[105], line 9\u001B[0m, in \u001B[0;36mimprimir_resultados\u001B[0;34m(resultados)\u001B[0m\n\u001B[1;32m      7\u001B[0m original_title \u001B[38;5;241m=\u001B[39m resultado[\u001B[38;5;241m1\u001B[39m]\n\u001B[1;32m      8\u001B[0m similarity_score \u001B[38;5;241m=\u001B[39m resultado[\u001B[38;5;241m3\u001B[39m]\n\u001B[0;32m----> 9\u001B[0m tipo_plagio \u001B[38;5;241m=\u001B[39m \u001B[38;5;28mstr\u001B[39m(resultado[\u001B[38;5;241m4\u001B[39m])\n\u001B[1;32m     10\u001B[0m \u001B[38;5;28mprint\u001B[39m(\u001B[38;5;124m\"\u001B[39m\u001B[38;5;132;01m{:<50}\u001B[39;00m\u001B[38;5;124m | \u001B[39m\u001B[38;5;132;01m{:<10}\u001B[39;00m\u001B[38;5;124m | \u001B[39m\u001B[38;5;132;01m{:<50}\u001B[39;00m\u001B[38;5;124m | \u001B[39m\u001B[38;5;132;01m{:<7.2f}\u001B[39;00m\u001B[38;5;124m | \u001B[39m\u001B[38;5;132;01m{:<20}\u001B[39;00m\u001B[38;5;124m\"\u001B[39m\u001B[38;5;241m.\u001B[39mformat(plagio_title, copia, original_title, similarity_score, tipo_plagio))\n",
      "\u001B[0;31mIndexError\u001B[0m: list index out of range"
     ]
    }
   ],
   "execution_count": 108
  },
  {
   "metadata": {},
   "cell_type": "code",
   "source": [
    "!pip install pandas\n",
    "!pip install openpyxl"
   ],
   "outputs": [],
   "execution_count": null
  },
  {
   "metadata": {},
   "cell_type": "code",
   "source": [
    "import pandas as pd\n",
    "\n",
    "# Convertir los resultados en un DataFrame de pandas\n",
    "df = pd.DataFrame(new_results, columns=[\"Documento sospechoso (plagiado)\", \"Copia\", \"Documento plagiado (original)\", \"% plagio\", \"Tipo de plagio\"])\n",
    "\n",
    "# Escribir el DataFrame en un archivo Excel\n",
    "df.to_excel(\"resultados_plagio.xlsx\", index=False)"
   ],
   "outputs": [],
   "execution_count": null
  },
  {
   "metadata": {},
   "cell_type": "code",
   "source": [
    "import os\n",
    "from gensim.models.doc2vec import TaggedDocument\n",
    "from nltk.stem import WordNetLemmatizer\n",
    "\n",
    "# Definir la función de preprocesamiento de documentos\n",
    "def preprocess_docs(folder_path, ngram, method):\n",
    "    \"\"\"\n",
    "    Esta función recibe la ruta de una carpeta con documentos de texto \n",
    "    y retorna una lista de documentos preprocesados y taggeados para el modelo\n",
    "    \"\"\"\n",
    "    tagged_documents = []\n",
    "    lemmatizer = WordNetLemmatizer()\n",
    "    for fileid in os.listdir(folder_path):\n",
    "        if fileid.endswith(\".txt\"):\n",
    "            filepath = os.path.join(folder_path, fileid)\n",
    "            with open(filepath, 'r', encoding='latin1', errors='ignore') as file:\n",
    "                text = file.read()\n",
    "                # Preprocesamiento de texto\n",
    "                grams = get_grams(text, ngram, method)\n",
    "                # Ensure words are split into a list of strings and then converted to tuple\n",
    "                words = tuple(word.split() for word in grams)\n",
    "                # Flatten the list of lists into a single list of strings\n",
    "                words = [word for sublist in words for word in sublist if word.isalpha()]\n",
    "                tagged_documents.append(TaggedDocument(words=words, tags=[fileid]))\n",
    "\n",
    "    return tagged_documents\n",
    "\n",
    "# Especificar las rutas de las carpetas de documentos originales y plagiados\n",
    "folder_path_og = \"../../docs_originales\"  # Ruta de la carpeta con los textos originales\n",
    "folder_path = \"../../final-testing\"  # Ruta de la carpeta con los textos plagiados\n",
    "\n",
    "# Preprocesar los documentos originales y plagiados\n",
    "tagged_originals = preprocess_docs(folder_path_og, 1, 'lemmatize')\n",
    "tagged_plagiarized = preprocess_docs(folder_path, 1, 'lemmatize')  \n",
    "\n",
    "# Entrenar el modelo Doc2Vec\n",
    "model = train_doc2vec(tagged_originals + tagged_plagiarized)\n",
    "\n",
    "# Definir una lista para almacenar los resultados de similitud\n",
    "similarity_results_all = []\n",
    "\n",
    "# Iterar sobre cada documento plagiado\n",
    "for plagio_doc in tagged_plagiarized:\n",
    "    similarity_scores = []\n",
    "\n",
    "    # Comparar con cada documento original\n",
    "    for original_doc in tagged_originals:\n",
    "        similarity = calculate_similarity_doc2vec(plagio_doc, original_doc, model)\n",
    "        similarity_scores.append((original_doc.tags[0], similarity))\n",
    "\n",
    "    # Ordenar los resultados por similitud en orden descendente\n",
    "    similarity_scores.sort(key=lambda x: x[1], reverse=True)\n",
    "\n",
    "    # Agregar los resultados a similarity_results_all\n",
    "    similarity_results_all.append((plagio_doc.tags[0], similarity_scores))\n",
    "\n",
    "# Imprimir los resultados\n",
    "for plagio_title, similarity_scores in similarity_results_all:\n",
    "    print(f\"Nombre de documento plagiado: {plagio_title}\")\n",
    "    for original_title, similarity_score in similarity_scores:\n",
    "        print(f\"{original_title} --> {plagio_title}: {similarity_score * 100:.2f}% de similitud\")\n",
    "    print()\n"
   ],
   "outputs": [],
   "execution_count": null
  },
  {
   "metadata": {},
   "cell_type": "code",
   "source": "",
   "outputs": [],
   "execution_count": null
  }
 ],
 "metadata": {
  "kernelspec": {
   "display_name": "Python 3",
   "language": "python",
   "name": "python3"
  },
  "language_info": {
   "codemirror_mode": {
    "name": "ipython",
    "version": 3
   },
   "file_extension": ".py",
   "mimetype": "text/x-python",
   "name": "python",
   "nbconvert_exporter": "python",
   "pygments_lexer": "ipython3",
   "version": "3.12.3"
  }
 },
 "nbformat": 4,
 "nbformat_minor": 2
}
