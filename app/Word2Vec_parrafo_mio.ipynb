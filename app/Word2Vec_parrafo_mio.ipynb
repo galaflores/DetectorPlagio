{
  "cells": [
    {
      "cell_type": "markdown",
      "metadata": {
        "id": "lbv6fiqrBZcd"
      },
      "source": [
        "# Imports"
      ]
    },
    {
      "cell_type": "code",
      "execution_count": 2,
      "metadata": {
        "id": "sq2xhf4sBXge"
      },
      "outputs": [
        {
          "ename": "ImportError",
          "evalue": "cannot import name 'triu' from 'scipy.linalg' (/Library/Frameworks/Python.framework/Versions/3.12/lib/python3.12/site-packages/scipy/linalg/__init__.py)",
          "output_type": "error",
          "traceback": [
            "\u001b[0;31m---------------------------------------------------------------------------\u001b[0m",
            "\u001b[0;31mImportError\u001b[0m                               Traceback (most recent call last)",
            "Cell \u001b[0;32mIn[2], line 4\u001b[0m\n\u001b[1;32m      2\u001b[0m \u001b[38;5;28;01mimport\u001b[39;00m \u001b[38;5;21;01mnltk\u001b[39;00m\n\u001b[1;32m      3\u001b[0m \u001b[38;5;28;01mfrom\u001b[39;00m \u001b[38;5;21;01mnltk\u001b[39;00m\u001b[38;5;21;01m.\u001b[39;00m\u001b[38;5;21;01mcorpus\u001b[39;00m \u001b[38;5;28;01mimport\u001b[39;00m brown\n\u001b[0;32m----> 4\u001b[0m \u001b[38;5;28;01mfrom\u001b[39;00m \u001b[38;5;21;01mgensim\u001b[39;00m\u001b[38;5;21;01m.\u001b[39;00m\u001b[38;5;21;01mmodels\u001b[39;00m \u001b[38;5;28;01mimport\u001b[39;00m Word2Vec\n\u001b[1;32m      5\u001b[0m \u001b[38;5;28;01mfrom\u001b[39;00m \u001b[38;5;21;01msklearn\u001b[39;00m\u001b[38;5;21;01m.\u001b[39;00m\u001b[38;5;21;01mdecomposition\u001b[39;00m \u001b[38;5;28;01mimport\u001b[39;00m PCA\n\u001b[1;32m      6\u001b[0m \u001b[38;5;28;01mfrom\u001b[39;00m \u001b[38;5;21;01mmatplotlib\u001b[39;00m \u001b[38;5;28;01mimport\u001b[39;00m pyplot\n",
            "File \u001b[0;32m/Library/Frameworks/Python.framework/Versions/3.12/lib/python3.12/site-packages/gensim/__init__.py:11\u001b[0m\n\u001b[1;32m      7\u001b[0m __version__ \u001b[38;5;241m=\u001b[39m \u001b[38;5;124m'\u001b[39m\u001b[38;5;124m4.3.2\u001b[39m\u001b[38;5;124m'\u001b[39m\n\u001b[1;32m      9\u001b[0m \u001b[38;5;28;01mimport\u001b[39;00m \u001b[38;5;21;01mlogging\u001b[39;00m\n\u001b[0;32m---> 11\u001b[0m \u001b[38;5;28;01mfrom\u001b[39;00m \u001b[38;5;21;01mgensim\u001b[39;00m \u001b[38;5;28;01mimport\u001b[39;00m parsing, corpora, matutils, interfaces, models, similarities, utils  \u001b[38;5;66;03m# noqa:F401\u001b[39;00m\n\u001b[1;32m     14\u001b[0m logger \u001b[38;5;241m=\u001b[39m logging\u001b[38;5;241m.\u001b[39mgetLogger(\u001b[38;5;124m'\u001b[39m\u001b[38;5;124mgensim\u001b[39m\u001b[38;5;124m'\u001b[39m)\n\u001b[1;32m     15\u001b[0m \u001b[38;5;28;01mif\u001b[39;00m \u001b[38;5;129;01mnot\u001b[39;00m logger\u001b[38;5;241m.\u001b[39mhandlers:  \u001b[38;5;66;03m# To ensure reload() doesn't add another one\u001b[39;00m\n",
            "File \u001b[0;32m/Library/Frameworks/Python.framework/Versions/3.12/lib/python3.12/site-packages/gensim/corpora/__init__.py:6\u001b[0m\n\u001b[1;32m      1\u001b[0m \u001b[38;5;124;03m\"\"\"\u001b[39;00m\n\u001b[1;32m      2\u001b[0m \u001b[38;5;124;03mThis package contains implementations of various streaming corpus I/O format.\u001b[39;00m\n\u001b[1;32m      3\u001b[0m \u001b[38;5;124;03m\"\"\"\u001b[39;00m\n\u001b[1;32m      5\u001b[0m \u001b[38;5;66;03m# bring corpus classes directly into package namespace, to save some typing\u001b[39;00m\n\u001b[0;32m----> 6\u001b[0m \u001b[38;5;28;01mfrom\u001b[39;00m \u001b[38;5;21;01m.\u001b[39;00m\u001b[38;5;21;01mindexedcorpus\u001b[39;00m \u001b[38;5;28;01mimport\u001b[39;00m IndexedCorpus  \u001b[38;5;66;03m# noqa:F401 must appear before the other classes\u001b[39;00m\n\u001b[1;32m      8\u001b[0m \u001b[38;5;28;01mfrom\u001b[39;00m \u001b[38;5;21;01m.\u001b[39;00m\u001b[38;5;21;01mmmcorpus\u001b[39;00m \u001b[38;5;28;01mimport\u001b[39;00m MmCorpus  \u001b[38;5;66;03m# noqa:F401\u001b[39;00m\n\u001b[1;32m      9\u001b[0m \u001b[38;5;28;01mfrom\u001b[39;00m \u001b[38;5;21;01m.\u001b[39;00m\u001b[38;5;21;01mbleicorpus\u001b[39;00m \u001b[38;5;28;01mimport\u001b[39;00m BleiCorpus  \u001b[38;5;66;03m# noqa:F401\u001b[39;00m\n",
            "File \u001b[0;32m/Library/Frameworks/Python.framework/Versions/3.12/lib/python3.12/site-packages/gensim/corpora/indexedcorpus.py:14\u001b[0m\n\u001b[1;32m     10\u001b[0m \u001b[38;5;28;01mimport\u001b[39;00m \u001b[38;5;21;01mlogging\u001b[39;00m\n\u001b[1;32m     12\u001b[0m \u001b[38;5;28;01mimport\u001b[39;00m \u001b[38;5;21;01mnumpy\u001b[39;00m\n\u001b[0;32m---> 14\u001b[0m \u001b[38;5;28;01mfrom\u001b[39;00m \u001b[38;5;21;01mgensim\u001b[39;00m \u001b[38;5;28;01mimport\u001b[39;00m interfaces, utils\n\u001b[1;32m     16\u001b[0m logger \u001b[38;5;241m=\u001b[39m logging\u001b[38;5;241m.\u001b[39mgetLogger(\u001b[38;5;18m__name__\u001b[39m)\n\u001b[1;32m     19\u001b[0m \u001b[38;5;28;01mclass\u001b[39;00m \u001b[38;5;21;01mIndexedCorpus\u001b[39;00m(interfaces\u001b[38;5;241m.\u001b[39mCorpusABC):\n",
            "File \u001b[0;32m/Library/Frameworks/Python.framework/Versions/3.12/lib/python3.12/site-packages/gensim/interfaces.py:19\u001b[0m\n\u001b[1;32m      7\u001b[0m \u001b[38;5;124;03m\"\"\"Basic interfaces used across the whole Gensim package.\u001b[39;00m\n\u001b[1;32m      8\u001b[0m \n\u001b[1;32m      9\u001b[0m \u001b[38;5;124;03mThese interfaces are used for building corpora, model transformation and similarity queries.\u001b[39;00m\n\u001b[0;32m   (...)\u001b[0m\n\u001b[1;32m     14\u001b[0m \n\u001b[1;32m     15\u001b[0m \u001b[38;5;124;03m\"\"\"\u001b[39;00m\n\u001b[1;32m     17\u001b[0m \u001b[38;5;28;01mimport\u001b[39;00m \u001b[38;5;21;01mlogging\u001b[39;00m\n\u001b[0;32m---> 19\u001b[0m \u001b[38;5;28;01mfrom\u001b[39;00m \u001b[38;5;21;01mgensim\u001b[39;00m \u001b[38;5;28;01mimport\u001b[39;00m utils, matutils\n\u001b[1;32m     22\u001b[0m logger \u001b[38;5;241m=\u001b[39m logging\u001b[38;5;241m.\u001b[39mgetLogger(\u001b[38;5;18m__name__\u001b[39m)\n\u001b[1;32m     25\u001b[0m \u001b[38;5;28;01mclass\u001b[39;00m \u001b[38;5;21;01mCorpusABC\u001b[39;00m(utils\u001b[38;5;241m.\u001b[39mSaveLoad):\n",
            "File \u001b[0;32m/Library/Frameworks/Python.framework/Versions/3.12/lib/python3.12/site-packages/gensim/matutils.py:20\u001b[0m\n\u001b[1;32m     18\u001b[0m \u001b[38;5;28;01mimport\u001b[39;00m \u001b[38;5;21;01mscipy\u001b[39;00m\u001b[38;5;21;01m.\u001b[39;00m\u001b[38;5;21;01msparse\u001b[39;00m\n\u001b[1;32m     19\u001b[0m \u001b[38;5;28;01mfrom\u001b[39;00m \u001b[38;5;21;01mscipy\u001b[39;00m\u001b[38;5;21;01m.\u001b[39;00m\u001b[38;5;21;01mstats\u001b[39;00m \u001b[38;5;28;01mimport\u001b[39;00m entropy\n\u001b[0;32m---> 20\u001b[0m \u001b[38;5;28;01mfrom\u001b[39;00m \u001b[38;5;21;01mscipy\u001b[39;00m\u001b[38;5;21;01m.\u001b[39;00m\u001b[38;5;21;01mlinalg\u001b[39;00m \u001b[38;5;28;01mimport\u001b[39;00m get_blas_funcs, triu\n\u001b[1;32m     21\u001b[0m \u001b[38;5;28;01mfrom\u001b[39;00m \u001b[38;5;21;01mscipy\u001b[39;00m\u001b[38;5;21;01m.\u001b[39;00m\u001b[38;5;21;01mlinalg\u001b[39;00m\u001b[38;5;21;01m.\u001b[39;00m\u001b[38;5;21;01mlapack\u001b[39;00m \u001b[38;5;28;01mimport\u001b[39;00m get_lapack_funcs\n\u001b[1;32m     22\u001b[0m \u001b[38;5;28;01mfrom\u001b[39;00m \u001b[38;5;21;01mscipy\u001b[39;00m\u001b[38;5;21;01m.\u001b[39;00m\u001b[38;5;21;01mspecial\u001b[39;00m \u001b[38;5;28;01mimport\u001b[39;00m psi  \u001b[38;5;66;03m# gamma function utils\u001b[39;00m\n",
            "\u001b[0;31mImportError\u001b[0m: cannot import name 'triu' from 'scipy.linalg' (/Library/Frameworks/Python.framework/Versions/3.12/lib/python3.12/site-packages/scipy/linalg/__init__.py)"
          ]
        }
      ],
      "source": [
        "import string\n",
        "import nltk\n",
        "from nltk.corpus import brown\n",
        "from gensim.models import Word2Vec\n",
        "from sklearn.decomposition import PCA\n",
        "from matplotlib import pyplot"
      ]
    },
    {
      "cell_type": "markdown",
      "metadata": {
        "id": "jSdnJg4EBf_D"
      },
      "source": [
        "# Database"
      ]
    },
    {
      "cell_type": "markdown",
      "metadata": {
        "id": "nyGXrGzFnqvI"
      },
      "source": [
        "Texto obtenido de https://www.penguinrandomhouse.ca/books/209887/ready-player-one-by-ernest-cline/9780307887443/excerpt"
      ]
    },
    {
      "cell_type": "code",
      "execution_count": null,
      "metadata": {
        "id": "Zcnzd4uwCsMC"
      },
      "outputs": [],
      "source": [
        "document = \"\"\"I was jolted awake by the sound of gunfire in one of the neighboring stacks. The shots were followed by a few minutes of muffled shouting and screaming, then silence.\n",
        "\n",
        "Gunfire wasn’t uncommon in the stacks, but it still shook me up. I knew I probably wouldn’t be able to fall back asleep, so I decided to kill the remaining hours until dawn by brushing up on a few coin-op classics. Galaga, Defender, Asteroids. These games were outdated digital dinosaurs that had become museum pieces long before I was born. But I was a gunter, so I didn’t think of them as quaint low-res antiques. To me, they were hallowed artifacts. Pillars of the pantheon. When I played the classics, I did so with a determined sort of reverence.\n",
        "\n",
        "I was curled up in an old sleeping bag in the corner of the trailer’s tiny laundry room, wedged into the gap between the wall and the dryer. I wasn’t welcome in my aunt’s room across the hall, which was fine by me. I preferred to crash in the laundry room anyway. It was warm, it afforded me a limited amount of privacy, and the wireless reception wasn’t too bad. And, as an added bonus, the room smelled like liquid detergent and fabric softener. The rest of the trailer reeked of cat piss and abject poverty.\n",
        "\n",
        "Most of the time I slept in my hideout. But the temperature had dropped below zero the past few nights, and as much as I hated staying at my aunt’s place, it still beat freezing to death.\n",
        "\n",
        "A total of fifteen people lived in my aunt’s trailer. She slept in the smallest of its three bedrooms. The Depperts lived in the bedroom adjacent to her, and the Millers occupied the large master bedroom at the end of the hall. There were six of them, and they paid the largest share of the rent. Our trailer wasn’t as crowded as some of the other units in the stacks. It was a double-wide. Plenty of room for everybody.\n",
        "\n",
        "I pulled out my laptop and powered it on. It was a bulky, heavy beast, almost ten years old. I’d found it in a Dumpster behind the abandoned strip mall across the highway. I’d been able to coax it back to life by replacing its system memory and reloading the stone-age operating system. The processor was slower than a sloth by current standards, but it was fine for my needs. The laptop served as my portable research library, video arcade, and home theater system. Its hard drive was filled with old books, movies, TV show episodes, song files, and nearly every videogame made in the twentieth century.\n",
        "\n",
        "I booted up my emulator and selected Robotron: 2084, one of my all-time favorite games. I’d always loved its frenetic pace and brutal simplicity. Robotron was all about instinct and reflexes. Playing old videogames never failed to clear my mind and set me at ease. If I was feeling depressed or frustrated about my lot in life, all I had to do was tap the Player One button, and my worries would instantly slip away as my mind focused itself on the relentless pixelated onslaught on the screen in front of me. There, inside the game’s two-dimensional universe, life was simple: It’s just you against the machine. Move with your left hand, shoot with your right, and try to stay alive as long as possible.\n",
        "\n",
        "I spent a few hours blasting through wave after wave of Brains, Spheroids, Quarks, and Hulks in my unending battle to Save the Last Human Family! But eventually my fingers started to cramp up and I began to lose my rhythm. When that happened at this level, things deteriorated quickly. I burned through all of my extra lives in a matter of minutes, and my two least-favorite words appeared on the screen: game over.\n",
        "\n",
        "I shut down the emulator and began to browse through my video files. Over the past five years, I’d downloaded every single movie, TV show, and cartoon mentioned in Anorak’s Almanac. I still hadn’t watched all of them yet, of course. That would probably take decades.\n",
        "\n",
        "I selected an episode of Family Ties, an ’80s sitcom about a middle-class family living in central Ohio. I’d downloaded the show because it had been one of Halliday’s favorites, and I figured there was a chance that some clue related to the Hunt might be hidden in one of the episodes. I’d become addicted to the show immediately, and had now watched all 180 episodes, multiple times. I never seemed to get tired of them.\n",
        "\n",
        "Sitting alone in the dark, watching the show on my laptop, I always found myself imagining that I lived in that warm, well-lit house, and that those smiling, understanding people were my family. That there was nothing so wrong in the world that we couldn’t sort it out by the end of a single half-hour episode (or maybe a two-parter, if it was something really serious).\n",
        "\n",
        "My own home life had never even remotely resembled the one depicted in Family Ties, which was probably why I loved the show so much. I was the only child of two teenagers, both refugees who’d met in the stacks where I’d grown up. I don’t remember my father. When I was just a few months old, he was shot dead while looting a grocery store during a power blackout. The only thing I really knew about him was that he loved comic books. I’d found several old flash drives in a box of his things, containing complete runs of The Amazing Spider-Man, The X-Men, and Green Lantern. My mom once told me that my dad had given me an alliterative name, Wade Watts, because he thought it sounded like the secret identity of a superhero. Like Peter Parker or Clark Kent. Knowing that made me think he was must have been a cool guy, despite how he’d died.\n",
        "\n",
        "My mother, Loretta, had raised me on her own. We’d lived in a small RV in another part of the stacks. She had two full-time OASIS jobs, one as a telemarketer, the other as an escort in an online brothel. She used to make me wear earplugs at night so I wouldn’t hear her in the next room, talking dirty to tricks in other time zones. But the earplugs didn’t work very well, so I would watch old movies instead, with the volume turned way up.\n",
        "\n",
        "I was introduced to the OASIS at an early age, because my mother used it as a virtual babysitter. As soon as I was old enough to wear a visor and a pair of haptic gloves, my mom helped me create my first OASIS avatar. Then she stuck me in a corner and went back to work, leaving me to explore an entirely new world, very different from the one I’d known up until then.\n",
        "\n",
        "From that moment on, I was more or less raised by the OASIS’s interactive educational programs, which any kid could access for free. I spent a big chunk of my childhood hanging out in a virtual-reality simulation of Sesame Street, singing songs with friendly Muppets and playing interactive games that taught me how to walk, talk, add, subtract, read, write, and share. Once I’d mastered those skills, it didn’t take me long to discover that the OASIS was also the world’s biggest public library, where even a penniless kid like me had access to every book ever written, every song ever recorded, and every movie, television show, videogame, and piece of artwork ever created. The collected knowledge, art, and amusements of all human civilization were there, waiting for me. But gaining access to all of that information turned out to be something of a mixed blessing. Because that was when I found out the truth.\n",
        "\n",
        "...\n",
        "\n",
        "I don’t know, maybe your experience differed from mine. For me, growing up as a human being on the planet Earth in the twenty-first century was a real kick in the teeth. Existentially speaking.\n",
        "\n",
        "The worst thing about being a kid was that no one told me the truth about my situation. In fact, they did the exact opposite. And, of course, I believed them, because I was just a kid and I didn’t know any better. I mean, Christ, my brain hadn’t even grown to full size yet, so how could I be expected to know when the adults were bullshitting me?\n",
        "\n",
        "So I swallowed all of the dark ages nonsense they fed me. Some time passed. I grew up a little, and I gradually began to figure out that pretty much everyone had been lying to me about pretty much everything since the moment I emerged from my mother’s womb.\n",
        "\n",
        "This was an alarming revelation.\n",
        "\n",
        "It gave me trust issues later in life.\n",
        "\n",
        "I started to figure out the ugly truth as soon as I began to explore the free OASIS libraries. The facts were right there waiting for me, hidden in old books written by people who weren’t afraid to be honest. Artists and scientists and philosophers and poets, many of them long dead. As I read the words they’d left behind, I finally began to get a grip on the situation. My situation. Our situation. What most people referred to as “the human condition.”\n",
        "\n",
        "It was not good news.\n",
        "\n",
        "I wish someone had just told me the truth right up front, as soon as I was old enough to understand it. I wish someone had just said:\n",
        "\n",
        "“Here’s the deal, Wade. You’re something called a ‘human being.’ That’s a really smart kind of animal. Like every other animal on this planet, we’re descended from a single-celled organism that lived millions of years ago. This happened by a process called evolution, and you’ll learn more about it later. But trust me, that’s really how we all got here. There’s proof of it everywhere, buried in the rocks. That story you heard? About how we were all created by a super-powerful dude named God who lives up in the sky? Total bullshit. The whole God thing is actually an ancient fairy tale that people have been telling to one another for thousands of years. We made it all up. Like Santa Claus and the Easter Bunny.\n",
        "\n",
        "“Oh, and by the way . . .​ there’s no Santa Claus or Easter Bunny. Also bullshit. Sorry, kid. Deal with it.\n",
        "\n",
        "“You’re probably wondering what happened before you got here. An awful lot of stuff, actually. Once we evolved into humans, things got pretty interesting. We figured out how to grow food and domesticate animals so we didn’t have to spend all of our time hunting. Our tribes got much bigger, and we spread across the entire planet like an unstoppable virus. Then, after fighting a bunch of wars with each other over land, resources, and our made-up gods, we eventually got all of our tribes organized into a ‘global civilization.’ But, honestly, it wasn’t all that organized, or civilized, and we continued to fight a lot of wars with each other. But we also figured out how to do science, which helped us develop technology. For a bunch of hairless apes, we’ve actually managed to invent some pretty incredible things. Computers. Medicine. Lasers. Microwave ovens. Artificial hearts. Atomic bombs. We even sent a few guys to the moon and brought them back. We also created a global communications network that lets us all talk to each other, all around the world, all the time. Pretty impressive, right?\n",
        "\n",
        "“But that’s where the bad news comes in. Our global civilization came at a huge cost. We needed a whole bunch of energy to build it, and we got that energy by burning fossil fuels, which came from dead plants and animals buried deep in the ground. We used up most of this fuel before you got here, and now it’s pretty much all gone. This means that we no longer have enough energy to keep our civilization running like it was before. So we’ve had to cut back. Big-time. We call this the Global Energy Crisis, and it’s been going on for a while now.\n",
        "\n",
        "“Also, it turns out that burning all of those fossil fuels had some nasty side effects, like raising the temperature of our planet and screwing up the environment. So now the polar ice caps are melting, sea levels are rising, and the weather is all messed up. Plants and animals are dying off in record numbers, and lots of people are starving and homeless. And we’re still fighting wars with each other, mostly over the few resources we have left.\n",
        "\n",
        "“Basically, kid, what this all means is that life is a lot tougher than it used to be, in the Good Old Days, back before you were born. Things used to be awesome, but now they’re kinda terrifying. To be honest, the future doesn’t look too bright. You were born at a pretty crappy time in history. And it looks like things are only gonna get worse from here on out. Human civilization is in ‘decline.’ Some people even say it’s ‘collapsing.’\n",
        "\n",
        "“You’re probably wondering what’s going to happen to you. That’s easy. The same thing is going to happen to you that has happened to every other human being who has ever lived. You’re going to die. We all die. That’s just how it is.\n",
        "\n",
        "“What happens when you die? Well, we’re not completely sure. But the evidence seems to suggest that nothing happens. You’re just dead, your brain stops working, and then you’re not around to ask annoying questions anymore. Those stories you heard? About going to a wonderful place called ‘heaven’ where there is no more pain or death and you live forever in a state of perpetual happiness? Also total bullshit. Just like all that God stuff. There’s no evidence of a heaven and there never was. We made that up too. Wishful thinking. So now you have to live the rest of your life knowing you’re going to die someday and disappear forever.\n",
        "\n",
        "“Sorry.”\n",
        "\n",
        "...\n",
        "\n",
        "OK, on second thought, maybe honesty isn’t the best policy after all. Maybe it isn’t a good idea to tell a newly arrived human being that he’s been born into a world of chaos, pain, and poverty just in time to watch everything fall to pieces. I discovered all of that gradually over several years, and it still made me feel like jumping off a bridge.\n",
        "\n",
        "Luckily, I had access to the OASIS, which was like having an escape hatch into a better reality. The OASIS kept me sane. It was my playground and my preschool, a magical place where anything was possible.\n",
        "\n",
        "The OASIS is the setting of all my happiest childhood memories. When my mom didn’t have to work, we would log in at the same time and play games or go on interactive storybook adventures together. She used to have to force me to log out every night, because I never wanted to return to the real world. Because the real world sucked.\n",
        "\n",
        "I never blamed my mom for the way things were. She was a victim of fate and cruel circumstance, like everyone else. Her generation had it the hardest. She’d been born into a world of plenty, then had to watch it all slowly vanish. More than anything, I remember feeling sorry for her. She was depressed all the time, and taking drugs seemed to be the only thing she truly enjoyed. Of course, they were what eventually killed her. When I was eleven years old, she shot a bad batch of something into her arm and died on our ratty fold-out sofa bed while listening to music on an old mp3 player I’d repaired and given to her the previous Christmas.\"\"\"\n"
      ]
    },
    {
      "cell_type": "code",
      "execution_count": null,
      "metadata": {
        "id": "nxg3mxJHpSpc"
      },
      "outputs": [],
      "source": [
        "#document = document.replace(\",\",\"\") #Eliminar comas\n",
        "#document = document.replace(\".\", \"\") #Eliminar puntos\n",
        "#document = document.replace(\"?\", \"\") #Eliminar ?\n",
        "#document = document.replace(\"!\", \"\") #Eliminar !\n",
        "\n",
        "processed = filter(lambda x: x.isalnum() or x.isspace(), document)\n",
        "document = \"\".join(processed)\n",
        "\n",
        "document = document.split() #Lista de palabras\n",
        "\n",
        "data = []\n",
        "new_sent = []\n",
        "\n",
        "for word in document:\n",
        "  #print(\"Word: \", word)\n",
        "  new_word = word.lower()\n",
        "  if new_word[0] not in string.punctuation:\n",
        "    new_sent.append(new_word)\n",
        "  if len(new_sent) > 0:\n",
        "    data.append(new_sent)\n",
        "\n",
        "#print(\"Data: \", data)"
      ]
    },
    {
      "cell_type": "code",
      "execution_count": null,
      "metadata": {
        "id": "dSzrQKaKTRrl"
      },
      "outputs": [],
      "source": [
        "print(document)"
      ]
    },
    {
      "cell_type": "code",
      "execution_count": null,
      "metadata": {
        "id": "6ZUOXljAn22X"
      },
      "outputs": [],
      "source": [
        "print(data)"
      ]
    },
    {
      "cell_type": "code",
      "execution_count": null,
      "metadata": {
        "id": "k32hV02_Nniv"
      },
      "outputs": [],
      "source": [
        "print(data[1])"
      ]
    },
    {
      "cell_type": "markdown",
      "metadata": {
        "id": "c3pdUiYLCuvH"
      },
      "source": [
        "# Word2Vec Model"
      ]
    },
    {
      "cell_type": "code",
      "execution_count": null,
      "metadata": {
        "id": "QeTUktfzCyHk"
      },
      "outputs": [],
      "source": [
        "# Creating Word2Vec\n",
        "model = Word2Vec(\n",
        "    sentences = data,\n",
        "    vector_size = 50,\n",
        "    sg = 1, #skip-gram, 0 for CBOW\n",
        "    window = 10, #5 for CBOW\n",
        ")"
      ]
    },
    {
      "cell_type": "markdown",
      "metadata": {
        "id": "MkVho9_6C3iz"
      },
      "source": [
        "## Embedding (vector) of a word"
      ]
    },
    {
      "cell_type": "code",
      "execution_count": null,
      "metadata": {
        "id": "f0dkwwYeC-do"
      },
      "outputs": [],
      "source": [
        "# Vector for word love\n",
        "print(\"Vector for OASIS:\")\n",
        "embedding = model.wv[\"oasis\"]\n",
        "print(embedding)\n",
        "print(len(embedding))"
      ]
    },
    {
      "cell_type": "markdown",
      "metadata": {
        "id": "wYZEPOquDTLC"
      },
      "source": [
        "## Similar Words"
      ]
    },
    {
      "cell_type": "code",
      "execution_count": null,
      "metadata": {
        "id": "lL-0iN5nDXIw"
      },
      "outputs": [],
      "source": [
        "# Finding most similar words\n",
        "print(\"3 words similar to visor\")\n",
        "words = model.wv.most_similar(\"visor\", topn=3)\n",
        "for word in words:\n",
        "  print(word)\n",
        "print()"
      ]
    },
    {
      "cell_type": "markdown",
      "metadata": {
        "id": "UHQgzxBQD-72"
      },
      "source": [
        "# Visualize Data"
      ]
    },
    {
      "cell_type": "code",
      "execution_count": null,
      "metadata": {
        "id": "XuSi9JO8EBbi"
      },
      "outputs": [],
      "source": [
        "def visualize(embeddings):\n",
        "  pca = PCA(n_components=2)\n",
        "  result = pca.fit_transform(embeddings)\n",
        "\n",
        "  pyplot.scatter(result[:, 0], result[:, 1])\n",
        "  for i, word in enumerate(words):\n",
        "      pyplot.annotate(word, xy=(result[i, 0], result[i, 1]))\n",
        "  pyplot.show()"
      ]
    },
    {
      "cell_type": "markdown",
      "metadata": {
        "id": "_3mpUcpVFZWC"
      },
      "source": [
        "## Complete Paragraph's Words"
      ]
    },
    {
      "cell_type": "code",
      "execution_count": null,
      "metadata": {
        "id": "4TnN-6YpFiD-"
      },
      "outputs": [],
      "source": [
        "words = model.wv.index_to_key\n",
        "\n",
        "X = model.wv[words]\n",
        "\n",
        "visualize(X)"
      ]
    },
    {
      "cell_type": "markdown",
      "metadata": {
        "id": "-dwx3HcAFn5R"
      },
      "source": [
        "## Some selected words"
      ]
    },
    {
      "cell_type": "code",
      "execution_count": null,
      "metadata": {
        "id": "VO8j-qFY62vQ"
      },
      "outputs": [],
      "source": [
        "words = [\"pair\", \"haptic\", \"gloves\",\"oasis\",\"mother\", \"loretta\",\"emulator\",\"game\", \"human\", \"being\",\"laptop\",\"tv\"]\n",
        "\n",
        "X = model.wv[words]\n",
        "\n",
        "visualize(X)"
      ]
    },
    {
      "cell_type": "markdown",
      "metadata": {
        "id": "b8z2_OrTDk1C"
      },
      "source": [
        "# Prediction"
      ]
    },
    {
      "cell_type": "markdown",
      "metadata": {
        "id": "HUzmqYqzDpf1"
      },
      "source": [
        "From the document, using the sentence: \"It was a bulky, heavy beast, almost ten years old\""
      ]
    },
    {
      "cell_type": "code",
      "execution_count": null,
      "metadata": {
        "id": "7lQpmjJX_4Ui"
      },
      "outputs": [],
      "source": [
        "#Return a list of words. These words are probable center words in the given context. CBOW style.\n",
        "model.predict_output_word([\"almost\",\"years\"]) #ten"
      ]
    },
    {
      "cell_type": "code",
      "execution_count": null,
      "metadata": {
        "id": "3bbQvJ5CDLTg"
      },
      "outputs": [],
      "source": [
        "#It was a bulky, heavy beast, almost ten years old\n",
        "model.predict_output_word([\"it\",\"was\",\"heavy\",\"beast\"]) #bulky"
      ]
    },
    {
      "cell_type": "code",
      "execution_count": null,
      "metadata": {
        "id": "ePbKbH_GC8e0"
      },
      "outputs": [],
      "source": [
        "#It was a bulky, heavy beast, almost ten years old\n",
        "model.predict_output_word([\"was\",\"heavy\"]) #bulky"
      ]
    },
    {
      "cell_type": "code",
      "execution_count": null,
      "metadata": {
        "id": "K9u0udgBDU73"
      },
      "outputs": [],
      "source": [
        "#It was a bulky, heavy beast, almost ten years old\n",
        "model.predict_output_word([\"bulky\",\"heavy\",\"almost\",\"ten\"]) #beast"
      ]
    }
  ],
  "metadata": {
    "accelerator": "GPU",
    "colab": {
      "gpuType": "T4",
      "provenance": []
    },
    "kernelspec": {
      "display_name": "Python 3",
      "name": "python3"
    },
    "language_info": {
      "codemirror_mode": {
        "name": "ipython",
        "version": 3
      },
      "file_extension": ".py",
      "mimetype": "text/x-python",
      "name": "python",
      "nbconvert_exporter": "python",
      "pygments_lexer": "ipython3",
      "version": "3.12.3"
    }
  },
  "nbformat": 4,
  "nbformat_minor": 0
}
